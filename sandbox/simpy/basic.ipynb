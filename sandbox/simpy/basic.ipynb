{
 "cells": [
  {
   "cell_type": "markdown",
   "metadata": {},
   "source": [
    "https://www.ibm.com/developerworks/jp/linux/library/l-simpy/\n",
    "https://pypi.python.org/pypi/simpy"
   ]
  },
  {
   "cell_type": "code",
   "execution_count": 1,
   "metadata": {
    "collapsed": false
   },
   "outputs": [],
   "source": [
    "import simpy"
   ]
  },
  {
   "cell_type": "code",
   "execution_count": 2,
   "metadata": {
    "collapsed": false
   },
   "outputs": [],
   "source": [
    "def clock(env, name, tick):\n",
    "    while True:\n",
    "        print(name, env.now)\n",
    "        yield env.timeout(tick)\n",
    "\n",
    "\n",
    "env = simpy.Environment()"
   ]
  },
  {
   "cell_type": "code",
   "execution_count": 3,
   "metadata": {
    "collapsed": false
   },
   "outputs": [
    {
     "data": {
      "text/plain": [
       "<Process(clock) object at 0x10ebe2860>"
      ]
     },
     "execution_count": 3,
     "metadata": {},
     "output_type": "execute_result"
    }
   ],
   "source": [
    "env.process(clock(env, 'fast', 0.5))"
   ]
  },
  {
   "cell_type": "code",
   "execution_count": 4,
   "metadata": {
    "collapsed": false
   },
   "outputs": [
    {
     "data": {
      "text/plain": [
       "<Process(clock) object at 0x10ebe2748>"
      ]
     },
     "execution_count": 4,
     "metadata": {},
     "output_type": "execute_result"
    }
   ],
   "source": [
    "env.process(clock(env, 'slow', 1))"
   ]
  },
  {
   "cell_type": "code",
   "execution_count": 5,
   "metadata": {
    "collapsed": false
   },
   "outputs": [
    {
     "name": "stdout",
     "output_type": "stream",
     "text": [
      "fast 0\n",
      "slow 0\n",
      "fast 0.5\n",
      "slow 1\n",
      "fast 1.0\n",
      "fast 1.5\n"
     ]
    }
   ],
   "source": [
    " env.run(until=2)"
   ]
  },
  {
   "cell_type": "markdown",
   "metadata": {},
   "source": [
    "https://simpy.readthedocs.io/en/latest/simpy_intro/index.html\n",
    "https://simpy.readthedocs.io/en/latest/simpy_intro/basic_concepts.html\n",
    "\n",
    "- simpy.Environment: シミュレーション環境\n",
    "- 単位時間あたりの処理を行う関数（プロセス）をgeneratorとして実装（yieldsを返す)\n",
    "    - simpy.Environmentを受け取り、Environment.timeoutを返す\n",
    "- Environment.processでgeneratorを配置\n",
    "- Environment.run でプロセスが呼ばれる。"
   ]
  },
  {
   "cell_type": "code",
   "execution_count": 20,
   "metadata": {
    "collapsed": true
   },
   "outputs": [],
   "source": [
    "def car(env):\n",
    "    while True:\n",
    "        print(u\"停止: %d\" % env.now)\n",
    "        parking_duration = 5\n",
    "        yield env.timeout(parking_duration)\n",
    "        \n",
    "        print('発車:%d' % env.now)\n",
    "        trip_duration = 2\n",
    "        yield env.timeout(trip_duration)"
   ]
  },
  {
   "cell_type": "code",
   "execution_count": 23,
   "metadata": {
    "collapsed": false
   },
   "outputs": [
    {
     "name": "stdout",
     "output_type": "stream",
     "text": [
      "停止: 0\n",
      "発車:5\n",
      "停止: 7\n",
      "発車:12\n",
      "停止: 14\n"
     ]
    }
   ],
   "source": [
    "# import simpy\n",
    "env = simpy.Environment()\n",
    "env.process(car(env))\n",
    "env.run(until=15)"
   ]
  },
  {
   "cell_type": "markdown",
   "metadata": {},
   "source": [
    "https://simpy.readthedocs.io/en/latest/simpy_intro/process_interaction.html"
   ]
  },
  {
   "cell_type": "code",
   "execution_count": 31,
   "metadata": {
    "collapsed": true
   },
   "outputs": [],
   "source": [
    "class Car(object):\n",
    "    def __init__(self, env):\n",
    "        self.env = env\n",
    "        self.action = env.process(self.run())\n",
    "\n",
    "\n",
    "    def run(self):\n",
    "        while True:\n",
    "            print('Start parking and charing at %d' % self.env.now)\n",
    "            charge_duration = 5\n",
    "            yield self.env.process(self.charge(charge_duration))\n",
    "            \n",
    "            print('Start driving at %d' % self.env.now)\n",
    "            trip_duration=2\n",
    "            yield self.env.timeout(trip_duration)\n",
    "\n",
    "    def charge(self, duration):\n",
    "        yield self.env.timeout(duration)"
   ]
  },
  {
   "cell_type": "code",
   "execution_count": 35,
   "metadata": {
    "collapsed": false
   },
   "outputs": [
    {
     "name": "stdout",
     "output_type": "stream",
     "text": [
      "Start parking and charing at 0\n",
      "Start driving at 5\n",
      "Start parking and charing at 7\n",
      "Start driving at 12\n",
      "Start parking and charing at 14\n"
     ]
    }
   ],
   "source": [
    "# import simpy\n",
    "env = simpy.Environment()\n",
    "car = Car(env)\n",
    "env.run (until=15)"
   ]
  },
  {
   "cell_type": "code",
   "execution_count": 38,
   "metadata": {
    "collapsed": true
   },
   "outputs": [],
   "source": [
    "# ドライバーがとめる動き。\n",
    "def driver(env, car):\n",
    "    yield env.timeout(3)\n",
    "    car.action.interrupt()"
   ]
  },
  {
   "cell_type": "code",
   "execution_count": 37,
   "metadata": {
    "collapsed": true
   },
   "outputs": [],
   "source": [
    "class Car(object):\n",
    "    def __init__(self, env):\n",
    "        self.env = env\n",
    "        self.action = env.process(self.run())\n",
    "\n",
    "\n",
    "    def run(self):\n",
    "        while True:\n",
    "            print('Start parking and charing at %d' % self.env.now)\n",
    "            charge_duration = 5\n",
    "            try:\n",
    "                yield self.env.process(self.charge(charge_duration))\n",
    "            except simpy.Interrupt:\n",
    "                print('Was interrupted. Hope, the battery is full enough ...')\n",
    "\n",
    "            print('Start driving at %d' % self.env.now)\n",
    "            trip_duration=2\n",
    "            yield self.env.timeout(trip_duration)\n",
    "\n",
    "    def charge(self, duration):\n",
    "        yield self.env.timeout(duration)"
   ]
  },
  {
   "cell_type": "code",
   "execution_count": 43,
   "metadata": {
    "collapsed": false
   },
   "outputs": [
    {
     "name": "stdout",
     "output_type": "stream",
     "text": [
      "Start parking and charing at 0\n",
      "Was interrupted. Hope, the battery is full enough ...\n",
      "Start driving at 3\n",
      "Start parking and charing at 5\n",
      "Start driving at 10\n",
      "Start parking and charing at 12\n"
     ]
    }
   ],
   "source": [
    "env = simpy.Environment()\n",
    "car = Car(env)\n",
    "env.process(driver(env, car))\n",
    "env.run(until=15) # 初回は５単位時間かけずにcharge-->driveになっている。"
   ]
  },
  {
   "cell_type": "markdown",
   "metadata": {},
   "source": [
    "https://simpy.readthedocs.io/en/latest/simpy_intro/shared_resources.html"
   ]
  },
  {
   "cell_type": "code",
   "execution_count": 126,
   "metadata": {
    "collapsed": false
   },
   "outputs": [],
   "source": [
    "def car(env, name, bcs, driving_time, charge_duration):\n",
    "    yield env.timeout(driving_time)\n",
    "    print('%s arriving at %d' % (name, env.now))\n",
    "    with bcs.request() as req:\n",
    "        yield req\n",
    "\n",
    "        print('%s starting to charge at %s' % (name, env.now))\n",
    "        yield env.timeout(charge_duration)\n",
    "        print('%s leaving the bcs at %s' % (name,env.now))"
   ]
  },
  {
   "cell_type": "code",
   "execution_count": 127,
   "metadata": {
    "collapsed": true
   },
   "outputs": [],
   "source": [
    "# import simpy\n",
    "env = simpy.Environment()\n",
    "bcs = simpy.Resource(env, capacity=2)"
   ]
  },
  {
   "cell_type": "code",
   "execution_count": 128,
   "metadata": {
    "collapsed": true
   },
   "outputs": [],
   "source": [
    "for i in range(4):\n",
    "    env.process(car(env, 'Car %d' % i, bcs, i*2, 5))"
   ]
  },
  {
   "cell_type": "code",
   "execution_count": 129,
   "metadata": {
    "collapsed": false
   },
   "outputs": [
    {
     "name": "stdout",
     "output_type": "stream",
     "text": [
      "Car 0 arriving at 0\n",
      "Car 0 starting to charge at 0\n",
      "Car 1 arriving at 2\n",
      "Car 1 starting to charge at 2\n",
      "Car 2 arriving at 4\n",
      "Car 0 leaving the bcs at 5\n",
      "Car 2 starting to charge at 5\n",
      "Car 3 arriving at 6\n",
      "Car 1 leaving the bcs at 7\n",
      "Car 3 starting to charge at 7\n",
      "Car 2 leaving the bcs at 10\n",
      "Car 3 leaving the bcs at 12\n"
     ]
    }
   ],
   "source": [
    "env.run()"
   ]
  },
  {
   "cell_type": "markdown",
   "metadata": {},
   "source": [
    "https://simpy.readthedocs.io/en/latest/topical_guides/monitoring.html"
   ]
  },
  {
   "cell_type": "code",
   "execution_count": 134,
   "metadata": {
    "collapsed": false
   },
   "outputs": [
    {
     "name": "stdout",
     "output_type": "stream",
     "text": [
      "Collected [0, 1, 3, 6, 10]\n"
     ]
    }
   ],
   "source": [
    "# import simpy\n",
    "data = []\n",
    "\n",
    "def test_process(env, data):\n",
    "    val = 0\n",
    "    for i in range(5):\n",
    "        val += env.now\n",
    "        data.append(val)\n",
    "        yield env.timeout(1)\n",
    "\n",
    "env = simpy.Environment()\n",
    "p = env.process(test_process(env, data))\n",
    "env.run(p)\n",
    "print('Collected', data)"
   ]
  },
  {
   "cell_type": "code",
   "execution_count": 135,
   "metadata": {
    "collapsed": false
   },
   "outputs": [
    {
     "name": "stdout",
     "output_type": "stream",
     "text": [
      "[(0, 1, 0), (1, 0, 0)]\n"
     ]
    }
   ],
   "source": [
    "from functools import partial, wraps\n",
    "import simpy\n",
    "\n",
    "def patch_resource(resource, pre=None, post=None):\n",
    "\n",
    "\tdef get_wrapper(func):\n",
    "\n",
    "\t\t@wraps(func)\n",
    "\t\tdef wrapper(*args, **kwargs):\n",
    "\t\t\tif pre:\n",
    "\t\t\t\tpre(resource)\n",
    "\n",
    "\t\t\tret = func(*args, **kwargs)\n",
    "\n",
    "\t\t\tif post:\n",
    "\t\t\t\tpost(resource)\n",
    "\n",
    "\t\t\treturn ret\n",
    "\t\treturn wrapper\n",
    "\t\n",
    "\n",
    "\tfor name in ['put', 'get', 'request', 'release']:\n",
    "\t\tif hasattr(resource, name):\n",
    "\t\t\tsetattr(resource, name, get_wrapper(getattr(resource, name)))\n",
    "\n",
    "\n",
    "def monitor(data, resource):\n",
    "\titem = (\n",
    "\t\tresource._env.now,\n",
    "\t\tresource.count,\n",
    "\t\tlen(resource.queue),\n",
    "\t)\n",
    "\tdata.append(item)\n",
    "\n",
    "def test_process(env, res):\n",
    "\twith res.request() as req:\n",
    "\t\tyield req\n",
    "\t\tyield env.timeout(1)\n",
    "\n",
    "env = simpy.Environment()\n",
    "\n",
    "res = simpy.Resource(env, capacity=1)\n",
    "data = []\n",
    "\n",
    "monitor = partial(monitor, data)\n",
    "patch_resource(res, post=monitor)\n",
    "\n",
    "p = env.process(test_process(env, res))\n",
    "env.run(p)\n",
    "\n",
    "print(data)\n"
   ]
  },
  {
   "cell_type": "markdown",
   "metadata": {},
   "source": [
    "- 参考\n",
    "https://hiroakis.com/blog/2013/07/14/pythonのfunctoolsモジュールデコレータ、部分適用/"
   ]
  },
  {
   "cell_type": "code",
   "execution_count": null,
   "metadata": {
    "collapsed": true
   },
   "outputs": [],
   "source": []
  }
 ],
 "metadata": {
  "kernelspec": {
   "display_name": "Python 3",
   "language": "python",
   "name": "python3"
  },
  "language_info": {
   "codemirror_mode": {
    "name": "ipython",
    "version": 3
   },
   "file_extension": ".py",
   "mimetype": "text/x-python",
   "name": "python",
   "nbconvert_exporter": "python",
   "pygments_lexer": "ipython3",
   "version": "3.4.2"
  }
 },
 "nbformat": 4,
 "nbformat_minor": 1
}

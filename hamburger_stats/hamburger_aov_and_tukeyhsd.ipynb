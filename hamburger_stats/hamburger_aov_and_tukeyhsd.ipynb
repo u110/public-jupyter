{
 "cells": [
  {
   "cell_type": "markdown",
   "metadata": {},
   "source": [
    "## ハンバーガー統計学の分散分析 on R\n",
    "\n",
    "- http://kogolab.chillout.jp/elearn/hamburger/chap6/sec3.html"
   ]
  },
  {
   "cell_type": "code",
   "execution_count": 41,
   "metadata": {
    "collapsed": false
   },
   "outputs": [],
   "source": [
    "d <- data.frame(\n",
    "    wakuwaku=c(80,75,80,90,95,80,80,85,85,80,90,80,75,90,85,85,90,90,85,80),\n",
    "    mogumogu=c(75,70,80,85,90,75,85,80,80,75,80,75,70,85,80,75,80,80,90,80),\n",
    "    pakupaku=c(80,80,80,90,95,85,95,90,85,90,95,85,98,95,85,85,90,90,85,85)\n",
    ")"
   ]
  },
  {
   "cell_type": "code",
   "execution_count": 42,
   "metadata": {
    "collapsed": false
   },
   "outputs": [],
   "source": [
    "library(\"dplyr\")\n",
    "library(\"reshape2\")"
   ]
  },
  {
   "cell_type": "code",
   "execution_count": 43,
   "metadata": {
    "collapsed": false
   },
   "outputs": [
    {
     "name": "stderr",
     "output_type": "stream",
     "text": [
      "No id variables; using all as measure variables\n"
     ]
    },
    {
     "data": {
      "text/plain": [
       "     variable      value      \n",
       " wakuwaku:20   Min.   :70.00  \n",
       " mogumogu:20   1st Qu.:80.00  \n",
       " pakupaku:20   Median :85.00  \n",
       "               Mean   :83.88  \n",
       "               3rd Qu.:90.00  \n",
       "               Max.   :98.00  "
      ]
     },
     "metadata": {},
     "output_type": "display_data"
    }
   ],
   "source": [
    "dd <- d %>% reshape2::melt()\n",
    "dd %>% summary()"
   ]
  },
  {
   "cell_type": "code",
   "execution_count": 44,
   "metadata": {
    "collapsed": false
   },
   "outputs": [
    {
     "data": {
      "text/plain": [
       "                 Df Sum Sq Mean Sq F value   Pr(>F)    \n",
       "factor(variable)  2  748.6   374.3   12.22 3.82e-05 ***\n",
       "Residuals        57 1745.6    30.6                     \n",
       "---\n",
       "Signif. codes:  0 ‘***’ 0.001 ‘**’ 0.01 ‘*’ 0.05 ‘.’ 0.1 ‘ ’ 1"
      ]
     },
     "metadata": {},
     "output_type": "display_data"
    }
   ],
   "source": [
    "dd %>% aov(value~factor(variable), data=.) %>% summary()"
   ]
  },
  {
   "cell_type": "markdown",
   "metadata": {},
   "source": [
    "- F value: 12.22 [ハンバーガー統計学](http://kogolab.chillout.jp/elearn/hamburger/chap6/sec3.html)と同じ結果になった。\n",
    "\n",
    "- P値も0.05よりだいぶ小さいので $H_0$ (ここでは3店のポテトの評価に差はないという仮説) は棄却される\n",
    "\n",
    "\n",
    "- [ハンバーガー統計学](http://kogolab.chillout.jp/elearn/hamburger/chap6/sec3.html)からの引用\n",
    "> 多重比較\n",
    "> なお、どの組み合わせで差があるかということを、さらに調べるためには、多重比較という方法があります。\n",
    "> 多重比較には、何種類かのやり方がありますが、この教材では扱いません。\n",
    "\n",
    "- ここでは多重比較については実施されていないので多重比較検定手法のひとつ、TukeyHSDで実施"
   ]
  },
  {
   "cell_type": "code",
   "execution_count": 45,
   "metadata": {
    "collapsed": false
   },
   "outputs": [
    {
     "data": {
      "text/plain": [
       "  Tukey multiple comparisons of means\n",
       "    95% family-wise confidence level\n",
       "\n",
       "Fit: aov(formula = value ~ factor(variable), data = .)\n",
       "\n",
       "$`factor(variable)`\n",
       "                   diff         lwr        upr     p adj\n",
       "mogumogu-wakuwaku -4.50 -8.71114131 -0.2888587 0.0336261\n",
       "pakupaku-wakuwaku  4.15 -0.06114131  8.3611413 0.0542391\n",
       "pakupaku-mogumogu  8.65  4.43885869 12.8611413 0.0000210\n"
      ]
     },
     "metadata": {},
     "output_type": "display_data"
    }
   ],
   "source": [
    "dd %>% aov(value~factor(variable), data=.) %>% TukeyHSD()"
   ]
  },
  {
   "cell_type": "markdown",
   "metadata": {},
   "source": [
    "- p adj\n",
    "    - 5％水準 pakupaku-mogumogu間で有意な差があると言えそう。\n",
    "    - 残りの2つの組み合わせについても5％水準だとギリギリ\n",
    "    - 1％水準だと `pakupaku-mogumogu` のみ有意な差があるとわかる。"
   ]
  },
  {
   "cell_type": "markdown",
   "metadata": {},
   "source": [
    "- 多重比較検定について参考にしたリンク\n",
    "   - http://monge.tec.fukuoka-u.ac.jp/r_analysis/test_t05_anova.html\n",
    "   - http://bio-info.biz/tips/r_tukey-kramer_test.html"
   ]
  },
  {
   "cell_type": "code",
   "execution_count": null,
   "metadata": {
    "collapsed": true
   },
   "outputs": [],
   "source": []
  }
 ],
 "metadata": {
  "kernelspec": {
   "display_name": "R",
   "language": "R",
   "name": "ir"
  },
  "language_info": {
   "codemirror_mode": "r",
   "file_extension": ".r",
   "mimetype": "text/x-r-source",
   "name": "R",
   "pygments_lexer": "r",
   "version": "3.2.2"
  }
 },
 "nbformat": 4,
 "nbformat_minor": 2
}

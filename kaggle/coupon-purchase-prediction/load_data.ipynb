{
 "cells": [
  {
   "cell_type": "code",
   "execution_count": 23,
   "metadata": {
    "collapsed": false
   },
   "outputs": [],
   "source": [
    "library(\"magrittr\")\n",
    "library(\"dplyr\")"
   ]
  },
  {
   "cell_type": "code",
   "execution_count": 22,
   "metadata": {
    "collapsed": false
   },
   "outputs": [
    {
     "name": "stdout",
     "output_type": "stream",
     "text": [
      "################## coupon_area_test ##################"
     ]
    },
    {
     "data": {
      "text/html": [
       "<table>\n",
       "<thead><tr><th></th><th scope=col>SMALL_AREA_NAME</th><th scope=col>PREF_NAME</th><th scope=col>COUPON_ID_hash</th></tr></thead>\n",
       "<tbody>\n",
       "\t<tr><th scope=row>1</th><td>京都</td><td>京都府</td><td>c76ea297ebd3a5a4d3bf9f75269f66fa</td></tr>\n",
       "\t<tr><th scope=row>2</th><td>ミナミ他</td><td>大阪府</td><td>c76ea297ebd3a5a4d3bf9f75269f66fa</td></tr>\n",
       "\t<tr><th scope=row>3</th><td>銀座・新橋・東京・上野</td><td>東京都</td><td>dd74dc95ca294afa02db40a543ae1763</td></tr>\n",
       "\t<tr><th scope=row>4</th><td>川崎・湘南・箱根他</td><td>神奈川県</td><td>c65b550cbef918796ad53b1d5b7165c1</td></tr>\n",
       "\t<tr><th scope=row>5</th><td>埼玉</td><td>埼玉県</td><td>c65b550cbef918796ad53b1d5b7165c1</td></tr>\n",
       "\t<tr><th scope=row>6</th><td>横浜</td><td>神奈川県</td><td>c65b550cbef918796ad53b1d5b7165c1</td></tr>\n",
       "</tbody>\n",
       "</table>\n"
      ],
      "text/latex": [
       "\\begin{tabular}{r|lll}\n",
       "  & SMALL_AREA_NAME & PREF_NAME & COUPON_ID_hash\\\\\n",
       "\\hline\n",
       "\t1 & 京都 & 京都府 & c76ea297ebd3a5a4d3bf9f75269f66fa\\\\\n",
       "\t2 & ミナミ他 & 大阪府 & c76ea297ebd3a5a4d3bf9f75269f66fa\\\\\n",
       "\t3 & 銀座・新橋・東京・上野 & 東京都 & dd74dc95ca294afa02db40a543ae1763\\\\\n",
       "\t4 & 川崎・湘南・箱根他 & 神奈川県 & c65b550cbef918796ad53b1d5b7165c1\\\\\n",
       "\t5 & 埼玉 & 埼玉県 & c65b550cbef918796ad53b1d5b7165c1\\\\\n",
       "\t6 & 横浜 & 神奈川県 & c65b550cbef918796ad53b1d5b7165c1\\\\\n",
       "\\end{tabular}\n"
      ],
      "text/plain": [
       "         SMALL_AREA_NAME PREF_NAME                   COUPON_ID_hash\n",
       "1                   京都    京都府 c76ea297ebd3a5a4d3bf9f75269f66fa\n",
       "2               ミナミ他    大阪府 c76ea297ebd3a5a4d3bf9f75269f66fa\n",
       "3 銀座・新橋・東京・上野    東京都 dd74dc95ca294afa02db40a543ae1763\n",
       "4     川崎・湘南・箱根他  神奈川県 c65b550cbef918796ad53b1d5b7165c1\n",
       "5                   埼玉    埼玉県 c65b550cbef918796ad53b1d5b7165c1\n",
       "6                   横浜  神奈川県 c65b550cbef918796ad53b1d5b7165c1"
      ]
     },
     "execution_count": 22,
     "metadata": {},
     "output_type": "execute_result"
    },
    {
     "data": {
      "text/plain": [
       "               SMALL_AREA_NAME    PREF_NAME   \n",
       " 銀座・新橋・東京・上野:  68   東京都  : 371  \n",
       " キタ                  :  63   神奈川県: 116  \n",
       " 横浜                  :  58   大阪府  : 114  \n",
       " 千葉                  :  58   千葉県  :  58  \n",
       " 川崎・湘南・箱根他    :  58   兵庫県  :  58  \n",
       " 兵庫                  :  58   埼玉県  :  52  \n",
       " (Other)               :1802   (Other) :1396  \n",
       "                          COUPON_ID_hash\n",
       " 53e6af8b95c14358a345910643a85382:  30  \n",
       " c3e584b0a1275b2878ece81f2b09a94a:  25  \n",
       " 97bab5a07fe422716e899f452d6beff2:  21  \n",
       " 5723e6dc3cfcdb73119e91c9bd37fd1b:  20  \n",
       " cd6752acd088c699d4f76c2252ea4458:  18  \n",
       " 2442e2942cb09f25359eb0f4ef9c2eac:  17  \n",
       " (Other)                         :2034  "
      ]
     },
     "execution_count": 22,
     "metadata": {},
     "output_type": "execute_result"
    },
    {
     "name": "stdout",
     "output_type": "stream",
     "text": [
      "################## coupon_area_train ##################"
     ]
    },
    {
     "data": {
      "text/html": [
       "<table>\n",
       "<thead><tr><th></th><th scope=col>SMALL_AREA_NAME</th><th scope=col>PREF_NAME</th><th scope=col>COUPON_ID_hash</th></tr></thead>\n",
       "<tbody>\n",
       "\t<tr><th scope=row>1</th><td>埼玉</td><td>埼玉県</td><td>6b263844241eea98c5a97f1335ea82af</td></tr>\n",
       "\t<tr><th scope=row>2</th><td>千葉</td><td>千葉県</td><td>cc031f250e8bad1e24060263b9fc0ddd</td></tr>\n",
       "\t<tr><th scope=row>3</th><td>千葉</td><td>千葉県</td><td>ba5e9b7453ca52ff711635a5d2e8102d</td></tr>\n",
       "\t<tr><th scope=row>4</th><td>千葉</td><td>千葉県</td><td>3e1ffbedca3569f9e8032d401e8cb4e6</td></tr>\n",
       "\t<tr><th scope=row>5</th><td>千葉</td><td>千葉県</td><td>782934b6c815b4030ea204eef7d4a734</td></tr>\n",
       "\t<tr><th scope=row>6</th><td>千葉</td><td>千葉県</td><td>439db4336f84d4e4a13290fc0d7e6c4e</td></tr>\n",
       "</tbody>\n",
       "</table>\n"
      ],
      "text/latex": [
       "\\begin{tabular}{r|lll}\n",
       "  & SMALL_AREA_NAME & PREF_NAME & COUPON_ID_hash\\\\\n",
       "\\hline\n",
       "\t1 & 埼玉 & 埼玉県 & 6b263844241eea98c5a97f1335ea82af\\\\\n",
       "\t2 & 千葉 & 千葉県 & cc031f250e8bad1e24060263b9fc0ddd\\\\\n",
       "\t3 & 千葉 & 千葉県 & ba5e9b7453ca52ff711635a5d2e8102d\\\\\n",
       "\t4 & 千葉 & 千葉県 & 3e1ffbedca3569f9e8032d401e8cb4e6\\\\\n",
       "\t5 & 千葉 & 千葉県 & 782934b6c815b4030ea204eef7d4a734\\\\\n",
       "\t6 & 千葉 & 千葉県 & 439db4336f84d4e4a13290fc0d7e6c4e\\\\\n",
       "\\end{tabular}\n"
      ],
      "text/plain": [
       "  SMALL_AREA_NAME PREF_NAME                   COUPON_ID_hash\n",
       "1            埼玉    埼玉県 6b263844241eea98c5a97f1335ea82af\n",
       "2            千葉    千葉県 cc031f250e8bad1e24060263b9fc0ddd\n",
       "3            千葉    千葉県 ba5e9b7453ca52ff711635a5d2e8102d\n",
       "4            千葉    千葉県 3e1ffbedca3569f9e8032d401e8cb4e6\n",
       "5            千葉    千葉県 782934b6c815b4030ea204eef7d4a734\n",
       "6            千葉    千葉県 439db4336f84d4e4a13290fc0d7e6c4e"
      ]
     },
     "execution_count": 22,
     "metadata": {},
     "output_type": "execute_result"
    },
    {
     "data": {
      "text/plain": [
       "                     SMALL_AREA_NAME      PREF_NAME    \n",
       " キタ                        :  3596   東京都  :19720  \n",
       " ミナミ他                    :  3346   大阪府  : 6942  \n",
       " 銀座・新橋・東京・上野      :  3298   神奈川県: 6152  \n",
       " 愛知                        :  3275   愛知県  : 3275  \n",
       " 新宿・高田馬場・中野・吉祥寺:  3222   福岡県  : 3135  \n",
       " 横浜                        :  3206   埼玉県  : 3035  \n",
       " (Other)                     :118242   (Other) :95926  \n",
       "                          COUPON_ID_hash  \n",
       " 102f4950a16930bdeb0608ed6ce4d36a:    55  \n",
       " 121321128607aee70bc78fe70f7d0de2:    55  \n",
       " 16072ed5923d881dbe503c3d58661f3c:    55  \n",
       " 171acaa42013139c655bf662f69626a9:    55  \n",
       " 1a0f8f886dc9393a5fc372749e267269:    55  \n",
       " 3326789b435201edb977c9d7b8ac6398:    55  \n",
       " (Other)                         :137855  "
      ]
     },
     "execution_count": 22,
     "metadata": {},
     "output_type": "execute_result"
    },
    {
     "name": "stdout",
     "output_type": "stream",
     "text": [
      "################## coupon_detail_train ##################"
     ]
    },
    {
     "data": {
      "text/html": [
       "<table>\n",
       "<thead><tr><th></th><th scope=col>ITEM_COUNT</th><th scope=col>I_DATE</th><th scope=col>SMALL_AREA_NAME</th><th scope=col>PURCHASEID_hash</th><th scope=col>USER_ID_hash</th><th scope=col>COUPON_ID_hash</th></tr></thead>\n",
       "<tbody>\n",
       "\t<tr><th scope=row>1</th><td>1</td><td>2012-03-28 15:06:06</td><td>兵庫</td><td>c820a8882374a4e472f0984a8825893f</td><td>d9dca3cb44bab12ba313eaa681f663eb</td><td>34c48f84026e08355dc3bd19b427f09a</td></tr>\n",
       "\t<tr><th scope=row>2</th><td>1</td><td>2011-07-04 23:52:54</td><td>銀座・新橋・東京・上野</td><td>1b4eb2435421ede98c8931c42e8220ec</td><td>560574a339f1b25e57b0221e486907ed</td><td>767673b7a777854a92b73b0934ddfae7</td></tr>\n",
       "\t<tr><th scope=row>3</th><td>1</td><td>2011-07-16 00:52:49</td><td>恵比寿・目黒・品川</td><td>36b5f9ba46c44b65587d0b16f2e4c77f</td><td>560574a339f1b25e57b0221e486907ed</td><td>4f3b5b91d9831192557c056022fdc1f2</td></tr>\n",
       "\t<tr><th scope=row>4</th><td>1</td><td>2011-07-16 00:54:53</td><td>恵比寿・目黒・品川</td><td>2f30f46937cc9004774e576914b2aa1a</td><td>560574a339f1b25e57b0221e486907ed</td><td>4f3b5b91d9831192557c056022fdc1f2</td></tr>\n",
       "\t<tr><th scope=row>5</th><td>1</td><td>2011-07-16 00:55:52</td><td>恵比寿・目黒・品川</td><td>4d000c64a55ac573d0ae1a8f03677f50</td><td>560574a339f1b25e57b0221e486907ed</td><td>4f3b5b91d9831192557c056022fdc1f2</td></tr>\n",
       "\t<tr><th scope=row>6</th><td>1</td><td>2011-07-16 00:57:09</td><td>恵比寿・目黒・品川</td><td>d8b030c8a4a2c1051997092a2985b373</td><td>560574a339f1b25e57b0221e486907ed</td><td>4f3b5b91d9831192557c056022fdc1f2</td></tr>\n",
       "</tbody>\n",
       "</table>\n"
      ],
      "text/latex": [
       "\\begin{tabular}{r|llllll}\n",
       "  & ITEM_COUNT & I_DATE & SMALL_AREA_NAME & PURCHASEID_hash & USER_ID_hash & COUPON_ID_hash\\\\\n",
       "\\hline\n",
       "\t1 & 1 & 2012-03-28 15:06:06 & 兵庫 & c820a8882374a4e472f0984a8825893f & d9dca3cb44bab12ba313eaa681f663eb & 34c48f84026e08355dc3bd19b427f09a\\\\\n",
       "\t2 & 1 & 2011-07-04 23:52:54 & 銀座・新橋・東京・上野 & 1b4eb2435421ede98c8931c42e8220ec & 560574a339f1b25e57b0221e486907ed & 767673b7a777854a92b73b0934ddfae7\\\\\n",
       "\t3 & 1 & 2011-07-16 00:52:49 & 恵比寿・目黒・品川 & 36b5f9ba46c44b65587d0b16f2e4c77f & 560574a339f1b25e57b0221e486907ed & 4f3b5b91d9831192557c056022fdc1f2\\\\\n",
       "\t4 & 1 & 2011-07-16 00:54:53 & 恵比寿・目黒・品川 & 2f30f46937cc9004774e576914b2aa1a & 560574a339f1b25e57b0221e486907ed & 4f3b5b91d9831192557c056022fdc1f2\\\\\n",
       "\t5 & 1 & 2011-07-16 00:55:52 & 恵比寿・目黒・品川 & 4d000c64a55ac573d0ae1a8f03677f50 & 560574a339f1b25e57b0221e486907ed & 4f3b5b91d9831192557c056022fdc1f2\\\\\n",
       "\t6 & 1 & 2011-07-16 00:57:09 & 恵比寿・目黒・品川 & d8b030c8a4a2c1051997092a2985b373 & 560574a339f1b25e57b0221e486907ed & 4f3b5b91d9831192557c056022fdc1f2\\\\\n",
       "\\end{tabular}\n"
      ],
      "text/plain": [
       "  ITEM_COUNT              I_DATE        SMALL_AREA_NAME\n",
       "1          1 2012-03-28 15:06:06                   兵庫\n",
       "2          1 2011-07-04 23:52:54 銀座・新橋・東京・上野\n",
       "3          1 2011-07-16 00:52:49     恵比寿・目黒・品川\n",
       "4          1 2011-07-16 00:54:53     恵比寿・目黒・品川\n",
       "5          1 2011-07-16 00:55:52     恵比寿・目黒・品川\n",
       "6          1 2011-07-16 00:57:09     恵比寿・目黒・品川\n",
       "                   PURCHASEID_hash                     USER_ID_hash\n",
       "1 c820a8882374a4e472f0984a8825893f d9dca3cb44bab12ba313eaa681f663eb\n",
       "2 1b4eb2435421ede98c8931c42e8220ec 560574a339f1b25e57b0221e486907ed\n",
       "3 36b5f9ba46c44b65587d0b16f2e4c77f 560574a339f1b25e57b0221e486907ed\n",
       "4 2f30f46937cc9004774e576914b2aa1a 560574a339f1b25e57b0221e486907ed\n",
       "5 4d000c64a55ac573d0ae1a8f03677f50 560574a339f1b25e57b0221e486907ed\n",
       "6 d8b030c8a4a2c1051997092a2985b373 560574a339f1b25e57b0221e486907ed\n",
       "                    COUPON_ID_hash\n",
       "1 34c48f84026e08355dc3bd19b427f09a\n",
       "2 767673b7a777854a92b73b0934ddfae7\n",
       "3 4f3b5b91d9831192557c056022fdc1f2\n",
       "4 4f3b5b91d9831192557c056022fdc1f2\n",
       "5 4f3b5b91d9831192557c056022fdc1f2\n",
       "6 4f3b5b91d9831192557c056022fdc1f2"
      ]
     },
     "execution_count": 22,
     "metadata": {},
     "output_type": "execute_result"
    },
    {
     "data": {
      "text/plain": [
       "   ITEM_COUNT         I_DATE                   \n",
       " Min.   : 1.000   Min.   :2011-07-01 00:10:42  \n",
       " 1st Qu.: 1.000   1st Qu.:2011-09-30 06:19:55  \n",
       " Median : 1.000   Median :2011-12-21 14:03:47  \n",
       " Mean   : 1.431   Mean   :2011-12-28 16:47:27  \n",
       " 3rd Qu.: 2.000   3rd Qu.:2012-03-28 13:00:53  \n",
       " Max.   :55.000   Max.   :2012-06-23 23:54:47  \n",
       "                                               \n",
       "                     SMALL_AREA_NAME                          PURCHASEID_hash  \n",
       " 新宿・高田馬場・中野・吉祥寺:27309   0000655d8c1e67679c3c1a8887a97d10:     1  \n",
       " 銀座・新橋・東京・上野      :13719   000070a349d31e5e1ddf9b8ca0e64a2d:     1  \n",
       " キタ                        :10334   0000b7b35ffe5f021cea99f151b62bf8:     1  \n",
       " ミナミ他                    : 9493   000138d60435397458844b78bbeb7ace:     1  \n",
       " 渋谷・青山・自由が丘        : 8627   00019fe96b80a1c1ce4b6ed2727ca40c:     1  \n",
       " 池袋・神楽坂・赤羽          : 6973   0001a0de33ac2c38b77f2854f250ab03:     1  \n",
       " (Other)                     :92541   (Other)                         :168990  \n",
       "                           USER_ID_hash   \n",
       " acd5e20541a5177e039835cef949d38d:   101  \n",
       " 01f61f5948da9c6c47bc47e6a959d48c:    89  \n",
       " 8a74bbcbdf2290988e92b4f0a52e57a7:    87  \n",
       " e229db6f4d3554b8b96a8c04582b50eb:    86  \n",
       " e5ce4e00a1d90a6951940fea4acdd61b:    86  \n",
       " 4c20177df5716ba57105ba5d9ed3c460:    84  \n",
       " (Other)                         :168463  \n",
       "                          COUPON_ID_hash  \n",
       " a262c7ff56a5cd3de3c5c40443f3018c:  5760  \n",
       " 3d9029d3ec66802b11ee2645dc16e8cb:  1511  \n",
       " 09411858ae07c0be91aeeddacf4556b4:  1016  \n",
       " 7fc6567f470af5356ae97097dbe18486:   863  \n",
       " bf69bd9e0e26fa1f62243d1fcada38f1:   663  \n",
       " 047fb1f23d8cedea8cb86956cfd4b7cf:   628  \n",
       " (Other)                         :158555  "
      ]
     },
     "execution_count": 22,
     "metadata": {},
     "output_type": "execute_result"
    },
    {
     "name": "stdout",
     "output_type": "stream",
     "text": [
      "################## coupon_list_test ##################"
     ]
    },
    {
     "data": {
      "text/html": [
       "<table>\n",
       "<thead><tr><th></th><th scope=col>CAPSULE_TEXT</th><th scope=col>GENRE_NAME</th><th scope=col>PRICE_RATE</th><th scope=col>CATALOG_PRICE</th><th scope=col>DISCOUNT_PRICE</th><th scope=col>DISPFROM</th><th scope=col>DISPEND</th><th scope=col>DISPPERIOD</th><th scope=col>VALIDFROM</th><th scope=col>VALIDEND</th><th scope=col>VALIDPERIOD</th><th scope=col>USABLE_DATE_MON</th><th scope=col>USABLE_DATE_TUE</th><th scope=col>USABLE_DATE_WED</th><th scope=col>USABLE_DATE_THU</th><th scope=col>USABLE_DATE_FRI</th><th scope=col>USABLE_DATE_SAT</th><th scope=col>USABLE_DATE_SUN</th><th scope=col>USABLE_DATE_HOLIDAY</th><th scope=col>USABLE_DATE_BEFORE_HOLIDAY</th><th scope=col>large_area_name</th><th scope=col>ken_name</th><th scope=col>small_area_name</th><th scope=col>COUPON_ID_hash</th></tr></thead>\n",
       "<tbody>\n",
       "\t<tr><th scope=row>1</th><td>グルメ</td><td>グルメ</td><td>52</td><td>5659</td><td>2690</td><td>2012-06-26 12:00:00</td><td>2012-06-30 12:00:00</td><td>4</td><td>2012-07-01</td><td>2012-10-27</td><td>118</td><td>1</td><td>1</td><td>1</td><td>1</td><td>1</td><td>1</td><td>1</td><td>1</td><td>1</td><td>関西</td><td>大阪府</td><td>ミナミ他</td><td>c76ea297ebd3a5a4d3bf9f75269f66fa</td></tr>\n",
       "\t<tr><th scope=row>2</th><td>グルメ</td><td>グルメ</td><td>52</td><td>18000</td><td>8500</td><td>2012-06-27 12:00:00</td><td>2012-07-04 12:00:00</td><td>7</td><td>2012-07-05</td><td>2012-10-13</td><td>100</td><td>1</td><td>1</td><td>1</td><td>1</td><td>1</td><td>1</td><td>0</td><td>0</td><td>1</td><td>関東</td><td>東京都</td><td>銀座・新橋・東京・上野</td><td>dd74dc95ca294afa02db40a543ae1763</td></tr>\n",
       "\t<tr><th scope=row>3</th><td>グルメ</td><td>グルメ</td><td>51</td><td>7200</td><td>3480</td><td>2012-06-28 12:00:00</td><td>2012-07-05 12:00:00</td><td>7</td><td>2012-07-06</td><td>2012-12-28</td><td>175</td><td>1</td><td>1</td><td>1</td><td>1</td><td>1</td><td>1</td><td>1</td><td>1</td><td>1</td><td>関東</td><td>神奈川県</td><td>横浜</td><td>c65b550cbef918796ad53b1d5b7165c1</td></tr>\n",
       "\t<tr><th scope=row>4</th><td>グルメ</td><td>グルメ</td><td>50</td><td>3300</td><td>1650</td><td>2012-06-24 12:00:00</td><td>2012-06-29 12:00:00</td><td>5</td><td>2012-06-30</td><td>2012-10-31</td><td>123</td><td>1</td><td>1</td><td>1</td><td>1</td><td>2</td><td>2</td><td>1</td><td>1</td><td>2</td><td>関西</td><td>兵庫県</td><td>兵庫</td><td>f93dc6e223935d817e1237f8f73b56a2</td></tr>\n",
       "\t<tr><th scope=row>5</th><td>グルメ</td><td>グルメ</td><td>56</td><td>3650</td><td>1600</td><td>2012-06-26 12:00:00</td><td>2012-07-03 12:00:00</td><td>7</td><td>2012-07-04</td><td>2012-11-10</td><td>129</td><td>1</td><td>1</td><td>1</td><td>1</td><td>1</td><td>1</td><td>1</td><td>1</td><td>1</td><td>東海</td><td>愛知県</td><td>愛知</td><td>86c64391318f1d751647bf8e1882cf1d</td></tr>\n",
       "\t<tr><th scope=row>6</th><td>グルメ</td><td>グルメ</td><td>50</td><td>12600</td><td>6300</td><td>2012-06-28 12:00:00</td><td>2012-07-05 12:00:00</td><td>7</td><td>2012-07-09</td><td>2012-12-12</td><td>156</td><td>1</td><td>1</td><td>1</td><td>1</td><td>1</td><td>1</td><td>0</td><td>0</td><td>1</td><td>関東</td><td>東京都</td><td>銀座・新橋・東京・上野</td><td>78aec0e250021cf5247986f6ca55a47e</td></tr>\n",
       "</tbody>\n",
       "</table>\n"
      ],
      "text/latex": [
       "\\begin{tabular}{r|llllllllllllllllllllllll}\n",
       "  & CAPSULE_TEXT & GENRE_NAME & PRICE_RATE & CATALOG_PRICE & DISCOUNT_PRICE & DISPFROM & DISPEND & DISPPERIOD & VALIDFROM & VALIDEND & VALIDPERIOD & USABLE_DATE_MON & USABLE_DATE_TUE & USABLE_DATE_WED & USABLE_DATE_THU & USABLE_DATE_FRI & USABLE_DATE_SAT & USABLE_DATE_SUN & USABLE_DATE_HOLIDAY & USABLE_DATE_BEFORE_HOLIDAY & large_area_name & ken_name & small_area_name & COUPON_ID_hash\\\\\n",
       "\\hline\n",
       "\t1 & グルメ & グルメ & 52 & 5659 & 2690 & 2012-06-26 12:00:00 & 2012-06-30 12:00:00 & 4 & 2012-07-01 & 2012-10-27 & 118 & 1 & 1 & 1 & 1 & 1 & 1 & 1 & 1 & 1 & 関西 & 大阪府 & ミナミ他 & c76ea297ebd3a5a4d3bf9f75269f66fa\\\\\n",
       "\t2 & グルメ & グルメ & 52 & 18000 & 8500 & 2012-06-27 12:00:00 & 2012-07-04 12:00:00 & 7 & 2012-07-05 & 2012-10-13 & 100 & 1 & 1 & 1 & 1 & 1 & 1 & 0 & 0 & 1 & 関東 & 東京都 & 銀座・新橋・東京・上野 & dd74dc95ca294afa02db40a543ae1763\\\\\n",
       "\t3 & グルメ & グルメ & 51 & 7200 & 3480 & 2012-06-28 12:00:00 & 2012-07-05 12:00:00 & 7 & 2012-07-06 & 2012-12-28 & 175 & 1 & 1 & 1 & 1 & 1 & 1 & 1 & 1 & 1 & 関東 & 神奈川県 & 横浜 & c65b550cbef918796ad53b1d5b7165c1\\\\\n",
       "\t4 & グルメ & グルメ & 50 & 3300 & 1650 & 2012-06-24 12:00:00 & 2012-06-29 12:00:00 & 5 & 2012-06-30 & 2012-10-31 & 123 & 1 & 1 & 1 & 1 & 2 & 2 & 1 & 1 & 2 & 関西 & 兵庫県 & 兵庫 & f93dc6e223935d817e1237f8f73b56a2\\\\\n",
       "\t5 & グルメ & グルメ & 56 & 3650 & 1600 & 2012-06-26 12:00:00 & 2012-07-03 12:00:00 & 7 & 2012-07-04 & 2012-11-10 & 129 & 1 & 1 & 1 & 1 & 1 & 1 & 1 & 1 & 1 & 東海 & 愛知県 & 愛知 & 86c64391318f1d751647bf8e1882cf1d\\\\\n",
       "\t6 & グルメ & グルメ & 50 & 12600 & 6300 & 2012-06-28 12:00:00 & 2012-07-05 12:00:00 & 7 & 2012-07-09 & 2012-12-12 & 156 & 1 & 1 & 1 & 1 & 1 & 1 & 0 & 0 & 1 & 関東 & 東京都 & 銀座・新橋・東京・上野 & 78aec0e250021cf5247986f6ca55a47e\\\\\n",
       "\\end{tabular}\n"
      ],
      "text/plain": [
       "  CAPSULE_TEXT GENRE_NAME PRICE_RATE CATALOG_PRICE DISCOUNT_PRICE\n",
       "1       グルメ     グルメ         52          5659           2690\n",
       "2       グルメ     グルメ         52         18000           8500\n",
       "3       グルメ     グルメ         51          7200           3480\n",
       "4       グルメ     グルメ         50          3300           1650\n",
       "5       グルメ     グルメ         56          3650           1600\n",
       "6       グルメ     グルメ         50         12600           6300\n",
       "             DISPFROM             DISPEND DISPPERIOD  VALIDFROM   VALIDEND\n",
       "1 2012-06-26 12:00:00 2012-06-30 12:00:00          4 2012-07-01 2012-10-27\n",
       "2 2012-06-27 12:00:00 2012-07-04 12:00:00          7 2012-07-05 2012-10-13\n",
       "3 2012-06-28 12:00:00 2012-07-05 12:00:00          7 2012-07-06 2012-12-28\n",
       "4 2012-06-24 12:00:00 2012-06-29 12:00:00          5 2012-06-30 2012-10-31\n",
       "5 2012-06-26 12:00:00 2012-07-03 12:00:00          7 2012-07-04 2012-11-10\n",
       "6 2012-06-28 12:00:00 2012-07-05 12:00:00          7 2012-07-09 2012-12-12\n",
       "  VALIDPERIOD USABLE_DATE_MON USABLE_DATE_TUE USABLE_DATE_WED USABLE_DATE_THU\n",
       "1         118               1               1               1               1\n",
       "2         100               1               1               1               1\n",
       "3         175               1               1               1               1\n",
       "4         123               1               1               1               1\n",
       "5         129               1               1               1               1\n",
       "6         156               1               1               1               1\n",
       "  USABLE_DATE_FRI USABLE_DATE_SAT USABLE_DATE_SUN USABLE_DATE_HOLIDAY\n",
       "1               1               1               1                   1\n",
       "2               1               1               0                   0\n",
       "3               1               1               1                   1\n",
       "4               2               2               1                   1\n",
       "5               1               1               1                   1\n",
       "6               1               1               0                   0\n",
       "  USABLE_DATE_BEFORE_HOLIDAY large_area_name ken_name        small_area_name\n",
       "1                          1            関西   大阪府               ミナミ他\n",
       "2                          1            関東   東京都 銀座・新橋・東京・上野\n",
       "3                          1            関東 神奈川県                   横浜\n",
       "4                          2            関西   兵庫県                   兵庫\n",
       "5                          1            東海   愛知県                   愛知\n",
       "6                          1            関東   東京都 銀座・新橋・東京・上野\n",
       "                    COUPON_ID_hash\n",
       "1 c76ea297ebd3a5a4d3bf9f75269f66fa\n",
       "2 dd74dc95ca294afa02db40a543ae1763\n",
       "3 c65b550cbef918796ad53b1d5b7165c1\n",
       "4 f93dc6e223935d817e1237f8f73b56a2\n",
       "5 86c64391318f1d751647bf8e1882cf1d\n",
       "6 78aec0e250021cf5247986f6ca55a47e"
      ]
     },
     "execution_count": 22,
     "metadata": {},
     "output_type": "execute_result"
    },
    {
     "data": {
      "text/plain": [
       "           CAPSULE_TEXT            GENRE_NAME   PRICE_RATE   CATALOG_PRICE   \n",
       " 宅配            :89    宅配            :89   Min.   :50.0   Min.   :   500  \n",
       " グルメ          :55    ホテル・旅館    :59   1st Qu.:50.0   1st Qu.:  4010  \n",
       " ホテル          :33    グルメ          :55   Median :57.0   Median :  7875  \n",
       " ヘアサロン      :25    ヘアサロン      :25   Mean   :60.6   Mean   : 13652  \n",
       " 旅館            :24    リラクゼーション:21   3rd Qu.:70.0   3rd Qu.: 14708  \n",
       " リラクゼーション:21    ネイル・アイ    :17   Max.   :95.0   Max.   :149700  \n",
       " (Other)         :63    (Other)         :44                                  \n",
       " DISCOUNT_PRICE     DISPFROM                      DISPEND                   \n",
       " Min.   :  100   Min.   :2012-06-24 12:00:00   Min.   :2012-06-27 12:00:00  \n",
       " 1st Qu.: 1792   1st Qu.:2012-06-25 12:00:00   1st Qu.:2012-06-29 12:00:00  \n",
       " Median : 2980   Median :2012-06-26 12:00:00   Median :2012-07-01 12:00:00  \n",
       " Mean   : 4699   Mean   :2012-06-27 01:19:32   Mean   :2012-07-01 13:00:23  \n",
       " 3rd Qu.: 5188   3rd Qu.:2012-06-28 12:00:00   3rd Qu.:2012-07-03 12:00:00  \n",
       " Max.   :39800   Max.   :2012-06-30 12:00:00   Max.   :2012-07-11 12:00:00  \n",
       "                                                                            \n",
       "   DISPPERIOD       VALIDFROM                      VALIDEND                  \n",
       " Min.   : 2.000   Min.   :2012-06-28 00:00:00   Min.   :2012-07-21 00:00:00  \n",
       " 1st Qu.: 4.000   1st Qu.:2012-07-01 00:00:00   1st Qu.:2012-09-30 00:00:00  \n",
       " Median : 4.000   Median :2012-07-03 00:00:00   Median :2012-10-31 00:00:00  \n",
       " Mean   : 4.487   Mean   :2012-07-04 03:01:40   Mean   :2012-10-30 04:35:53  \n",
       " 3rd Qu.: 5.000   3rd Qu.:2012-07-05 00:00:00   3rd Qu.:2012-12-01 00:00:00  \n",
       " Max.   :13.000   Max.   :2012-09-01 00:00:00   Max.   :2012-12-31 00:00:00  \n",
       "                  NA's   :96                    NA's   :96                   \n",
       "  VALIDPERIOD     USABLE_DATE_MON USABLE_DATE_TUE  USABLE_DATE_WED \n",
       " Min.   :  0.00   Min.   :0.000   Min.   :0.0000   Min.   :0.0000  \n",
       " 1st Qu.: 89.25   1st Qu.:1.000   1st Qu.:1.0000   1st Qu.:1.0000  \n",
       " Median :119.00   Median :1.000   Median :1.0000   Median :1.0000  \n",
       " Mean   :118.07   Mean   :0.933   Mean   :0.9282   Mean   :0.9952  \n",
       " 3rd Qu.:151.00   3rd Qu.:1.000   3rd Qu.:1.0000   3rd Qu.:1.0000  \n",
       " Max.   :178.00   Max.   :2.000   Max.   :2.0000   Max.   :2.0000  \n",
       " NA's   :96       NA's   :101     NA's   :101      NA's   :101     \n",
       " USABLE_DATE_THU  USABLE_DATE_FRI USABLE_DATE_SAT USABLE_DATE_SUN \n",
       " Min.   :0.0000   Min.   :0.000   Min.   :0.000   Min.   :0.0000  \n",
       " 1st Qu.:1.0000   1st Qu.:1.000   1st Qu.:1.000   1st Qu.:1.0000  \n",
       " Median :1.0000   Median :1.000   Median :1.000   Median :1.0000  \n",
       " Mean   :0.9761   Mean   :1.014   Mean   :1.124   Mean   :0.9378  \n",
       " 3rd Qu.:1.0000   3rd Qu.:1.000   3rd Qu.:1.000   3rd Qu.:1.0000  \n",
       " Max.   :1.0000   Max.   :2.000   Max.   :2.000   Max.   :2.0000  \n",
       " NA's   :101      NA's   :101     NA's   :101     NA's   :101     \n",
       " USABLE_DATE_HOLIDAY USABLE_DATE_BEFORE_HOLIDAY   large_area_name\n",
       " Min.   :0.0000      Min.   :0.000              関東      :153   \n",
       " 1st Qu.:1.0000      1st Qu.:1.000              関西      : 65   \n",
       " Median :1.0000      Median :1.000              東海      : 26   \n",
       " Mean   :0.9474      Mean   :1.086              九州・沖縄: 23   \n",
       " 3rd Qu.:1.0000      3rd Qu.:1.000              北海道    : 16   \n",
       " Max.   :2.0000      Max.   :2.000              北信越    : 11   \n",
       " NA's   :101         NA's   :101                (Other)   : 16   \n",
       "     ken_name                 small_area_name\n",
       " 東京都  :107   銀座・新橋・東京・上野: 46   \n",
       " 大阪府  : 39   キタ                  : 22   \n",
       " 神奈川県: 24   恵比寿・目黒・品川    : 19   \n",
       " 愛知県  : 16   ミナミ他              : 17   \n",
       " 兵庫県  : 16   愛知                  : 16   \n",
       " 北海道  : 16   横浜                  : 16   \n",
       " (Other) : 92   (Other)               :174   \n",
       "                          COUPON_ID_hash\n",
       " 007dce05be7f473f362e79bfe7256736:  1   \n",
       " 00fcc93438a282f8b915777a209dd0bd:  1   \n",
       " 01023eac71c13f529f43cfb691d914c9:  1   \n",
       " 0147fd072c6ef4e299d428f19a5f0e01:  1   \n",
       " 017956f30c352df708358a6d1219fb12:  1   \n",
       " 01f995ae8c168d5eb7b0fd69cf8ee6b2:  1   \n",
       " (Other)                         :304   "
      ]
     },
     "execution_count": 22,
     "metadata": {},
     "output_type": "execute_result"
    },
    {
     "name": "stdout",
     "output_type": "stream",
     "text": [
      "################## coupon_list_train ##################"
     ]
    },
    {
     "data": {
      "text/html": [
       "<table>\n",
       "<thead><tr><th></th><th scope=col>CAPSULE_TEXT</th><th scope=col>GENRE_NAME</th><th scope=col>PRICE_RATE</th><th scope=col>CATALOG_PRICE</th><th scope=col>DISCOUNT_PRICE</th><th scope=col>DISPFROM</th><th scope=col>DISPEND</th><th scope=col>DISPPERIOD</th><th scope=col>VALIDFROM</th><th scope=col>VALIDEND</th><th scope=col>VALIDPERIOD</th><th scope=col>USABLE_DATE_MON</th><th scope=col>USABLE_DATE_TUE</th><th scope=col>USABLE_DATE_WED</th><th scope=col>USABLE_DATE_THU</th><th scope=col>USABLE_DATE_FRI</th><th scope=col>USABLE_DATE_SAT</th><th scope=col>USABLE_DATE_SUN</th><th scope=col>USABLE_DATE_HOLIDAY</th><th scope=col>USABLE_DATE_BEFORE_HOLIDAY</th><th scope=col>large_area_name</th><th scope=col>ken_name</th><th scope=col>small_area_name</th><th scope=col>COUPON_ID_hash</th></tr></thead>\n",
       "<tbody>\n",
       "\t<tr><th scope=row>1</th><td>グルメ</td><td>グルメ</td><td>50</td><td>3000</td><td>1500</td><td>2011-07-08 12:00:00</td><td>2011-07-09 12:00:00</td><td>1</td><td>2011-07-10</td><td>2011-12-08</td><td>151</td><td>1</td><td>1</td><td>1</td><td>1</td><td>0</td><td>0</td><td>1</td><td>1</td><td>0</td><td>関東</td><td>埼玉県</td><td>埼玉</td><td>6b263844241eea98c5a97f1335ea82af</td></tr>\n",
       "\t<tr><th scope=row>2</th><td>グルメ</td><td>グルメ</td><td>51</td><td>2080</td><td>1000</td><td>2011-07-01 12:00:00</td><td>2011-07-02 12:00:00</td><td>1</td><td>2011-07-03</td><td>2011-12-04</td><td>154</td><td>1</td><td>1</td><td>1</td><td>1</td><td>1</td><td>1</td><td>1</td><td>1</td><td>1</td><td>関東</td><td>千葉県</td><td>千葉</td><td>cc031f250e8bad1e24060263b9fc0ddd</td></tr>\n",
       "\t<tr><th scope=row>3</th><td>グルメ</td><td>グルメ</td><td>50</td><td>7000</td><td>3500</td><td>2011-07-12 12:00:00</td><td>2011-07-15 12:00:00</td><td>3</td><td>2011-07-16</td><td>2012-01-11</td><td>179</td><td>0</td><td>1</td><td>1</td><td>1</td><td>1</td><td>1</td><td>1</td><td>1</td><td>1</td><td>関東</td><td>千葉県</td><td>千葉</td><td>ba5e9b7453ca52ff711635a5d2e8102d</td></tr>\n",
       "\t<tr><th scope=row>4</th><td>グルメ</td><td>グルメ</td><td>50</td><td>3000</td><td>1500</td><td>2011-07-09 12:00:00</td><td>2011-07-11 12:00:00</td><td>2</td><td>2011-07-12</td><td>2011-12-01</td><td>142</td><td>1</td><td>1</td><td>1</td><td>1</td><td>0</td><td>0</td><td>1</td><td>1</td><td>1</td><td>関東</td><td>千葉県</td><td>千葉</td><td>3e1ffbedca3569f9e8032d401e8cb4e6</td></tr>\n",
       "\t<tr><th scope=row>5</th><td>グルメ</td><td>グルメ</td><td>50</td><td>2000</td><td>1000</td><td>2011-07-05 12:00:00</td><td>2011-07-06 12:00:00</td><td>1</td><td>2011-07-07</td><td>2011-12-30</td><td>176</td><td>1</td><td>1</td><td>0</td><td>1</td><td>0</td><td>0</td><td>1</td><td>1</td><td>0</td><td>関東</td><td>千葉県</td><td>千葉</td><td>782934b6c815b4030ea204eef7d4a734</td></tr>\n",
       "\t<tr><th scope=row>6</th><td>グルメ</td><td>グルメ</td><td>50</td><td>4000</td><td>2000</td><td>2011-07-24 12:00:00</td><td>2011-07-26 12:00:00</td><td>2</td><td>2011-07-27</td><td>2011-10-30</td><td>95</td><td>0</td><td>1</td><td>1</td><td>1</td><td>1</td><td>1</td><td>1</td><td>1</td><td>1</td><td>関東</td><td>千葉県</td><td>千葉</td><td>439db4336f84d4e4a13290fc0d7e6c4e</td></tr>\n",
       "</tbody>\n",
       "</table>\n"
      ],
      "text/latex": [
       "\\begin{tabular}{r|llllllllllllllllllllllll}\n",
       "  & CAPSULE_TEXT & GENRE_NAME & PRICE_RATE & CATALOG_PRICE & DISCOUNT_PRICE & DISPFROM & DISPEND & DISPPERIOD & VALIDFROM & VALIDEND & VALIDPERIOD & USABLE_DATE_MON & USABLE_DATE_TUE & USABLE_DATE_WED & USABLE_DATE_THU & USABLE_DATE_FRI & USABLE_DATE_SAT & USABLE_DATE_SUN & USABLE_DATE_HOLIDAY & USABLE_DATE_BEFORE_HOLIDAY & large_area_name & ken_name & small_area_name & COUPON_ID_hash\\\\\n",
       "\\hline\n",
       "\t1 & グルメ & グルメ & 50 & 3000 & 1500 & 2011-07-08 12:00:00 & 2011-07-09 12:00:00 & 1 & 2011-07-10 & 2011-12-08 & 151 & 1 & 1 & 1 & 1 & 0 & 0 & 1 & 1 & 0 & 関東 & 埼玉県 & 埼玉 & 6b263844241eea98c5a97f1335ea82af\\\\\n",
       "\t2 & グルメ & グルメ & 51 & 2080 & 1000 & 2011-07-01 12:00:00 & 2011-07-02 12:00:00 & 1 & 2011-07-03 & 2011-12-04 & 154 & 1 & 1 & 1 & 1 & 1 & 1 & 1 & 1 & 1 & 関東 & 千葉県 & 千葉 & cc031f250e8bad1e24060263b9fc0ddd\\\\\n",
       "\t3 & グルメ & グルメ & 50 & 7000 & 3500 & 2011-07-12 12:00:00 & 2011-07-15 12:00:00 & 3 & 2011-07-16 & 2012-01-11 & 179 & 0 & 1 & 1 & 1 & 1 & 1 & 1 & 1 & 1 & 関東 & 千葉県 & 千葉 & ba5e9b7453ca52ff711635a5d2e8102d\\\\\n",
       "\t4 & グルメ & グルメ & 50 & 3000 & 1500 & 2011-07-09 12:00:00 & 2011-07-11 12:00:00 & 2 & 2011-07-12 & 2011-12-01 & 142 & 1 & 1 & 1 & 1 & 0 & 0 & 1 & 1 & 1 & 関東 & 千葉県 & 千葉 & 3e1ffbedca3569f9e8032d401e8cb4e6\\\\\n",
       "\t5 & グルメ & グルメ & 50 & 2000 & 1000 & 2011-07-05 12:00:00 & 2011-07-06 12:00:00 & 1 & 2011-07-07 & 2011-12-30 & 176 & 1 & 1 & 0 & 1 & 0 & 0 & 1 & 1 & 0 & 関東 & 千葉県 & 千葉 & 782934b6c815b4030ea204eef7d4a734\\\\\n",
       "\t6 & グルメ & グルメ & 50 & 4000 & 2000 & 2011-07-24 12:00:00 & 2011-07-26 12:00:00 & 2 & 2011-07-27 & 2011-10-30 & 95 & 0 & 1 & 1 & 1 & 1 & 1 & 1 & 1 & 1 & 関東 & 千葉県 & 千葉 & 439db4336f84d4e4a13290fc0d7e6c4e\\\\\n",
       "\\end{tabular}\n"
      ],
      "text/plain": [
       "  CAPSULE_TEXT GENRE_NAME PRICE_RATE CATALOG_PRICE DISCOUNT_PRICE\n",
       "1       グルメ     グルメ         50          3000           1500\n",
       "2       グルメ     グルメ         51          2080           1000\n",
       "3       グルメ     グルメ         50          7000           3500\n",
       "4       グルメ     グルメ         50          3000           1500\n",
       "5       グルメ     グルメ         50          2000           1000\n",
       "6       グルメ     グルメ         50          4000           2000\n",
       "             DISPFROM             DISPEND DISPPERIOD  VALIDFROM   VALIDEND\n",
       "1 2011-07-08 12:00:00 2011-07-09 12:00:00          1 2011-07-10 2011-12-08\n",
       "2 2011-07-01 12:00:00 2011-07-02 12:00:00          1 2011-07-03 2011-12-04\n",
       "3 2011-07-12 12:00:00 2011-07-15 12:00:00          3 2011-07-16 2012-01-11\n",
       "4 2011-07-09 12:00:00 2011-07-11 12:00:00          2 2011-07-12 2011-12-01\n",
       "5 2011-07-05 12:00:00 2011-07-06 12:00:00          1 2011-07-07 2011-12-30\n",
       "6 2011-07-24 12:00:00 2011-07-26 12:00:00          2 2011-07-27 2011-10-30\n",
       "  VALIDPERIOD USABLE_DATE_MON USABLE_DATE_TUE USABLE_DATE_WED USABLE_DATE_THU\n",
       "1         151               1               1               1               1\n",
       "2         154               1               1               1               1\n",
       "3         179               0               1               1               1\n",
       "4         142               1               1               1               1\n",
       "5         176               1               1               0               1\n",
       "6          95               0               1               1               1\n",
       "  USABLE_DATE_FRI USABLE_DATE_SAT USABLE_DATE_SUN USABLE_DATE_HOLIDAY\n",
       "1               0               0               1                   1\n",
       "2               1               1               1                   1\n",
       "3               1               1               1                   1\n",
       "4               0               0               1                   1\n",
       "5               0               0               1                   1\n",
       "6               1               1               1                   1\n",
       "  USABLE_DATE_BEFORE_HOLIDAY large_area_name ken_name small_area_name\n",
       "1                          0            関東   埼玉県            埼玉\n",
       "2                          1            関東   千葉県            千葉\n",
       "3                          1            関東   千葉県            千葉\n",
       "4                          1            関東   千葉県            千葉\n",
       "5                          0            関東   千葉県            千葉\n",
       "6                          1            関東   千葉県            千葉\n",
       "                    COUPON_ID_hash\n",
       "1 6b263844241eea98c5a97f1335ea82af\n",
       "2 cc031f250e8bad1e24060263b9fc0ddd\n",
       "3 ba5e9b7453ca52ff711635a5d2e8102d\n",
       "4 3e1ffbedca3569f9e8032d401e8cb4e6\n",
       "5 782934b6c815b4030ea204eef7d4a734\n",
       "6 439db4336f84d4e4a13290fc0d7e6c4e"
      ]
     },
     "execution_count": 22,
     "metadata": {},
     "output_type": "execute_result"
    },
    {
     "data": {
      "text/plain": [
       "           CAPSULE_TEXT             GENRE_NAME     PRICE_RATE    \n",
       " 宅配            :5841   宅配            :5841   Min.   :  0.00  \n",
       " グルメ          :3658   グルメ          :3658   1st Qu.: 50.00  \n",
       " ホテル          :1943   ホテル・旅館    :3570   Median : 53.00  \n",
       " ヘアサロン      :1436   ヘアサロン      :1436   Mean   : 58.48  \n",
       " 旅館            :1351   リラクゼーション:1089   3rd Qu.: 65.00  \n",
       " リラクゼーション:1089   その他のクーポン: 873   Max.   :100.00  \n",
       " (Other)         :4095   (Other)         :2946                   \n",
       " CATALOG_PRICE    DISCOUNT_PRICE      DISPFROM                  \n",
       " Min.   :     1   Min.   :     0   Min.   :2011-06-27 12:00:00  \n",
       " 1st Qu.:  3675   1st Qu.:  1550   1st Qu.:2011-09-24 12:00:00  \n",
       " Median :  6500   Median :  2750   Median :2011-12-20 12:00:00  \n",
       " Mean   : 11818   Mean   :  4333   Mean   :2011-12-23 00:01:30  \n",
       " 3rd Qu.: 13650   3rd Qu.:  4800   3rd Qu.:2012-03-17 12:00:00  \n",
       " Max.   :680000   Max.   :100000   Max.   :2012-06-23 12:00:00  \n",
       "                                                                \n",
       "    DISPEND                      DISPPERIOD       VALIDFROM                  \n",
       " Min.   :2011-07-01 12:00:00   Min.   : 0.000   Min.   :2011-07-02 00:00:00  \n",
       " 1st Qu.:2011-09-26 12:00:00   1st Qu.: 2.000   1st Qu.:2011-10-01 00:00:00  \n",
       " Median :2011-12-23 12:00:00   Median : 3.000   Median :2012-01-04 00:00:00  \n",
       " Mean   :2011-12-26 04:01:53   Mean   : 3.167   Mean   :2011-12-31 20:03:41  \n",
       " 3rd Qu.:2012-03-21 12:00:00   3rd Qu.: 4.000   3rd Qu.:2012-03-27 00:00:00  \n",
       " Max.   :2012-06-30 12:00:00   Max.   :36.000   Max.   :2012-09-02 00:00:00  \n",
       "                                                NA's   :6147                 \n",
       "    VALIDEND                    VALIDPERIOD   USABLE_DATE_MON USABLE_DATE_TUE\n",
       " Min.   :2011-07-15 00:00:00   Min.   :  0    Min.   :0.000   Min.   :0.000  \n",
       " 1st Qu.:2012-02-26 00:00:00   1st Qu.: 89    1st Qu.:1.000   1st Qu.:1.000  \n",
       " Median :2012-04-29 00:00:00   Median :128    Median :1.000   Median :1.000  \n",
       " Mean   :2012-05-05 19:00:11   Mean   :126    Mean   :0.936   Mean   :0.954  \n",
       " 3rd Qu.:2012-07-31 00:00:00   3rd Qu.:177    3rd Qu.:1.000   3rd Qu.:1.000  \n",
       " Max.   :2012-12-25 00:00:00   Max.   :179    Max.   :2.000   Max.   :2.000  \n",
       " NA's   :6147                  NA's   :6147   NA's   :7005    NA's   :7005   \n",
       " USABLE_DATE_WED USABLE_DATE_THU USABLE_DATE_FRI USABLE_DATE_SAT\n",
       " Min.   :0.000   Min.   :0.000   Min.   :0       Min.   :0.000  \n",
       " 1st Qu.:1.000   1st Qu.:1.000   1st Qu.:1       1st Qu.:1.000  \n",
       " Median :1.000   Median :1.000   Median :1       Median :1.000  \n",
       " Mean   :0.982   Mean   :0.982   Mean   :1       Mean   :1.068  \n",
       " 3rd Qu.:1.000   3rd Qu.:1.000   3rd Qu.:1       3rd Qu.:1.000  \n",
       " Max.   :2.000   Max.   :2.000   Max.   :2       Max.   :2.000  \n",
       " NA's   :7005    NA's   :7005    NA's   :7005    NA's   :7005   \n",
       " USABLE_DATE_SUN USABLE_DATE_HOLIDAY USABLE_DATE_BEFORE_HOLIDAY\n",
       " Min.   :0.000   Min.   :0.000       Min.   :0.000             \n",
       " 1st Qu.:1.000   1st Qu.:1.000       1st Qu.:1.000             \n",
       " Median :1.000   Median :1.000       Median :1.000             \n",
       " Mean   :0.921   Mean   :0.938       Mean   :1.044             \n",
       " 3rd Qu.:1.000   3rd Qu.:1.000       3rd Qu.:1.000             \n",
       " Max.   :2.000   Max.   :2.000       Max.   :2.000             \n",
       " NA's   :7005    NA's   :7005        NA's   :7005              \n",
       "   large_area_name     ken_name                        small_area_name \n",
       " 関東      :9503   東京都  :6775   銀座・新橋・東京・上野      : 2325  \n",
       " 関西      :3575   大阪府  :2189   新宿・高田馬場・中野・吉祥寺: 1341  \n",
       " 東海      :1733   神奈川県:1379   キタ                        : 1175  \n",
       " 九州・沖縄:1660   愛知県  : 893   ミナミ他                    : 1014  \n",
       " 北海道    : 850   兵庫県  : 867   愛知                        :  893  \n",
       " 北信越    : 758   北海道  : 850   渋谷・青山・自由が丘        :  889  \n",
       " (Other)   :1334   (Other) :6460   (Other)                     :11776  \n",
       "                          COUPON_ID_hash \n",
       " 000eba9b783cec10658308b5836349f6:    1  \n",
       " 000fb2d3790cd8860e337290db189abe:    1  \n",
       " 000fe109aea0546a32ffbe54091297e1:    1  \n",
       " 0011e840cca696983ed110480652934f:    1  \n",
       " 00162df8b3899cc06de61da170165fea:    1  \n",
       " 00188e040b80a934429aecbdad7fe01c:    1  \n",
       " (Other)                         :19407  "
      ]
     },
     "execution_count": 22,
     "metadata": {},
     "output_type": "execute_result"
    }
   ],
   "source": [
    "cat(\"################## coupon_area_test ##################\")\n",
    "coupon_area_test <- read.csv(\"./data/coupon_area_test.csv\")\n",
    "head(coupon_area_test)\n",
    "summary(coupon_area_test)\n",
    "\n",
    "cat(\"################## coupon_area_train ##################\")\n",
    "coupon_area_train <- read.csv(\"./data/coupon_area_train.csv\")\n",
    "head(coupon_area_train)\n",
    "summary(coupon_area_train)\n",
    "\n",
    "cat(\"################## coupon_detail_train ##################\")\n",
    "coupon_detail_train <- read.csv(\"./data/coupon_detail_train.csv\")\n",
    "coupon_detail_train$I_DATE %<>% as.POSIXct\n",
    "head(coupon_detail_train)\n",
    "summary(coupon_detail_train)\n",
    "\n",
    "cat(\"################## coupon_list_test ##################\")\n",
    "coupon_list_test <- read.csv(\"./data/coupon_list_test.csv\")\n",
    "coupon_list_test$DISPFROM %<>% as.POSIXct\n",
    "coupon_list_test$DISPEND %<>% as.POSIXct\n",
    "coupon_list_test$VALIDFROM %<>% as.POSIXct\n",
    "coupon_list_test$VALIDEND %<>% as.POSIXct\n",
    "head(coupon_list_test)\n",
    "summary(coupon_list_test)\n",
    "\n",
    "cat(\"################## coupon_list_train ##################\")\n",
    "coupon_list_train <- read.csv(\"./data/coupon_list_train.csv\")\n",
    "coupon_list_train$DISPFROM %<>% as.POSIXct\n",
    "coupon_list_train$DISPEND %<>% as.POSIXct\n",
    "coupon_list_train$VALIDFROM %<>% as.POSIXct\n",
    "coupon_list_train$VALIDEND %<>% as.POSIXct\n",
    "head(coupon_list_train)\n",
    "summary(coupon_list_train)"
   ]
  },
  {
   "cell_type": "code",
   "execution_count": 13,
   "metadata": {
    "collapsed": false
   },
   "outputs": [
    {
     "name": "stdout",
     "output_type": "stream",
     "text": [
      "################## coupon_visit_train ##################"
     ]
    },
    {
     "data": {
      "text/html": [
       "<dl class=dl-horizontal>\n",
       "\t<dt>PURCHASE_FLG</dt>\n",
       "\t\t<dd>'integer'</dd>\n",
       "\t<dt>I_DATE</dt>\n",
       "\t\t<dd>'factor'</dd>\n",
       "\t<dt>PAGE_SERIAL</dt>\n",
       "\t\t<dd>'integer'</dd>\n",
       "\t<dt>REFERRER_hash</dt>\n",
       "\t\t<dd>'factor'</dd>\n",
       "\t<dt>VIEW_COUPON_ID_hash</dt>\n",
       "\t\t<dd>'factor'</dd>\n",
       "\t<dt>USER_ID_hash</dt>\n",
       "\t\t<dd>'factor'</dd>\n",
       "\t<dt>SESSION_ID_hash</dt>\n",
       "\t\t<dd>'factor'</dd>\n",
       "\t<dt>PURCHASEID_hash</dt>\n",
       "\t\t<dd>'factor'</dd>\n",
       "</dl>\n"
      ],
      "text/latex": [
       "\\begin{description*}\n",
       "\\item[PURCHASE_FLG] 'integer'\n",
       "\\item[I_DATE] 'factor'\n",
       "\\item[PAGE_SERIAL] 'integer'\n",
       "\\item[REFERRER_hash] 'factor'\n",
       "\\item[VIEW_COUPON_ID_hash] 'factor'\n",
       "\\item[USER_ID_hash] 'factor'\n",
       "\\item[SESSION_ID_hash] 'factor'\n",
       "\\item[PURCHASEID_hash] 'factor'\n",
       "\\end{description*}\n"
      ],
      "text/markdown": [
       "PURCHASE_FLG\n",
       ":   'integer'I_DATE\n",
       ":   'factor'PAGE_SERIAL\n",
       ":   'integer'REFERRER_hash\n",
       ":   'factor'VIEW_COUPON_ID_hash\n",
       ":   'factor'USER_ID_hash\n",
       ":   'factor'SESSION_ID_hash\n",
       ":   'factor'PURCHASEID_hash\n",
       ":   'factor'\n",
       "\n"
      ],
      "text/plain": [
       "       PURCHASE_FLG              I_DATE         PAGE_SERIAL       REFERRER_hash \n",
       "          \"integer\"            \"factor\"           \"integer\"            \"factor\" \n",
       "VIEW_COUPON_ID_hash        USER_ID_hash     SESSION_ID_hash     PURCHASEID_hash \n",
       "           \"factor\"            \"factor\"            \"factor\"            \"factor\" "
      ]
     },
     "execution_count": 13,
     "metadata": {},
     "output_type": "execute_result"
    },
    {
     "data": {
      "text/html": [
       "<table>\n",
       "<thead><tr><th></th><th scope=col>PURCHASE_FLG</th><th scope=col>I_DATE</th><th scope=col>PAGE_SERIAL</th><th scope=col>REFERRER_hash</th><th scope=col>VIEW_COUPON_ID_hash</th><th scope=col>USER_ID_hash</th><th scope=col>SESSION_ID_hash</th><th scope=col>PURCHASEID_hash</th></tr></thead>\n",
       "<tbody>\n",
       "\t<tr><th scope=row>1</th><td>0</td><td>2012-03-28 14:15:00</td><td>7</td><td>7d3892e54acb559ae36c459978489330</td><td>34c48f84026e08355dc3bd19b427f09a</td><td>d9dca3cb44bab12ba313eaa681f663eb</td><td>673af822615593249e7c6a9a1a6bbb1a</td><td></td></tr>\n",
       "\t<tr><th scope=row>2</th><td>0</td><td>2012-03-28 14:17:28</td><td>9</td><td>7d3892e54acb559ae36c459978489330</td><td>34c48f84026e08355dc3bd19b427f09a</td><td>d9dca3cb44bab12ba313eaa681f663eb</td><td>673af822615593249e7c6a9a1a6bbb1a</td><td></td></tr>\n",
       "\t<tr><th scope=row>3</th><td>0</td><td>2012-03-28 14:20:05</td><td>16</td><td>7d3892e54acb559ae36c459978489330</td><td>17c450c3b470c045d35ec22b02daa690</td><td>d9dca3cb44bab12ba313eaa681f663eb</td><td>673af822615593249e7c6a9a1a6bbb1a</td><td></td></tr>\n",
       "\t<tr><th scope=row>4</th><td>0</td><td>2012-03-28 14:23:16</td><td>18</td><td>7d3892e54acb559ae36c459978489330</td><td>91a15e6a95d09e5e01b50747833b317d</td><td>d9dca3cb44bab12ba313eaa681f663eb</td><td>673af822615593249e7c6a9a1a6bbb1a</td><td></td></tr>\n",
       "\t<tr><th scope=row>5</th><td>0</td><td>2012-03-28 14:26:25</td><td>20</td><td>7d3892e54acb559ae36c459978489330</td><td>96fcbc8f6e45d5a2de1661eb140c6e82</td><td>d9dca3cb44bab12ba313eaa681f663eb</td><td>673af822615593249e7c6a9a1a6bbb1a</td><td></td></tr>\n",
       "\t<tr><th scope=row>6</th><td>0</td><td>2012-03-28 14:29:58</td><td>23</td><td>7d3892e54acb559ae36c459978489330</td><td>91a15e6a95d09e5e01b50747833b317d</td><td>d9dca3cb44bab12ba313eaa681f663eb</td><td>673af822615593249e7c6a9a1a6bbb1a</td><td></td></tr>\n",
       "</tbody>\n",
       "</table>\n"
      ],
      "text/latex": [
       "\\begin{tabular}{r|llllllll}\n",
       "  & PURCHASE_FLG & I_DATE & PAGE_SERIAL & REFERRER_hash & VIEW_COUPON_ID_hash & USER_ID_hash & SESSION_ID_hash & PURCHASEID_hash\\\\\n",
       "\\hline\n",
       "\t1 & 0 & 2012-03-28 14:15:00 & 7 & 7d3892e54acb559ae36c459978489330 & 34c48f84026e08355dc3bd19b427f09a & d9dca3cb44bab12ba313eaa681f663eb & 673af822615593249e7c6a9a1a6bbb1a & \\\\\n",
       "\t2 & 0 & 2012-03-28 14:17:28 & 9 & 7d3892e54acb559ae36c459978489330 & 34c48f84026e08355dc3bd19b427f09a & d9dca3cb44bab12ba313eaa681f663eb & 673af822615593249e7c6a9a1a6bbb1a & \\\\\n",
       "\t3 & 0 & 2012-03-28 14:20:05 & 16 & 7d3892e54acb559ae36c459978489330 & 17c450c3b470c045d35ec22b02daa690 & d9dca3cb44bab12ba313eaa681f663eb & 673af822615593249e7c6a9a1a6bbb1a & \\\\\n",
       "\t4 & 0 & 2012-03-28 14:23:16 & 18 & 7d3892e54acb559ae36c459978489330 & 91a15e6a95d09e5e01b50747833b317d & d9dca3cb44bab12ba313eaa681f663eb & 673af822615593249e7c6a9a1a6bbb1a & \\\\\n",
       "\t5 & 0 & 2012-03-28 14:26:25 & 20 & 7d3892e54acb559ae36c459978489330 & 96fcbc8f6e45d5a2de1661eb140c6e82 & d9dca3cb44bab12ba313eaa681f663eb & 673af822615593249e7c6a9a1a6bbb1a & \\\\\n",
       "\t6 & 0 & 2012-03-28 14:29:58 & 23 & 7d3892e54acb559ae36c459978489330 & 91a15e6a95d09e5e01b50747833b317d & d9dca3cb44bab12ba313eaa681f663eb & 673af822615593249e7c6a9a1a6bbb1a & \\\\\n",
       "\\end{tabular}\n"
      ],
      "text/plain": [
       "  PURCHASE_FLG              I_DATE PAGE_SERIAL                    REFERRER_hash\n",
       "1            0 2012-03-28 14:15:00           7 7d3892e54acb559ae36c459978489330\n",
       "2            0 2012-03-28 14:17:28           9 7d3892e54acb559ae36c459978489330\n",
       "3            0 2012-03-28 14:20:05          16 7d3892e54acb559ae36c459978489330\n",
       "4            0 2012-03-28 14:23:16          18 7d3892e54acb559ae36c459978489330\n",
       "5            0 2012-03-28 14:26:25          20 7d3892e54acb559ae36c459978489330\n",
       "6            0 2012-03-28 14:29:58          23 7d3892e54acb559ae36c459978489330\n",
       "               VIEW_COUPON_ID_hash                     USER_ID_hash\n",
       "1 34c48f84026e08355dc3bd19b427f09a d9dca3cb44bab12ba313eaa681f663eb\n",
       "2 34c48f84026e08355dc3bd19b427f09a d9dca3cb44bab12ba313eaa681f663eb\n",
       "3 17c450c3b470c045d35ec22b02daa690 d9dca3cb44bab12ba313eaa681f663eb\n",
       "4 91a15e6a95d09e5e01b50747833b317d d9dca3cb44bab12ba313eaa681f663eb\n",
       "5 96fcbc8f6e45d5a2de1661eb140c6e82 d9dca3cb44bab12ba313eaa681f663eb\n",
       "6 91a15e6a95d09e5e01b50747833b317d d9dca3cb44bab12ba313eaa681f663eb\n",
       "                   SESSION_ID_hash PURCHASEID_hash\n",
       "1 673af822615593249e7c6a9a1a6bbb1a                \n",
       "2 673af822615593249e7c6a9a1a6bbb1a                \n",
       "3 673af822615593249e7c6a9a1a6bbb1a                \n",
       "4 673af822615593249e7c6a9a1a6bbb1a                \n",
       "5 673af822615593249e7c6a9a1a6bbb1a                \n",
       "6 673af822615593249e7c6a9a1a6bbb1a                "
      ]
     },
     "execution_count": 13,
     "metadata": {},
     "output_type": "execute_result"
    },
    {
     "data": {
      "text/plain": [
       "  PURCHASE_FLG        I_DATE                     PAGE_SERIAL      \n",
       " Min.   :0.0000   Min.   :2011-07-01 00:00:41   Min.   :   1.000  \n",
       " 1st Qu.:0.0000   1st Qu.:2011-10-09 21:35:13   1st Qu.:   2.000  \n",
       " Median :0.0000   Median :2012-01-08 13:46:48   Median :   4.000  \n",
       " Mean   :0.0432   Mean   :2012-01-03 21:39:47   Mean   :   7.655  \n",
       " 3rd Qu.:0.0000   3rd Qu.:2012-03-28 02:44:20   3rd Qu.:   9.000  \n",
       " Max.   :1.0000   Max.   :2012-06-23 23:59:48   Max.   :1368.000  \n",
       "                                                                  \n",
       "                          REFERRER_hash    \n",
       " 7d3892e54acb559ae36c459978489330:1261367  \n",
       " 48243ea50a35bb107fafd46a461b0b28: 165289  \n",
       " e9aa24dbfd84b5ba97ebd8c0f50e7949: 115895  \n",
       " 6c5616ced18d79fa5a97c5c8f3e65f8f: 112544  \n",
       " 1280d2e94c507864438af604104545e4:  67473  \n",
       " ae75a8764951d2454273df8348dac8f3:  40910  \n",
       " (Other)                         :1069702  \n",
       "                       VIEW_COUPON_ID_hash \n",
       " a262c7ff56a5cd3de3c5c40443f3018c:  14779  \n",
       " d0e1b63cb7cc32edc3a6c619e4215368:   3368  \n",
       " 3d9029d3ec66802b11ee2645dc16e8cb:   3126  \n",
       " 39c215bfdebc9c2e945d4f63cb25a58d:   2751  \n",
       " 09411858ae07c0be91aeeddacf4556b4:   2645  \n",
       " 229ff5cc21c8d26615493be7f3b42841:   2626  \n",
       " (Other)                         :2803885  \n",
       "                           USER_ID_hash    \n",
       " 322a3a65e6683b6881eeb0b1a889e3f4:   3629  \n",
       " 070a8c47e1ced81abe33aec7fe371f96:   3437  \n",
       " 9ec57756932f97bb57a02c4ad864ad3e:   2968  \n",
       " 9e8986dddf308bb2a8873e5084fbf355:   2756  \n",
       " 8b4acd809e6714ac4ad267d0d2dd86c6:   2749  \n",
       " 16c2d6f1c98ee2095abedac8b70d1df5:   2739  \n",
       " (Other)                         :2814902  \n",
       "                         SESSION_ID_hash   \n",
       " 9773201fcac000edd128bfaec1c833d4:    159  \n",
       " 5bacfe0725372fbeb4d94c65f45356d1:    150  \n",
       " b084c2bdc5ef9da44b0cda042897b643:    133  \n",
       " 60ade1a155e57c0035456cfff0b0bb98:    122  \n",
       " dda2332a3c3970ad4c4c1e2a0dea631e:    101  \n",
       " acdffce59ee4249b771f70ef6c4441c3:    100  \n",
       " (Other)                         :2832415  \n",
       "                         PURCHASEID_hash   \n",
       "                                 :2710791  \n",
       " bcf543f8ec0aa8586cf6d4ab2bd8848d:     29  \n",
       " 32641c6b9c2b495a1a9414e90bcf797c:     14  \n",
       " 87123900790edccab3c49e530e77ab90:     13  \n",
       " 02734ec5bf0756e0f2d3bcbda810796c:      8  \n",
       " 54a072fad25f018d101e78bc93941594:      8  \n",
       " (Other)                         : 122317  "
      ]
     },
     "execution_count": 13,
     "metadata": {},
     "output_type": "execute_result"
    },
    {
     "name": "stdout",
     "output_type": "stream",
     "text": [
      "[1] \"2015-08-27 13:26:23 JST\" \"2015-08-27 13:27:56 JST\"\n"
     ]
    }
   ],
   "source": [
    "cat(\"################## coupon_visit_train ##################\")\n",
    "# 型を指定して読み込むために一部データを取得\n",
    "coupon_visit_train <- read.csv(\"./data/coupon_visit_train.csv\",nrow=100)\n",
    "classes <- sapply(coupon_visit_train, class)\n",
    "# classes\n",
    "classes[\"I_DATE\"]<-\"POSIXct\"\n",
    "\n",
    "start<-Sys.time()\n",
    "# 全件読み込み\n",
    "coupon_visit_train <- read.csv(\"./data/coupon_visit_train.csv\", colClasses = classes)\n",
    "head(coupon_visit_train)\n",
    "summary(coupon_visit_train)\n",
    "\n",
    "end<-Sys.time()\n",
    "\n",
    "print(c(start,end))"
   ]
  },
  {
   "cell_type": "code",
   "execution_count": 24,
   "metadata": {
    "collapsed": false
   },
   "outputs": [
    {
     "name": "stdout",
     "output_type": "stream",
     "text": [
      "################## prefecture_locations ##################"
     ]
    },
    {
     "data": {
      "text/html": [
       "<table>\n",
       "<thead><tr><th></th><th scope=col>PREF_NAME</th><th scope=col>PREFECTUAL_OFFICE</th><th scope=col>LATITUDE</th><th scope=col>LONGITUDE</th></tr></thead>\n",
       "<tbody>\n",
       "\t<tr><th scope=row>1</th><td>北海道</td><td>札幌市</td><td>43.06397</td><td>141.3479</td></tr>\n",
       "\t<tr><th scope=row>2</th><td>青森県</td><td>青森市</td><td>40.82462</td><td>140.7406</td></tr>\n",
       "\t<tr><th scope=row>3</th><td>岩手県</td><td>盛岡市</td><td>39.70353</td><td>141.1527</td></tr>\n",
       "\t<tr><th scope=row>4</th><td>宮城県</td><td>仙台市</td><td>38.26884</td><td>140.8721</td></tr>\n",
       "\t<tr><th scope=row>5</th><td>秋田県</td><td>秋田市</td><td>39.7186</td><td>140.1023</td></tr>\n",
       "\t<tr><th scope=row>6</th><td>山形県</td><td>山形市</td><td>38.24044</td><td>140.3636</td></tr>\n",
       "</tbody>\n",
       "</table>\n"
      ],
      "text/latex": [
       "\\begin{tabular}{r|llll}\n",
       "  & PREF_NAME & PREFECTUAL_OFFICE & LATITUDE & LONGITUDE\\\\\n",
       "\\hline\n",
       "\t1 & 北海道 & 札幌市 & 43.06397 & 141.3479\\\\\n",
       "\t2 & 青森県 & 青森市 & 40.82462 & 140.7406\\\\\n",
       "\t3 & 岩手県 & 盛岡市 & 39.70353 & 141.1527\\\\\n",
       "\t4 & 宮城県 & 仙台市 & 38.26884 & 140.8721\\\\\n",
       "\t5 & 秋田県 & 秋田市 & 39.7186 & 140.1023\\\\\n",
       "\t6 & 山形県 & 山形市 & 38.24044 & 140.3636\\\\\n",
       "\\end{tabular}\n"
      ],
      "text/plain": [
       "  PREF_NAME PREFECTUAL_OFFICE LATITUDE LONGITUDE\n",
       "1    北海道            札幌市 43.06397  141.3479\n",
       "2    青森県            青森市 40.82462  140.7406\n",
       "3    岩手県            盛岡市 39.70353  141.1527\n",
       "4    宮城県            仙台市 38.26884  140.8721\n",
       "5    秋田県            秋田市 39.71860  140.1023\n",
       "6    山形県            山形市 38.24044  140.3636"
      ]
     },
     "execution_count": 24,
     "metadata": {},
     "output_type": "execute_result"
    },
    {
     "data": {
      "text/plain": [
       "   PREF_NAME   PREFECTUAL_OFFICE    LATITUDE       LONGITUDE    \n",
       " 愛知県 : 1   さいたま市: 1      Min.   :26.21   Min.   :127.7  \n",
       " 愛媛県 : 1   宇都宮市  : 1      1st Qu.:34.21   1st Qu.:133.3  \n",
       " 茨城県 : 1   横浜市    : 1      Median :35.18   Median :136.2  \n",
       " 岡山県 : 1   岡山市    : 1      Mean   :35.38   Mean   :136.0  \n",
       " 沖縄県 : 1   岐阜市    : 1      3rd Qu.:36.48   3rd Qu.:139.6  \n",
       " 岩手県 : 1   宮崎市    : 1      Max.   :43.06   Max.   :141.3  \n",
       " (Other):41   (Other)   :41                                     "
      ]
     },
     "execution_count": 24,
     "metadata": {},
     "output_type": "execute_result"
    }
   ],
   "source": [
    "cat(\"################## prefecture_locations ##################\")\n",
    "prefecture_locations <- read.csv(\"./data/prefecture_locations.csv\")\n",
    "head(prefecture_locations)\n",
    "summary(prefecture_locations)"
   ]
  },
  {
   "cell_type": "code",
   "execution_count": 28,
   "metadata": {
    "collapsed": false
   },
   "outputs": [
    {
     "name": "stdout",
     "output_type": "stream",
     "text": [
      "################## sample_submission ##################"
     ]
    },
    {
     "data": {
      "text/html": [
       "<table>\n",
       "<thead><tr><th></th><th scope=col>USER_ID_hash</th><th scope=col>PURCHASED_COUPONS</th></tr></thead>\n",
       "<tbody>\n",
       "\t<tr><th scope=row>1</th><td>0000b53e182165208887ba65c079fc21</td><td>NA</td></tr>\n",
       "\t<tr><th scope=row>2</th><td>00035b86e6884589ec8d28fbf2fe7757</td><td>NA</td></tr>\n",
       "\t<tr><th scope=row>3</th><td>0005b1068d5f2b8f2a7c978fcfe1ca06</td><td>NA</td></tr>\n",
       "\t<tr><th scope=row>4</th><td>000cc06982785a19e2a2fdb40b1c9d59</td><td>NA</td></tr>\n",
       "\t<tr><th scope=row>5</th><td>0013518e41c416cd6a181d277dd8ca0b</td><td>NA</td></tr>\n",
       "\t<tr><th scope=row>6</th><td>001acdee812a18acfd7509172bed5700</td><td>NA</td></tr>\n",
       "</tbody>\n",
       "</table>\n"
      ],
      "text/latex": [
       "\\begin{tabular}{r|ll}\n",
       "  & USER_ID_hash & PURCHASED_COUPONS\\\\\n",
       "\\hline\n",
       "\t1 & 0000b53e182165208887ba65c079fc21 & NA\\\\\n",
       "\t2 & 00035b86e6884589ec8d28fbf2fe7757 & NA\\\\\n",
       "\t3 & 0005b1068d5f2b8f2a7c978fcfe1ca06 & NA\\\\\n",
       "\t4 & 000cc06982785a19e2a2fdb40b1c9d59 & NA\\\\\n",
       "\t5 & 0013518e41c416cd6a181d277dd8ca0b & NA\\\\\n",
       "\t6 & 001acdee812a18acfd7509172bed5700 & NA\\\\\n",
       "\\end{tabular}\n"
      ],
      "text/plain": [
       "                      USER_ID_hash PURCHASED_COUPONS\n",
       "1 0000b53e182165208887ba65c079fc21                NA\n",
       "2 00035b86e6884589ec8d28fbf2fe7757                NA\n",
       "3 0005b1068d5f2b8f2a7c978fcfe1ca06                NA\n",
       "4 000cc06982785a19e2a2fdb40b1c9d59                NA\n",
       "5 0013518e41c416cd6a181d277dd8ca0b                NA\n",
       "6 001acdee812a18acfd7509172bed5700                NA"
      ]
     },
     "execution_count": 28,
     "metadata": {},
     "output_type": "execute_result"
    },
    {
     "data": {
      "text/plain": [
       "                           USER_ID_hash   PURCHASED_COUPONS\n",
       " 0000b53e182165208887ba65c079fc21:    1   Mode:logical     \n",
       " 00035b86e6884589ec8d28fbf2fe7757:    1   NA's:22873       \n",
       " 0005b1068d5f2b8f2a7c978fcfe1ca06:    1                    \n",
       " 000cc06982785a19e2a2fdb40b1c9d59:    1                    \n",
       " 0013518e41c416cd6a181d277dd8ca0b:    1                    \n",
       " 001acdee812a18acfd7509172bed5700:    1                    \n",
       " (Other)                         :22867                    "
      ]
     },
     "execution_count": 28,
     "metadata": {},
     "output_type": "execute_result"
    },
    {
     "data": {
      "text/plain": [
       "[1] NA"
      ]
     },
     "execution_count": 28,
     "metadata": {},
     "output_type": "execute_result"
    }
   ],
   "source": [
    "cat(\"################## sample_submission ##################\")\n",
    "sample_submission <- read.csv(\"./data/sample_submission.csv\")\n",
    "head(sample_submission)\n",
    "summary(sample_submission)\n",
    "sample_submission$PURCHASED_COUPONS %>% unique %>% head"
   ]
  },
  {
   "cell_type": "code",
   "execution_count": 26,
   "metadata": {
    "collapsed": false
   },
   "outputs": [
    {
     "name": "stdout",
     "output_type": "stream",
     "text": [
      "################## user_list ##################"
     ]
    },
    {
     "data": {
      "text/html": [
       "<table>\n",
       "<thead><tr><th></th><th scope=col>REG_DATE</th><th scope=col>SEX_ID</th><th scope=col>AGE</th><th scope=col>WITHDRAW_DATE</th><th scope=col>PREF_NAME</th><th scope=col>USER_ID_hash</th></tr></thead>\n",
       "<tbody>\n",
       "\t<tr><th scope=row>1</th><td>2012-03-28 14:14:18</td><td>f</td><td>25</td><td>NA</td><td></td><td>d9dca3cb44bab12ba313eaa681f663eb</td></tr>\n",
       "\t<tr><th scope=row>2</th><td>2011-05-18 00:41:48</td><td>f</td><td>34</td><td>NA</td><td>東京都</td><td>560574a339f1b25e57b0221e486907ed</td></tr>\n",
       "\t<tr><th scope=row>3</th><td>2011-06-13 16:36:58</td><td>m</td><td>41</td><td>NA</td><td>愛知県</td><td>e66ae91b978b3229f8fd858c80615b73</td></tr>\n",
       "\t<tr><th scope=row>4</th><td>2012-02-08 12:56:15</td><td>m</td><td>25</td><td>NA</td><td></td><td>43fc18f32eafb05713ec02935e2c2825</td></tr>\n",
       "\t<tr><th scope=row>5</th><td>2011-05-22 23:43:56</td><td>m</td><td>62</td><td>NA</td><td>神奈川県</td><td>dc6df8aa860f8db0d710ce9d4839840f</td></tr>\n",
       "\t<tr><th scope=row>6</th><td>2011-05-27 16:17:19</td><td>f</td><td>50</td><td>NA</td><td>広島県</td><td>f430e8302c1fd0915bce0c068ecb2f82</td></tr>\n",
       "</tbody>\n",
       "</table>\n"
      ],
      "text/latex": [
       "\\begin{tabular}{r|llllll}\n",
       "  & REG_DATE & SEX_ID & AGE & WITHDRAW_DATE & PREF_NAME & USER_ID_hash\\\\\n",
       "\\hline\n",
       "\t1 & 2012-03-28 14:14:18 & f & 25 & NA &  & d9dca3cb44bab12ba313eaa681f663eb\\\\\n",
       "\t2 & 2011-05-18 00:41:48 & f & 34 & NA & 東京都 & 560574a339f1b25e57b0221e486907ed\\\\\n",
       "\t3 & 2011-06-13 16:36:58 & m & 41 & NA & 愛知県 & e66ae91b978b3229f8fd858c80615b73\\\\\n",
       "\t4 & 2012-02-08 12:56:15 & m & 25 & NA &  & 43fc18f32eafb05713ec02935e2c2825\\\\\n",
       "\t5 & 2011-05-22 23:43:56 & m & 62 & NA & 神奈川県 & dc6df8aa860f8db0d710ce9d4839840f\\\\\n",
       "\t6 & 2011-05-27 16:17:19 & f & 50 & NA & 広島県 & f430e8302c1fd0915bce0c068ecb2f82\\\\\n",
       "\\end{tabular}\n"
      ],
      "text/plain": [
       "             REG_DATE SEX_ID AGE WITHDRAW_DATE PREF_NAME\n",
       "1 2012-03-28 14:14:18      f  25          <NA>          \n",
       "2 2011-05-18 00:41:48      f  34          <NA>    東京都\n",
       "3 2011-06-13 16:36:58      m  41          <NA>    愛知県\n",
       "4 2012-02-08 12:56:15      m  25          <NA>          \n",
       "5 2011-05-22 23:43:56      m  62          <NA>  神奈川県\n",
       "6 2011-05-27 16:17:19      f  50          <NA>    広島県\n",
       "                      USER_ID_hash\n",
       "1 d9dca3cb44bab12ba313eaa681f663eb\n",
       "2 560574a339f1b25e57b0221e486907ed\n",
       "3 e66ae91b978b3229f8fd858c80615b73\n",
       "4 43fc18f32eafb05713ec02935e2c2825\n",
       "5 dc6df8aa860f8db0d710ce9d4839840f\n",
       "6 f430e8302c1fd0915bce0c068ecb2f82"
      ]
     },
     "execution_count": 26,
     "metadata": {},
     "output_type": "execute_result"
    },
    {
     "data": {
      "text/plain": [
       "    REG_DATE                   SEX_ID         AGE      \n",
       " Min.   :2010-07-21 13:44:02   f:10983   Min.   :15.0  \n",
       " 1st Qu.:2011-02-23 16:54:37   m:11890   1st Qu.:33.0  \n",
       " Median :2011-07-07 17:28:47             Median :41.0  \n",
       " Mean   :2011-07-14 07:50:56             Mean   :42.5  \n",
       " 3rd Qu.:2011-12-05 18:00:20             3rd Qu.:51.0  \n",
       " Max.   :2012-06-30 23:29:01             Max.   :80.0  \n",
       "                                                       \n",
       " WITHDRAW_DATE                    PREF_NAME   \n",
       " Min.   :2011-07-07 19:51:30           :7256  \n",
       " 1st Qu.:2011-10-03 01:18:37   東京都  :2830  \n",
       " Median :2011-12-09 03:02:11   神奈川県:1653  \n",
       " Mean   :2011-12-11 20:43:07   大阪府  :1638  \n",
       " 3rd Qu.:2012-02-05 17:51:09   愛知県  : 938  \n",
       " Max.   :2012-07-01 10:54:20   兵庫県  : 879  \n",
       " NA's   :21951                 (Other) :7679  \n",
       "                           USER_ID_hash  \n",
       " 0000b53e182165208887ba65c079fc21:    1  \n",
       " 00035b86e6884589ec8d28fbf2fe7757:    1  \n",
       " 0005b1068d5f2b8f2a7c978fcfe1ca06:    1  \n",
       " 000cc06982785a19e2a2fdb40b1c9d59:    1  \n",
       " 0013518e41c416cd6a181d277dd8ca0b:    1  \n",
       " 001acdee812a18acfd7509172bed5700:    1  \n",
       " (Other)                         :22867  "
      ]
     },
     "execution_count": 26,
     "metadata": {},
     "output_type": "execute_result"
    }
   ],
   "source": [
    "cat(\"################## user_list ##################\")\n",
    "user_list <- read.csv(\"./data/user_list.csv\")\n",
    "user_list$REG_DATE %<>% as.POSIXct\n",
    "user_list$WITHDRAW_DATE %<>% as.POSIXct\n",
    "head(user_list)\n",
    "summary(user_list)"
   ]
  }
 ],
 "metadata": {
  "kernelspec": {
   "display_name": "R",
   "language": "R",
   "name": "ir"
  },
  "language_info": {
   "codemirror_mode": "r",
   "file_extension": ".r",
   "mimetype": "text/x-r-source",
   "name": "R",
   "pygments_lexer": "r",
   "version": "3.2.2"
  }
 },
 "nbformat": 4,
 "nbformat_minor": 0
}

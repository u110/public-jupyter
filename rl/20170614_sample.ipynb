{
 "cells": [
  {
   "cell_type": "code",
   "execution_count": 34,
   "metadata": {},
   "outputs": [],
   "source": [
    "import numpy as np\n",
    "import random\n",
    "\n",
    "import pandas as pd\n",
    "\n",
    "%matplotlib inline"
   ]
  },
  {
   "cell_type": "code",
   "execution_count": 136,
   "metadata": {},
   "outputs": [],
   "source": [
    "# 報酬行列\n",
    "R = np.array([\n",
    "    [0, 1],\n",
    "    [-1, 1],\n",
    "    [5, -10],\n",
    "    [0, 0]\n",
    "    ])\n",
    "\n",
    "# Q値\n",
    "Q = np.zeros((4, 2))\n",
    "\n",
    "# 割引率\n",
    "Gamma = 0.8\n",
    "\n",
    "# 初期状態\n",
    "state = 0\n",
    "\n",
    "# エピソード\n",
    "episode = 1\n",
    "\n",
    "# 状態遷移関数\n",
    "def shiftState(state, action):\n",
    "    if state is 0:\n",
    "        if action == 0:\n",
    "            return 2\n",
    "        return 1\n",
    "    elif state is 1:\n",
    "        if action == 0:\n",
    "            return 0\n",
    "        return 3\n",
    "    elif state is 2:\n",
    "        if action == 0:\n",
    "            return 3\n",
    "        return 0\n",
    "    else:\n",
    "        return\n",
    "\n",
    "# t+1のアクションのうち最大のQ値を取得\n",
    "def fetchMaxQvalueOfNextState(next_state, action_menu):\n",
    "    return max([Q[next_state][i] for i in action_menu])\n",
    "\n",
    "res = []\n",
    "Q_val = {}\n",
    "# Q学習\n",
    "def learnQ(R, Q, Gamma, state, episode):\n",
    "    \n",
    "    while episode <= 10:\n",
    "        # print(\"episode is %d\" %episode)\n",
    "        # print(\"state is %d\" % state)\n",
    "        action_menu = [0, 1]\n",
    "        action = random.choice(action_menu)\n",
    "        # print(\"action is %d\" %action)\n",
    "        next_state = shiftState(state, action)\n",
    "        # print(\"next state is %d\" %next_state)\n",
    "        max_Q_next_sa = fetchMaxQvalueOfNextState(next_state, action_menu)\n",
    "        Q[state, action] = R[state, action] + Gamma * max_Q_next_sa\n",
    "        Q_val[\"state{}_action{}\".format(state, action)] = Q[state, action]\n",
    "        \n",
    "        part_res = {\"episode\":episode}\n",
    "        part_res.update(Q_val)\n",
    "        res.append(part_res)\n",
    "\n",
    "        # print(Q)\n",
    "\n",
    "        state = next_state\n",
    "\n",
    "        if next_state is 3:\n",
    "            episode = episode + 1\n",
    "            state = 0"
   ]
  },
  {
   "cell_type": "code",
   "execution_count": 137,
   "metadata": {
    "scrolled": true
   },
   "outputs": [],
   "source": [
    "learnQ(R, Q, Gamma, state, episode)"
   ]
  },
  {
   "cell_type": "code",
   "execution_count": null,
   "metadata": {},
   "outputs": [],
   "source": []
  },
  {
   "cell_type": "code",
   "execution_count": 138,
   "metadata": {},
   "outputs": [],
   "source": [
    "a = pd.DataFrame(res)"
   ]
  },
  {
   "cell_type": "code",
   "execution_count": 139,
   "metadata": {
    "scrolled": false
   },
   "outputs": [
    {
     "data": {
      "text/plain": [
       "<matplotlib.axes._subplots.AxesSubplot at 0x7f00256a5f98>"
      ]
     },
     "execution_count": 139,
     "metadata": {},
     "output_type": "execute_result"
    },
    {
     "data": {
      "image/png": "[encoded data removed]",
      "text/plain": [
       "<matplotlib.figure.Figure at 0x7f0025663d68>"
      ]
     },
     "metadata": {},
     "output_type": "display_data"
    }
   ],
   "source": [
    "a.plot(x=\"episode\")"
   ]
  },
  {
   "cell_type": "code",
   "execution_count": null,
   "metadata": {
    "collapsed": true
   },
   "outputs": [],
   "source": []
  },
  {
   "cell_type": "code",
   "execution_count": null,
   "metadata": {
    "collapsed": true
   },
   "outputs": [],
   "source": []
  }
 ],
 "metadata": {
  "kernelspec": {
   "display_name": "Python 3",
   "language": "python",
   "name": "python3"
  },
  "language_info": {
   "codemirror_mode": {
    "name": "ipython",
    "version": 3
   },
   "file_extension": ".py",
   "mimetype": "text/x-python",
   "name": "python",
   "nbconvert_exporter": "python",
   "pygments_lexer": "ipython3",
   "version": "3.4.3"
  }
 },
 "nbformat": 4,
 "nbformat_minor": 2
}

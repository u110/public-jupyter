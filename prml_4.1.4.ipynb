{
 "cells": [
  {
   "cell_type": "markdown",
   "metadata": {},
   "source": [
    "# PRML 4.1.4~\n",
    "\n",
    "## 前回\n",
    "\n",
    "* 線形識別モデル\n",
    "* 識別関数\n",
    "* 2クラス,多クラス\n",
    "* 分類における最小二乗\n",
    "\n",
    "## 今回\n",
    "\n",
    "* フィッシャーの判別識別\n",
    "    * 線形識別モデル　と　次元の削減\n",
    "    * ラグランジュ乗数\n",
    "\n",
    "うまく分類できる\n",
    "$\\displaystyle\n",
    "y = \\bf{w}^Tx$\n",
    "\n",
    "のパラメタ$\\bf{w}$を求める。\n"
   ]
  },
  {
   "cell_type": "code",
   "execution_count": null,
   "metadata": {
    "collapsed": true
   },
   "outputs": [],
   "source": []
  }
 ],
 "metadata": {
  "kernelspec": {
   "display_name": "Python 2",
   "language": "python",
   "name": "python2"
  },
  "language_info": {
   "codemirror_mode": {
    "name": "ipython",
    "version": 2
   },
   "file_extension": ".py",
   "mimetype": "text/x-python",
   "name": "python",
   "nbconvert_exporter": "python",
   "pygments_lexer": "ipython2",
   "version": "2.7.9"
  }
 },
 "nbformat": 4,
 "nbformat_minor": 0
}

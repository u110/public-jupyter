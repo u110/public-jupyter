{
 "cells": [
  {
   "cell_type": "markdown",
   "metadata": {
    "collapsed": true
   },
   "source": [
    "# 5.5.2 早期終了"
   ]
  },
  {
   "cell_type": "markdown",
   "metadata": {
    "collapsed": true
   },
   "source": [
    "* 正則化とは別のアプローチ\n",
    "\n",
    "* ステップ数と訓練集合の誤差\n",
    "<img src=\"./images/Figure5.12a.jpg\" width=\"400px\" />\n",
    "\n",
    "* ステップ数と検証集合の誤差\n",
    "    * 破線のところから誤差が大きくなっている。\n",
    "    --> 破線の手前で訓練が終了できると良い。\n",
    "<img src=\"./images/Figure5.12b.jpg\" width=\"400px\" />\n",
    "\n",
    "* 早期終了と荷重減衰ごにた結果を与えられるかを示す概略図\n",
    "   * $\\tilde{w}$ のところが、↑の図でいう破線のところに対応する。。？\n",
    "<img src=\"./images/Figure5.13.jpg\" width=\"400px\" />\n"
   ]
  },
  {
   "cell_type": "markdown",
   "metadata": {
    "collapsed": true
   },
   "source": [
    "# 5.5.3 不変性"
   ]
  },
  {
   "cell_type": "markdown",
   "metadata": {},
   "source": [
    "**不変**：パターン認識では、入力変数にある変換（平行移動、回転など）を受けても、予測は変わらないこと。\n",
    "\n",
    "1. 変換したパターンのデータをたくさん用意して、訓練集合を大きくする。\n",
    "    * --> シンプルでだけど、データが増えるので計算量は膨れてしまう。\n",
    "* 正則化項を誤差関数に。（5.5.4 接線伝播法）このあと。\n",
    "    * --> 5.5.5で1との関係がわかるとのこと\n",
    "* 入力値を前処理の段階で不変性を持たせる状態にする。\n",
    "    * いわゆる職人芸だから難しいとのこと。\n",
    "* ニューラルネットワーク内に、不変性を持たせる仕組みを作る。（5.5.6節の 畳込みニューラルネットワークがそれにあたるらしい）\n",
    "\n"
   ]
  },
  {
   "cell_type": "markdown",
   "metadata": {
    "collapsed": true
   },
   "source": [
    "# 5.5.4 接線伝播法"
   ]
  },
  {
   "cell_type": "markdown",
   "metadata": {},
   "source": [
    "<img src=\"./images/Figure5.15.jpg\" width=\"400px\" />"
   ]
  },
  {
   "cell_type": "code",
   "execution_count": null,
   "metadata": {
    "collapsed": true
   },
   "outputs": [],
   "source": []
  }
 ],
 "metadata": {
  "kernelspec": {
   "display_name": "R",
   "language": "R",
   "name": "ir"
  },
  "language_info": {
   "codemirror_mode": "r",
   "file_extension": ".r",
   "mimetype": "text/x-r-source",
   "name": "R",
   "pygments_lexer": "r",
   "version": "3.2.2"
  }
 },
 "nbformat": 4,
 "nbformat_minor": 0
}

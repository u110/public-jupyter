{
 "cells": [
  {
   "cell_type": "markdown",
   "metadata": {},
   "source": [
    "# 4.3.3 反復重み付け最小二乗\n",
    "\n",
    "\n",
    "* ロジスティック回帰に最尤法は無理（最尤解を解析的に導出できない）なので、\n",
    "別の方法を使う。\n",
    "\n",
    "## ニュートン-ラプソン法\n",
    "\n",
    "* 自分はニュートン法という名で習った気がする。ラプソンさんが改良したとかなんとか。\n",
    "    * $f(x)=0$ となる$x$の値を(✕解析的に)近似的に求める方法。\n",
    "    * $\n",
    "x^{(new)} = x^{(old)}\\frac{f(x)}{f'(x)}\n",
    "$\n",
    "\n",
    "* 今回は $E(w)$ の最小化したいので、 $\\nabla E(w)=0$ となる$w$ を求めるから\n",
    "\n",
    "$\n",
    "w^{(new)} \\\\\n",
    "= w^{(old)} - \\{\\nabla \\nabla E(w)\\}^{-1} \\nabla E(w) \\\\\n",
    "= w^{(old)} - H^{-1} \\nabla E(w)\n",
    "$\n",
    "\n",
    "## 線形回帰モデルへのニュートンラプソン法の適用\n",
    "\n",
    "* $\\bf{\\Phi}$\n",
    "$\n",
    "= ( \\Phi_0 ... \\Phi_{M-1} )\\\\\n",
    "= \\left(\n",
    "\\array{\n",
    "\\phi_0(\\bf{x_1}) & \\phi_1(\\bf{x_1}) &\\dots & \\phi_{M-1}(\\bf{x_1}) \\\\\n",
    "\\phi_0(\\bf{x_2}) & \\phi_1(\\bf{x_2}) &\\dots & \\phi_{M-1}(\\bf{x_2}) \\\\\n",
    "\\vdots & \\vdots & \\ddots & \\vdots \\\\\n",
    "\\phi_0(\\bf{x_n}) & \\phi_1(\\bf{x_n})& \\dots & \\phi_{M-1}(\\bf{x_n})\n",
    "}\n",
    "\\right)\n",
    "    $ ※ 3.1.1節 p.139"
   ]
  },
  {
   "cell_type": "markdown",
   "metadata": {},
   "source": [
    "## 線形回帰モデルへのニュートンラプソン法の適用\n",
    "\n",
    "$\n",
    "\\nabla E(w) \\\\\n",
    "= \\Sigma_{n=1}^N (w^T\\Phi_n - t_n)\\Phi_n \\\\\n",
    "= \\Sigma_{n=1}^N (w^T\\Phi_n \\Phi_n ) - \\Sigma_{n=1}^N (t_n\\Phi_n) \\\\\n",
    "= \\bf{\\Phi^T\\Phi w - \\Phi^Tt}\n",
    "$"
   ]
  },
  {
   "cell_type": "markdown",
   "metadata": {},
   "source": [
    "## ロジスティック回帰への適用"
   ]
  },
  {
   "cell_type": "code",
   "execution_count": null,
   "metadata": {
    "collapsed": true
   },
   "outputs": [],
   "source": []
  },
  {
   "cell_type": "markdown",
   "metadata": {},
   "source": [
    "## 参考\n",
    "* 英国と日本におけるNewton法　\n",
    "   * http://www.kurims.kyoto-u.ac.jp/~kyodo/kokyuroku/contents/pdf/1677-25.pdf\n",
    "   * ニュートン法の歴史についてまとまっていた。"
   ]
  }
 ],
 "metadata": {
  "kernelspec": {
   "display_name": "R",
   "language": "R",
   "name": "ir"
  },
  "language_info": {
   "codemirror_mode": "r",
   "file_extension": ".r",
   "mimetype": "text/x-r-source",
   "name": "R",
   "pygments_lexer": "r",
   "version": "3.2.2"
  }
 },
 "nbformat": 4,
 "nbformat_minor": 0
}

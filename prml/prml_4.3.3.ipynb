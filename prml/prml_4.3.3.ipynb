{
 "cells": [
  {
   "cell_type": "markdown",
   "metadata": {},
   "source": [
    "# 4.3.3 反復重み付け最小二乗\n",
    "\n",
    "\n",
    "* ロジスティック回帰に最尤法は無理なので、別の方法を使う。\n",
    "\n",
    "## ニュートン-ラプソン法\n",
    "\n",
    "* 自分はニュートン法として習った気がする。ラプソンさんが改良したとかなんとか。\n",
    "    * $f(x)=0$ となるｘの値を解析的に算出する方法。\n",
    "$\n",
    "x^{(new)} = x^{(old)}\\frac{f(x)}{f'(x)}\n",
    "$\n",
    "* 今回は $E(w)$ の最小化するので、 $\\nabla E(w)=0$ となる$w$ を求めるので\n",
    "\n",
    "$\n",
    "w^{(new)} \n",
    "= w^{(old)} - \\{\\nabla \\nabla E(w)\\}^{-1} \\nabla E(w)\n",
    "= w^{(old)} - H^{-1} \\nabla E(w)\n",
    "$\n",
    "\n",
    "## 参考\n",
    "* http://www.kurims.kyoto-u.ac.jp/~kyodo/kokyuroku/contents/pdf/1677-25.pdf"
   ]
  }
 ],
 "metadata": {
  "kernelspec": {
   "display_name": "R",
   "language": "R",
   "name": "ir"
  },
  "language_info": {
   "codemirror_mode": "r",
   "file_extension": ".r",
   "mimetype": "text/x-r-source",
   "name": "R",
   "pygments_lexer": "r",
   "version": "3.2.0"
  }
 },
 "nbformat": 4,
 "nbformat_minor": 0
}

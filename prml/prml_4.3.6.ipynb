{
 "cells": [
  {
   "cell_type": "markdown",
   "metadata": {},
   "source": [
    "# PRML読書会 4.3.6 正準連結関数\n"
   ]
  },
  {
   "cell_type": "markdown",
   "metadata": {},
   "source": [
    "* ガウス分布する雑音をもつ線形回帰モデルの誤差関数の微分 (3.1.3, p139)\n",
    "* ロジスティックシグモイド活性化関数と交差エントロピー誤差関数の微分 (4.91, p205) \n",
    "* ソフトマックス活性化関数と　〃  (4.109, p209) \n",
    "\n",
    "誤差 $y_n - t_n$ と 特徴ベクトル $\\phi_n$ と積という同じ形式が含まれる。\n",
    "\n",
    "> 正準連結関数 (canonical link function) として知られている 関数を活性化関数に選び、\n",
    "> 指数型分布族の中から目的変数に 対する条件付き確率分布を選択する...\n",
    "\n",
    "今回はこれについて示していく。"
   ]
  },
  {
   "cell_type": "markdown",
   "metadata": {},
   "source": [
    "予習の時間取れず、数式は板書で。。--> 来週に延期になったので書いてくるかも。"
   ]
  },
  {
   "cell_type": "markdown",
   "metadata": {},
   "source": []
  },
  {
   "cell_type": "markdown",
   "metadata": {},
   "source": []
  },
  {
   "cell_type": "markdown",
   "metadata": {},
   "source": []
  }
 ],
 "metadata": {
  "kernelspec": {
   "display_name": "R",
   "language": "R",
   "name": "ir"
  },
  "language_info": {
   "codemirror_mode": "r",
   "file_extension": ".r",
   "mimetype": "text/x-r-source",
   "name": "R",
   "pygments_lexer": "r",
   "version": "3.2.2"
  }
 },
 "nbformat": 4,
 "nbformat_minor": 0
}

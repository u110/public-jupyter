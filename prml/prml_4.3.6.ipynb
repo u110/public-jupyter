{
 "cells": [
  {
   "cell_type": "markdown",
   "metadata": {},
   "source": [
    "# PRML読書会 4.3.6 正準連結関数\n"
   ]
  },
  {
   "cell_type": "markdown",
   "metadata": {},
   "source": [
    "* ガウス分布する雑音をもつ線形回帰モデルの誤差関数の微分 (3.1.3, p139)\n",
    "\n",
    "$\n",
    "\\nabla \\ln p(\\vec{t}|\\vec{w},\\beta)\n",
    "= \\beta \\Sigma^N_{n=1} \\{t_n - \\vec{w}^T\\phi(\\vec{x}_n)\\} \\phi(\\vec{x}_n)^T\n",
    "$\n",
    "\n",
    "* ロジスティックシグモイド活性化関数と交差エントロピー誤差関数の微分 (4.91, p205) \n",
    "\n",
    "$\n",
    "\\nabla E(\\vec{w}) = \\Sigma^N_{n=1} (y_n - t_n) \\phi_n\n",
    "$\n",
    "\n",
    "* ソフトマックス活性化関数と　〃  (4.109, p209) \n",
    "\n",
    "$\n",
    "\\nabla_{\\vec{w_j}} E(\\vec{w_1},...,\\vec{w_K}) \n",
    "= \\Sigma^N_{n=1} (y_{nj} - t_{nj}) \\phi_n\n",
    "$\n",
    "\n",
    "観測値と予測値の誤差 $y_n - t_n$ と\n",
    "特徴ベクトル $\\phi_n$ と積という同じ形式が含まれる。\n",
    "\n",
    "> 正準連結関数 (canonical link function) として知られている 関数を活性化関数に選び、\n",
    "> 指数型分布族の中から目的変数に 対する条件付き確率分布を選択することから得られる一般的な結果であることを示そう。\n"
   ]
  },
  {
   "cell_type": "markdown",
   "metadata": {},
   "source": [
    "数式は板書で。。"
   ]
  },
  {
   "cell_type": "markdown",
   "metadata": {},
   "source": [
    "#### 前準備として (式 4.118) tの条件付き確率分布を指数分布で与えると\n",
    "\n",
    "$\n",
    "p(t|\\eta,s)\n",
    "= \\cfrac{1}{s} h(\\cfrac{t}{s}) g(\\eta) \\exp\\{\\cfrac{\\eta t}{s}\\}\n",
    "$\n",
    "\n",
    "pは確率なのでtで積分すると1\n",
    "\n",
    "$\n",
    "\\int p(t|\\eta,s) dt = 1\n",
    "$\n",
    "\n",
    "$\n",
    "\\int p(t|\\eta,s) dt\n",
    "= \\int \\cfrac{1}{s} h(\\cfrac{t}{s}) g(\\eta) \\exp\\{\\cfrac{\\eta t}{s}\\} dt\n",
    "= \\cfrac{g(\\eta)}{s} \\int h(\\cfrac{t}{s}) \\exp\\{\\cfrac{\\eta t}{s}\\} dt\n",
    "$\n",
    "\n",
    "$\n",
    "g(\\eta) \\int h(\\cfrac{t}{s}) \\exp\\{\\cfrac{\\eta t}{s}\\} dt = s\n",
    "$\n",
    "\n",
    "【1】 $\\int h(\\cfrac{t}{s}) \\exp\\{\\cfrac{\\eta t}{s}\\} dt = \\cfrac{s}{g(\\eta)} $"
   ]
  },
  {
   "cell_type": "markdown",
   "metadata": {},
   "source": [
    "両辺を微分する\n",
    "\n",
    "$\n",
    "\\cfrac{d g(\\eta)}{d\\eta} * \\int h(\\cfrac{t}{s}) \\exp\\{\\cfrac{\\eta t}{s}\\} dt \n",
    "+ g(\\eta) \\int \\cfrac{t}{s}h(\\cfrac{t}{s}) \\exp(\\frac{\\eta t}{s}) dt\n",
    "= 1\n",
    "$"
   ]
  },
  {
   "cell_type": "markdown",
   "metadata": {},
   "source": [
    "$\n",
    "\\cfrac{d g(\\eta)}{d\\eta} \\cfrac{s}{g(\\eta)} \n",
    "+ \\int t * \\cfrac{1}{s}h(\\cfrac{t}{s}) g(\\eta) \\exp(\\frac{\\eta t}{s})dt\n",
    "= 1\n",
    "$"
   ]
  },
  {
   "cell_type": "markdown",
   "metadata": {},
   "source": [
    "$\n",
    "s \\cfrac{d}{d\\eta} \\ln g(\\eta)\n",
    "+ \\int t * p(t|\\eta, s) dt = 1\n",
    "$"
   ]
  },
  {
   "cell_type": "markdown",
   "metadata": {},
   "source": [
    "$\n",
    "\\int t * p(t|\\eta, s) dt\n",
    "= - s \\cfrac{d}{d\\eta} \\ln g(\\eta)\n",
    "$\n",
    "\n",
    "↑前準備でほしかった式はこれ。\n",
    "\n",
    "【2】 $ \\int t * p(t|\\eta, s) dt$ は条件付き平均 $ y \\equiv \\mathbb{E}[t|\\eta]$"
   ]
  },
  {
   "cell_type": "markdown",
   "metadata": {},
   "source": [
    "【3】 $ \\cfrac{y}{s} = - \\cfrac{d}{d\\eta} \\ln g(\\eta) $\n",
    "\n",
    "$y$ に $\\eta$ の逆関数があるものとしたとき $\\eta = \\psi(y) $ とする。\n",
    "\n",
    "$\n",
    "\\eta_n = \\psi(y_n) \\\\\n",
    "y_n = f(a_n) \\\\\n",
    "a_n = \\vec{w}^T \\phi_n\n",
    "$"
   ]
  },
  {
   "cell_type": "markdown",
   "metadata": {},
   "source": [
    "#### 対数尤度関数\n",
    "\n",
    "$\n",
    "\\Sigma^N_{n=1} ln p(t_n|\\eta, s)\n",
    "= \\Sigma^N_{n=1} \\{ \\ln g(\\eta_n) + \\cfrac{\\eta_n t_n}{s} \\} + 定数\n",
    "$"
   ]
  },
  {
   "cell_type": "markdown",
   "metadata": {},
   "source": [
    "wの勾配は\n",
    "\n",
    "$\n",
    "\\Sigma^N_{n=1} \\{ \\cfrac{d}{d \\eta_n} \\ln g(\\eta_n) + \\cfrac{t_n}{s} \\} \\cfrac{d \\eta_n}{d y_n} \\cfrac{d y_n}{d a_n} \\nabla a_n\n",
    "$"
   ]
  },
  {
   "cell_type": "markdown",
   "metadata": {},
   "source": [
    "【3】を使うと結果として式4.122 が求まる。\n",
    "\n",
    "微分周りの解釈。きっとこういう計算がされてるはず。\n",
    "\n",
    "$ \\cfrac{d}{dw} g(\\eta) \\\\\n",
    "= g(\\eta) * \\cfrac{d}{dw} \\eta \\\\\n",
    "= g(\\eta) * \\psi'(y) * \\cfrac{d}{dw}y \\\\\n",
    "= g(\\eta) * \\psi'(y) * f'(a) \\nabla_w a \\\\\n",
    "= g(\\eta) * \\psi'(y) * f'(a) \\nabla_w w^T\\phi \\\\\n",
    "= g(\\eta) * \\psi'(y) * f'(a) \\phi\n",
    "$"
   ]
  },
  {
   "cell_type": "code",
   "execution_count": null,
   "metadata": {
    "collapsed": true
   },
   "outputs": [],
   "source": []
  },
  {
   "cell_type": "code",
   "execution_count": null,
   "metadata": {
    "collapsed": true
   },
   "outputs": [],
   "source": []
  },
  {
   "cell_type": "code",
   "execution_count": null,
   "metadata": {
    "collapsed": true
   },
   "outputs": [],
   "source": []
  },
  {
   "cell_type": "code",
   "execution_count": null,
   "metadata": {
    "collapsed": true
   },
   "outputs": [],
   "source": []
  }
 ],
 "metadata": {
  "kernelspec": {
   "display_name": "R",
   "language": "R",
   "name": "ir"
  },
  "language_info": {
   "codemirror_mode": "r",
   "file_extension": ".r",
   "mimetype": "text/x-r-source",
   "name": "R",
   "pygments_lexer": "r",
   "version": "3.2.2"
  }
 },
 "nbformat": 4,
 "nbformat_minor": 0
}

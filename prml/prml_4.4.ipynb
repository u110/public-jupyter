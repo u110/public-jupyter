{
 "cells": [
  {
   "cell_type": "markdown",
   "metadata": {},
   "source": [
    "# PRML 読書会 4.4 ラプラス近似\n",
    "\n",
    "* 4章のこれまで\n",
    "    * 識別関数による方法\n",
    "        * フィッシャーの識別関数\n",
    "        * パーセプトロンアルゴリズム\n",
    "    * 確率的生成モデル\n",
    "        * 事後確率 $p(C_k|\\vec{x})$ をモデル化する方法\n",
    "            * ロジスティック回帰モデル\n",
    "        * === 今回はここから ===\n",
    "        * 事前確率 $p(C_k)$、尤度 $p(\\vec{x}|C_k)$ を生成し、それを元に $p(C_k|\\vec{x})$ を求める方法\n",
    "            * ラプラス近似\n",
    "            * ベイズロジスティック回帰\n"
   ]
  },
  {
   "cell_type": "markdown",
   "metadata": {},
   "source": [
    "## ラプラス近似"
   ]
  },
  {
   "cell_type": "markdown",
   "metadata": {},
   "source": []
  }
 ],
 "metadata": {
  "kernelspec": {
   "display_name": "R",
   "language": "R",
   "name": "ir"
  },
  "language_info": {
   "codemirror_mode": "r",
   "file_extension": ".r",
   "mimetype": "text/x-r-source",
   "name": "R",
   "pygments_lexer": "r",
   "version": "3.2.2"
  }
 },
 "nbformat": 4,
 "nbformat_minor": 0
}

{
 "cells": [
  {
   "cell_type": "markdown",
   "metadata": {},
   "source": [
    "## SGDでのパラメタの更新"
   ]
  },
  {
   "cell_type": "code",
   "execution_count": 123,
   "metadata": {
    "collapsed": false
   },
   "outputs": [
    {
     "data": {
      "image/png": "[encoded data removed]"
     },
     "metadata": {},
     "output_type": "display_data"
    }
   ],
   "source": [
    "library(\"dplyr\")\n",
    "library(\"ggplot2\")\n",
    "\n",
    "x.df <- iris[,1:4] %>% scale\n",
    "t.li <- iris$Species %>% as.integer %>% ifelse(.>=2,0,.) %>% as.matrix # 2値にしておく\n",
    "\n",
    "phi <- function(x) c(1, x[1], x[2])\n",
    "PHI <- t(apply(x.df, 1, phi))  # NxM\n",
    "M   <- ncol(PHI)  # 特徴数(特徴空間の次元)\n",
    "K   <- 1 # クラス数\n",
    "# w   <- matrix(rnorm(M * K), M) # 初期化\n",
    "w   <- matrix(c(1, 1, 1), M) # 初期化\n",
    "y <- function(phi, w) {\n",
    "  ## ロジスティック関数\n",
    "    a <- phi %*% w\n",
    "    1 /(1+exp(-a))\n",
    "}\n",
    "# y(PHI[c(1,2),],w)\n",
    "\n",
    "dEw <- function(phi, t.li, w){\n",
    "  # 誤算関数の勾配\n",
    "  (y(phi,w)-t.li) * phi\n",
    "}\n",
    "\n",
    "a<- -(w[1,]/w[3,])\n",
    "b<- -(w[2,]/w[3,])\n",
    "qplot(x=PHI[,2],y=PHI[,3],geom=\"point\",col=factor(t.li))+\n",
    "  geom_abline(slope=a,intercept=b,col=\"gray\")+\n",
    "  coord_cartesian(xlim=c(-3,3),y=c(-3,3))"
   ]
  },
  {
   "cell_type": "code",
   "execution_count": 174,
   "metadata": {
    "collapsed": false
   },
   "outputs": [
    {
     "name": "stderr",
     "output_type": "stream",
     "text": [
      "Executing: \n",
      "'convert' -loop 0 -delay 1 s1.png s2.png s3.png s4.png s5.png s6.png\n",
      "    s7.png s8.png s9.png s10.png s11.png s12.png s13.png s14.png\n",
      "    s15.png s16.png s17.png s18.png s19.png s20.png s21.png s22.png\n",
      "    s23.png s24.png s25.png s26.png s27.png s28.png s29.png s30.png\n",
      "    s31.png s32.png s33.png s34.png s35.png s36.png s37.png s38.png\n",
      "    s39.png s40.png s41.png s42.png s43.png s44.png s45.png s46.png\n",
      "    s47.png s48.png s49.png s50.png s51.png s52.png s53.png s54.png\n",
      "    s55.png s56.png s57.png s58.png s59.png s60.png s61.png s62.png\n",
      "    s63.png s64.png s65.png s66.png s67.png s68.png s69.png s70.png\n",
      "    s71.png s72.png s73.png s74.png s75.png s76.png s77.png s78.png\n",
      "    s79.png s80.png s81.png s82.png s83.png s84.png s85.png s86.png\n",
      "    s87.png s88.png s89.png s90.png s91.png s92.png s93.png s94.png\n",
      "    s95.png s96.png s97.png s98.png s99.png s100.png s101.png s102.png\n",
      "    s103.png s104.png s105.png s106.png s107.png s108.png s109.png\n",
      "    s110.png s111.png s112.png s113.png s114.png s115.png s116.png\n",
      "    s117.png s118.png s119.png s120.png s121.png s122.png s123.png\n",
      "    s124.png s125.png s126.png s127.png s128.png s129.png s130.png\n",
      "    s131.png s132.png s133.png s134.png s135.png s136.png s137.png\n",
      "    s138.png s139.png s140.png s141.png s142.png s143.png s144.png\n",
      "    s145.png s146.png s147.png s148.png s149.png s150.png s151.png\n",
      "    s152.png s153.png s154.png s155.png s156.png s157.png s158.png\n",
      "    s159.png s160.png s161.png s162.png s163.png s164.png s165.png\n",
      "    s166.png s167.png s168.png s169.png s170.png s171.png s172.png\n",
      "    s173.png s174.png s175.png s176.png s177.png s178.png s179.png\n",
      "    s180.png s181.png s182.png s183.png s184.png s185.png s186.png\n",
      "    s187.png s188.png s189.png s190.png s191.png s192.png s193.png\n",
      "    s194.png s195.png s196.png s197.png s198.png s199.png s200.png\n",
      "    s201.png s202.png s203.png s204.png s205.png s206.png s207.png\n",
      "    s208.png s209.png s210.png s211.png s212.png s213.png s214.png\n",
      "    s215.png s216.png s217.png s218.png s219.png s220.png s221.png\n",
      "    s222.png s223.png s224.png s225.png s226.png s227.png s228.png\n",
      "    s229.png s230.png s231.png s232.png s233.png s234.png s235.png\n",
      "    s236.png s237.png s238.png s239.png s240.png s241.png s242.png\n",
      "    s243.png s244.png s245.png s246.png s247.png s248.png s249.png\n",
      "    s250.png s251.png s252.png s253.png s254.png s255.png s256.png\n",
      "    s257.png s258.png s259.png s260.png s261.png s262.png s263.png\n",
      "    s264.png s265.png s266.png s267.png s268.png s269.png s270.png\n",
      "    s271.png s272.png s273.png s274.png s275.png s276.png s277.png\n",
      "    s278.png s279.png s280.png s281.png s282.png s283.png s284.png\n",
      "    s285.png s286.png s287.png s288.png s289.png s290.png s291.png\n",
      "    s292.png s293.png s294.png s295.png s296.png s297.png s298.png\n",
      "    s299.png s300.png s301.png s302.png s303.png s304.png s305.png\n",
      "    s306.png s307.png s308.png s309.png s310.png s311.png s312.png\n",
      "    s313.png s314.png s315.png s316.png s317.png s318.png s319.png\n",
      "    s320.png s321.png s322.png s323.png s324.png s325.png s326.png\n",
      "    s327.png s328.png s329.png s330.png s331.png s332.png s333.png\n",
      "    s334.png s335.png s336.png s337.png s338.png s339.png s340.png\n",
      "    s341.png s342.png s343.png s344.png s345.png s346.png s347.png\n",
      "    s348.png s349.png s350.png s351.png s352.png s353.png s354.png\n",
      "    s355.png s356.png s357.png s358.png s359.png s360.png s361.png\n",
      "    s362.png s363.png s364.png s365.png s366.png s367.png s368.png\n",
      "    s369.png s370.png s371.png s372.png s373.png s374.png s375.png\n",
      "    s376.png s377.png s378.png s379.png s380.png s381.png s382.png\n",
      "    s383.png s384.png s385.png s386.png s387.png s388.png s389.png\n",
      "    s390.png s391.png s392.png s393.png s394.png s395.png s396.png\n",
      "    s397.png s398.png s399.png s400.png s401.png s402.png s403.png\n",
      "    s404.png s405.png s406.png s407.png s408.png s409.png s410.png\n",
      "    s411.png s412.png s413.png s414.png s415.png s416.png s417.png\n",
      "    s418.png s419.png s420.png s421.png s422.png s423.png s424.png\n",
      "    s425.png s426.png s427.png s428.png s429.png s430.png s431.png\n",
      "    s432.png s433.png s434.png s435.png s436.png s437.png s438.png\n",
      "    s439.png s440.png s441.png s442.png s443.png s444.png s445.png\n",
      "    s446.png s447.png s448.png s449.png s450.png s451.png s452.png\n",
      "    s453.png s454.png s455.png s456.png s457.png s458.png s459.png\n",
      "    s460.png s461.png s462.png s463.png s464.png s465.png s466.png\n",
      "    s467.png s468.png s469.png s470.png s471.png s472.png s473.png\n",
      "    s474.png s475.png s476.png s477.png s478.png s479.png s480.png\n",
      "    s481.png s482.png s483.png s484.png s485.png s486.png s487.png\n",
      "    s488.png s489.png s490.png s491.png s492.png s493.png s494.png\n",
      "    s495.png s496.png s497.png s498.png s499.png s500.png s501.png\n",
      "    s502.png s503.png s504.png s505.png s506.png s507.png s508.png\n",
      "    s509.png s510.png s511.png s512.png s513.png s514.png s515.png\n",
      "    s516.png s517.png s518.png s519.png s520.png s521.png s522.png\n",
      "    s523.png s524.png s525.png s526.png s527.png s528.png s529.png\n",
      "    s530.png s531.png s532.png s533.png s534.png s535.png s536.png\n",
      "    s537.png s538.png s539.png s540.png s541.png s542.png s543.png\n",
      "    s544.png s545.png s546.png s547.png s548.png s549.png s550.png\n",
      "    s551.png s552.png s553.png s554.png s555.png s556.png s557.png\n",
      "    s558.png s559.png s560.png s561.png s562.png s563.png s564.png\n",
      "    s565.png s566.png s567.png s568.png s569.png s570.png s571.png\n",
      "    s572.png s573.png s574.png s575.png s576.png s577.png s578.png\n",
      "    s579.png s580.png s581.png s582.png s583.png s584.png s585.png\n",
      "    s586.png s587.png s588.png s589.png s590.png s591.png s592.png\n",
      "    s593.png s594.png s595.png s596.png s597.png s598.png s599.png\n",
      "    s600.png 'logistic_sgd.gif'\n",
      "Output at: logistic_sgd.gif\n"
     ]
    },
    {
     "data": {
      "text/html": [
       "TRUE"
      ],
      "text/latex": [
       "TRUE"
      ],
      "text/markdown": [
       "TRUE"
      ],
      "text/plain": [
       "[1] TRUE"
      ]
     },
     "execution_count": 174,
     "metadata": {},
     "output_type": "execute_result"
    },
    {
     "data": {
      "text/html": [
       "<table>\n",
       "<tbody>\n",
       "\t<tr><td>-1.821942</td></tr>\n",
       "\t<tr><td>-3.005364</td></tr>\n",
       "\t<tr><td>2.392654</td></tr>\n",
       "</tbody>\n",
       "</table>\n"
      ],
      "text/latex": [
       "\\begin{tabular}{l}\n",
       "\t -1.821942\\\\\n",
       "\t -3.005364\\\\\n",
       "\t 2.392654\\\\\n",
       "\\end{tabular}\n"
      ],
      "text/markdown": [
       "1. -1.82194229700568\n",
       "2. -3.00536432667239\n",
       "3. 2.39265406346736\n",
       "\n",
       "\n"
      ],
      "text/plain": [
       "          [,1]\n",
       "[1,] -1.821942\n",
       "[2,] -3.005364\n",
       "[3,]  2.392654"
      ]
     },
     "execution_count": 174,
     "metadata": {},
     "output_type": "execute_result"
    }
   ],
   "source": [
    "w   <- matrix(c(1, 1, 1), M) # 初期化\n",
    "\n",
    "mydraw<-function(n,w){\n",
    "  a<- -(w[1,]/w[3,])\n",
    "  b<- -(w[2,]/w[3,])\n",
    "  p<- qplot(x=PHI[,2],y=PHI[,3],geom=\"point\",col=factor(t.li))+\n",
    "    geom_abline(slope=a,intercept=b,col=\"gray\")+\n",
    "    coord_cartesian(xlim=c(-3,3),ylim=c(-3,3))+\n",
    "    ggtitle(paste(\"n:\",n))\n",
    "  print(p)\n",
    "}\n",
    "update_w<-function(loop_cnt=200){\n",
    "  eta <- 0.1  # 学習率\n",
    "  i<-1\n",
    "  for(n in sample(x=1:nrow(PHI),size = loop_cnt,replace = T)) {\n",
    "    w <<- w -eta * dEw(PHI[n,], t.li[n], w)  # SGD\n",
    "    mydraw(i,w)\n",
    "    i<-i+1\n",
    "  }\n",
    "}\n",
    "library(\"animation\")\n",
    "w   <- matrix(c(1, 1, 1), M) # 初期化\n",
    "saveGIF(update_w(600),interval = .01,img.name=\"s\",movie.name = \"logistic_sgd.gif\")\n",
    "w"
   ]
  },
  {
   "cell_type": "markdown",
   "metadata": {},
   "source": [
    "* wの更新イメージ。本当は境界面も動いて欲しいのだが動かない。\n",
    "![](logistic_sgd.gif)"
   ]
  },
  {
   "cell_type": "markdown",
   "metadata": {
    "collapsed": false
   },
   "source": [
    "あと少しな感じ。"
   ]
  },
  {
   "cell_type": "markdown",
   "metadata": {},
   "source": [
    "## IRLS"
   ]
  },
  {
   "cell_type": "code",
   "execution_count": 175,
   "metadata": {
    "collapsed": false
   },
   "outputs": [
    {
     "name": "stdout",
     "output_type": "stream",
     "text": [
      "[1] \"loop-end: 44\"\n"
     ]
    },
    {
     "name": "stderr",
     "output_type": "stream",
     "text": [
      "Executing: \n",
      "'convert' -loop 0 -delay 20 s1.png s2.png s3.png s4.png s5.png s6.png\n",
      "    s7.png s8.png s9.png s10.png s11.png s12.png s13.png s14.png\n",
      "    s15.png s16.png s17.png s18.png s19.png s20.png s21.png s22.png\n",
      "    s23.png s24.png s25.png s26.png s27.png s28.png s29.png s30.png\n",
      "    s31.png s32.png s33.png s34.png s35.png s36.png s37.png s38.png\n",
      "    s39.png s40.png s41.png s42.png s43.png 'logistic_IRLS.gif'\n",
      "Output at: logistic_IRLS.gif\n"
     ]
    },
    {
     "data": {
      "text/html": [
       "TRUE"
      ],
      "text/latex": [
       "TRUE"
      ],
      "text/markdown": [
       "TRUE"
      ],
      "text/plain": [
       "[1] TRUE"
      ]
     },
     "execution_count": 175,
     "metadata": {},
     "output_type": "execute_result"
    },
    {
     "data": {
      "text/html": [
       "<table>\n",
       "<tbody>\n",
       "\t<tr><th scope=row></th><td>-190.7192</td></tr>\n",
       "\t<tr><th scope=row>Sepal.Length</th><td>-268.7957</td></tr>\n",
       "\t<tr><th scope=row>Sepal.Width</th><td>119.491</td></tr>\n",
       "</tbody>\n",
       "</table>\n"
      ],
      "text/latex": [
       "\\begin{tabular}{r|l}\n",
       "\t & -190.7192\\\\\n",
       "\tSepal.Length & -268.7957\\\\\n",
       "\tSepal.Width & 119.491\\\\\n",
       "\\end{tabular}\n"
      ],
      "text/markdown": [
       "1. -190.719191657177\n",
       "2. -268.795705734277\n",
       "3. 119.490992653027\n",
       "\n",
       "\n"
      ],
      "text/plain": [
       "                  [,1]\n",
       "             -190.7192\n",
       "Sepal.Length -268.7957\n",
       "Sepal.Width   119.4910"
      ]
     },
     "execution_count": 175,
     "metadata": {},
     "output_type": "execute_result"
    }
   ],
   "source": [
    "w   <- matrix(c(1, 1, 1), M) # 初期化\n",
    "update_w_IRLS<-function(){\n",
    "  N <- dim(y_n)[1]\n",
    "  error_rate<-function(w_new,w){\n",
    "    sum((w_new - w)*(w_new - w)) / sum(w*w)\n",
    "  }\n",
    "  i<-1\n",
    "  while(T){\n",
    "    y_n <- y(PHI,w)\n",
    "    r_n <- y_n*(1-y_n)\n",
    "    R_m <- diag(as.numeric(r_n), N, N )\n",
    "    H <- t(PHI) %*% R_m %*% PHI\n",
    "    w_new <- w - solve(H) %*% t(PHI) %*% (y_n-t.li)\n",
    "    if(error_rate(w_new,w) < .00001){\n",
    "      paste(\"loop-end:\",i) %>% print\n",
    "      break\n",
    "    }else{\n",
    "      w <<- w_new\n",
    "      i <- i+1\n",
    "    }\n",
    "    mydraw(i,w)\n",
    "  }    \n",
    "}\n",
    "# update_w_IRLS()\n",
    "saveGIF(update_w_IRLS(),interval = .2,img.name=\"s\",movie.name = \"logistic_IRLS.gif\")\n",
    "w"
   ]
  },
  {
   "cell_type": "markdown",
   "metadata": {
    "collapsed": false
   },
   "source": [
    "* うまく分離できていない感（汗\n",
    "![](logistic_IRLS.gif)"
   ]
  },
  {
   "cell_type": "markdown",
   "metadata": {
    "collapsed": false
   },
   "source": [
    "もうすこし並行移動してくれたらよさそうなのだけど。。"
   ]
  },
  {
   "cell_type": "code",
   "execution_count": null,
   "metadata": {
    "collapsed": true
   },
   "outputs": [],
   "source": []
  }
 ],
 "metadata": {
  "kernelspec": {
   "display_name": "R",
   "language": "R",
   "name": "ir"
  },
  "language_info": {
   "codemirror_mode": "r",
   "file_extension": ".r",
   "mimetype": "text/x-r-source",
   "name": "R",
   "pygments_lexer": "r",
   "version": "3.2.2"
  }
 },
 "nbformat": 4,
 "nbformat_minor": 0
}

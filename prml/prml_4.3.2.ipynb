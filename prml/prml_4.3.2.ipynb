{
 "cells": [
  {
   "cell_type": "markdown",
   "metadata": {},
   "source": [
    "# 4.3.2 ロジスティック回帰\n",
    "\n",
    "## 事後確率\n",
    "\n",
    "$\n",
    "p(C_1|\\phi) = y(\\phi) = \\sigma( \\bf{w}^T \\phi)\n",
    "$\n",
    "\n",
    "- Φ:特徴ベクトル\n",
    "- ロジスティックシグモイド関数\n",
    "\n",
    "$\n",
    "\\sigma(a) = \\frac{1}{1+\\exp( - a)} \\\\\n",
    "$\n",
    "\n",
    "## 演習4.12\n",
    "\n",
    "$\n",
    "\\frac{d\\sigma}{da} \\\\\n",
    "=\\frac{d}{da} \\sigma \\\\\n",
    "=\\frac{d}{da} \\frac{1}{1+\\exp( - a)} \\\\\n",
    "=\\frac{\\exp( - a)}{(1+\\exp( - a))^2}  \\\\\n",
    "=\\frac{1}{(1+\\exp( - a))} \\frac{\\exp( - a)}{(1+\\exp( - a))}  \\\\\n",
    "=\\frac{1}{(1+\\exp( - a))} \\frac{1+\\exp( - a)- 1}{(1+\\exp( - a))}  \\\\\n",
    "=\\frac{1}{(1+\\exp( - a))} (1- \\frac{1}{(1+\\exp( - a))})  \\\\\n",
    "=\\sigma(1 - \\sigma)\n",
    "$\n",
    "\n",
    "## 尤度関数\n",
    "\n",
    "$\n",
    "p(\\bf{t}$$|$$\\bf{w}$$) \\\\\n",
    "= \\Pi_{n=1}^N p(C_1|\\phi_n)^{t_n}p(C_2|\\phi_n)^{1-t_n} \\\\\n",
    "= \\Pi_{n=1}^N y_n^{t_n}\\{1 - y_n \\}^{1-t_n}\n",
    "$\n",
    "\n",
    "- データ集合：$\\{\\phi_n\\}, t_n \\in \\{0,1\\} $\n",
    "- $\\bf{t}$$=(t_1,...,t_N)^T, y_n = p(C_1|\\phi_n) = \\sigma( \\bf{w}^T \\phi)$\n",
    "\n",
    "## 交差エントロピー誤差関数\n",
    "\n",
    "$\n",
    "E(\\bf{w})$\n",
    "$\n",
    "= -\\ln p(\\bf{t}|\\bf{w})\n",
    "$\n",
    "$\n",
    "= - \\Sigma_{n=1}^N \\{ t_n \\ln y_n + (1 - t_n) \\ln (1-y_n) \\}\n",
    "$\n",
    "\n",
    "## 誤差関数の勾配(演習4.13)\n",
    "\n",
    "- 微分メモ： \n",
    "$\n",
    "\\frac{da}{d\\bf{w}} = \\frac{d}{d\\bf{w}} \\bf{w}$$^T\\phi_n = \\phi_n ,\n",
    "$\n",
    "$\n",
    "\\frac{dy_n}{\\bf{w}} = (y_n)'(\\bf{w}$$^T\\phi_n)' = y_n(1-y_n)\\phi_n\n",
    "$\n",
    "\n",
    "$\n",
    "\\nabla E(\\bf{w})\n",
    "$\n",
    "\n",
    "$\n",
    "= \\frac{d}{d\\bf{w}} E\n",
    "$\n",
    "\n",
    "$\n",
    "= \\frac{d}{d\\bf{w}} [ - \\Sigma_{n=1}^N \\{ t_n \\ln y_n + (1 - t_n) \\ln (1-y_n) \\} ]\n",
    "$\n",
    "\n",
    "$\n",
    "= - \\Sigma_{n=1}^N \\{ \\frac{t_n}{y_n} (y_n(1-y_n)\\phi_n) - \\frac{(1 - t_n)}{(1- y_n)}(y_n(1-y_n)\\phi_n) \\}\n",
    "$\n",
    "\n",
    "$\n",
    "= - \\Sigma_{n=1}^N \\{ t_n (1-y_n)\\phi_n - (1 - t_n)y_n\\phi_n \\}\n",
    "$\n",
    "\n",
    "$\n",
    "= \\Sigma_{n=1}^N (y_n - t_n) \\phi_n\n",
    "$\n",
    "\n",
    "- ∑ (目的値とモデルの予測値の「誤差」)　＊ 基底関数ベクトル\n",
    "\n",
    "## 演習4.14\n",
    "\n",
    "- http://www.chokkan.org/publication/survey/prml_chapter4_discriminative_slides.pdf\n",
    "- p.16あたり。イマイチなんだかよくわからず。。"
   ]
  },
  {
   "cell_type": "code",
   "execution_count": null,
   "metadata": {
    "collapsed": false
   },
   "outputs": [],
   "source": []
  },
  {
   "cell_type": "code",
   "execution_count": null,
   "metadata": {
    "collapsed": false
   },
   "outputs": [],
   "source": []
  },
  {
   "cell_type": "code",
   "execution_count": null,
   "metadata": {
    "collapsed": false
   },
   "outputs": [],
   "source": []
  },
  {
   "cell_type": "code",
   "execution_count": null,
   "metadata": {
    "collapsed": false
   },
   "outputs": [],
   "source": []
  }
 ],
 "metadata": {
  "kernelspec": {
   "display_name": "R",
   "language": "R",
   "name": "ir"
  },
  "language_info": {
   "codemirror_mode": "r",
   "file_extension": ".r",
   "mimetype": "text/x-r-source",
   "name": "R",
   "pygments_lexer": "r",
   "version": "3.2.2"
  }
 },
 "nbformat": 4,
 "nbformat_minor": 0
}

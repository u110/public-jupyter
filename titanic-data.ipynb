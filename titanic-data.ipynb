{
 "cells": [
  {
   "cell_type": "code",
   "execution_count": 37,
   "metadata": {
    "collapsed": false
   },
   "outputs": [],
   "source": [
    "library(\"magrittr\")\n",
    "library(\"dplyr\")\n",
    "library(\"reshape2\")"
   ]
  },
  {
   "cell_type": "code",
   "execution_count": 90,
   "metadata": {
    "collapsed": false
   },
   "outputs": [
    {
     "name": "stdout",
     "output_type": "stream",
     "text": [
      "Observations: 32\n",
      "Variables:\n",
      "$ class    (fctr) 1st, 2nd, 3rd, Crew, 1st, 2nd, 3rd, Crew, 1st, 2nd, 3rd, ...\n",
      "$ sex      (fctr) Male, Male, Male, Male, Female, Female, Female, Female, M...\n",
      "$ age      (fctr) Child, Child, Child, Child, Child, Child, Child, Child, A...\n",
      "$ survived (fctr) No, No, No, No, No, No, No, No, No, No, No, No, No, No, N...\n",
      "$ freq     (dbl) 0, 0, 35, 0, 0, 0, 17, 0, 118, 154, 387, 670, 4, 13, 89, 3...\n"
     ]
    },
    {
     "data": {
      "text/html": [
       "<table>\n",
       "<thead><tr><th></th><th scope=col>class</th><th scope=col>sex</th><th scope=col>age</th><th scope=col>Yes</th><th scope=col>all</th></tr></thead>\n",
       "<tbody>\n",
       "\t<tr><th scope=row>1</th><td>1st</td><td>Male</td><td>Child</td><td>5</td><td>5</td></tr>\n",
       "\t<tr><th scope=row>2</th><td>1st</td><td>Male</td><td>Adult</td><td>57</td><td>175</td></tr>\n",
       "\t<tr><th scope=row>3</th><td>1st</td><td>Female</td><td>Child</td><td>1</td><td>1</td></tr>\n",
       "\t<tr><th scope=row>4</th><td>1st</td><td>Female</td><td>Adult</td><td>140</td><td>144</td></tr>\n",
       "\t<tr><th scope=row>5</th><td>2nd</td><td>Male</td><td>Child</td><td>11</td><td>11</td></tr>\n",
       "\t<tr><th scope=row>6</th><td>2nd</td><td>Male</td><td>Adult</td><td>14</td><td>168</td></tr>\n",
       "</tbody>\n",
       "</table>\n"
      ],
      "text/latex": [
       "\\begin{tabular}{r|lllll}\n",
       "  & class & sex & age & Yes & all\\\\\n",
       "\\hline\n",
       "\t1 & 1st & Male & Child & 5 & 5\\\\\n",
       "\t2 & 1st & Male & Adult & 57 & 175\\\\\n",
       "\t3 & 1st & Female & Child & 1 & 1\\\\\n",
       "\t4 & 1st & Female & Adult & 140 & 144\\\\\n",
       "\t5 & 2nd & Male & Child & 11 & 11\\\\\n",
       "\t6 & 2nd & Male & Adult & 14 & 168\\\\\n",
       "\\end{tabular}\n"
      ],
      "text/plain": [
       "  class    sex   age Yes all\n",
       "1   1st   Male Child   5   5\n",
       "2   1st   Male Adult  57 175\n",
       "3   1st Female Child   1   1\n",
       "4   1st Female Adult 140 144\n",
       "5   2nd   Male Child  11  11\n",
       "6   2nd   Male Adult  14 168"
      ]
     },
     "execution_count": 90,
     "metadata": {},
     "output_type": "execute_result"
    }
   ],
   "source": [
    "d <- Titanic %>% as.data.frame\n",
    "names(d) <- tolower(names(d))\n",
    "glimpse(d)\n",
    "dcast(d, class+sex+age~survived, value.var = \"freq\") %>%\n",
    "  mutate(all=Yes+No) %>%\n",
    "  select(-No)-> d.train\n",
    "head(d.train)"
   ]
  },
  {
   "cell_type": "code",
   "execution_count": 156,
   "metadata": {
    "collapsed": false
   },
   "outputs": [
    {
     "data": {
      "text/plain": [
       "\n",
       "Call:\n",
       "glm(formula = Yes ~ ., family = \"gaussian\", data = d.train)\n",
       "\n",
       "Deviance Residuals: \n",
       "    Min       1Q   Median       3Q      Max  \n",
       "-36.400  -12.414   -3.521   19.413   49.721  \n",
       "\n",
       "Coefficients:\n",
       "             Estimate Std. Error t value Pr(>|t|)   \n",
       "(Intercept)   7.38459   18.23216   0.405  0.69491   \n",
       "class2nd    -19.17653   20.95846  -0.915  0.38406   \n",
       "class3rd    -25.99979   21.46890  -1.211  0.25672   \n",
       "classCrew   -26.77857   22.05274  -1.214  0.25553   \n",
       "sexFemale    29.80806   16.71755   1.783  0.10826   \n",
       "ageAdult     23.22888   19.17829   1.211  0.25666   \n",
       "all           0.20735    0.04913   4.220  0.00224 **\n",
       "---\n",
       "Signif. codes:  0 ‘***’ 0.001 ‘**’ 0.01 ‘*’ 0.05 ‘.’ 0.1 ‘ ’ 1\n",
       "\n",
       "(Dispersion parameter for gaussian family taken to be 878.0316)\n",
       "\n",
       "    Null deviance: 47195.9  on 15  degrees of freedom\n",
       "Residual deviance:  7902.3  on  9  degrees of freedom\n",
       "AIC: 160.64\n",
       "\n",
       "Number of Fisher Scoring iterations: 2\n"
      ]
     },
     "execution_count": 156,
     "metadata": {},
     "output_type": "execute_result"
    },
    {
     "data": {
      "text/plain": [
       "\n",
       "Call:\n",
       "glm(formula = Yes ~ ., family = poisson, data = d.train)\n",
       "\n",
       "Deviance Residuals: \n",
       "    Min       1Q   Median       3Q      Max  \n",
       "-5.0847  -1.2537   0.2397   1.0380   3.8043  \n",
       "\n",
       "Coefficients:\n",
       "              Estimate Std. Error z value Pr(>|z|)    \n",
       "(Intercept)  1.6937033  0.1678947  10.088  < 2e-16 ***\n",
       "class2nd    -0.4113725  0.1164011  -3.534 0.000409 ***\n",
       "class3rd    -0.6006818  0.1090642  -5.508 3.64e-08 ***\n",
       "classCrew   -1.4290016  0.1816405  -7.867 3.63e-15 ***\n",
       "sexFemale    1.1203772  0.1167154   9.599  < 2e-16 ***\n",
       "ageAdult     1.4866289  0.1530904   9.711  < 2e-16 ***\n",
       "all          0.0040388  0.0003111  12.983  < 2e-16 ***\n",
       "---\n",
       "Signif. codes:  0 ‘***’ 0.001 ‘**’ 0.01 ‘*’ 0.05 ‘.’ 0.1 ‘ ’ 1\n",
       "\n",
       "(Dispersion parameter for poisson family taken to be 1)\n",
       "\n",
       "    Null deviance: 945.12  on 15  degrees of freedom\n",
       "Residual deviance:  77.96  on  9  degrees of freedom\n",
       "AIC: 162.65\n",
       "\n",
       "Number of Fisher Scoring iterations: 5\n"
      ]
     },
     "execution_count": 156,
     "metadata": {},
     "output_type": "execute_result"
    },
    {
     "data": {
      "text/plain": [
       "\n",
       "Call:\n",
       "glm(formula = cbind(Yes, all) ~ ., family = \"binomial\", data = d.train)\n",
       "\n",
       "Deviance Residuals: \n",
       "    Min       1Q   Median       3Q      Max  \n",
       "-3.5023  -0.3614   0.0000   0.6117   2.4427  \n",
       "\n",
       "Coefficients:\n",
       "            Estimate Std. Error z value Pr(>|z|)    \n",
       "(Intercept)  -0.6201     0.2125  -2.918  0.00353 ** \n",
       "class2nd     -0.4451     0.1486  -2.996  0.00274 ** \n",
       "class3rd     -0.7624     0.1305  -5.844  5.1e-09 ***\n",
       "classCrew    -0.3133     0.1346  -2.328  0.01991 *  \n",
       "sexFemale     1.2010     0.1064  11.289  < 2e-16 ***\n",
       "ageAdult     -0.5581     0.1841  -3.031  0.00244 ** \n",
       "---\n",
       "Signif. codes:  0 ‘***’ 0.001 ‘**’ 0.01 ‘*’ 0.05 ‘.’ 0.1 ‘ ’ 1\n",
       "\n",
       "(Dispersion parameter for binomial family taken to be 1)\n",
       "\n",
       "    Null deviance: 250.362  on 13  degrees of freedom\n",
       "Residual deviance:  28.124  on  8  degrees of freedom\n",
       "AIC: 104.53\n",
       "\n",
       "Number of Fisher Scoring iterations: 4\n"
      ]
     },
     "execution_count": 156,
     "metadata": {},
     "output_type": "execute_result"
    }
   ],
   "source": [
    "model.glm <- glm(Yes~. , data=d.train, family = \"gaussian\")\n",
    "summary(model.glm)\n",
    "model.glm <- glm(Yes~. , data=d.train, family = poisson)\n",
    "summary(model.glm)\n",
    "model.glm <- glm(cbind(Yes,all)~. , data=d.train, family = \"binomial\")\n",
    "summary(model.glm)"
   ]
  },
  {
   "cell_type": "code",
   "execution_count": 92,
   "metadata": {
    "collapsed": false
   },
   "outputs": [
    {
     "data": {
      "text/html": [
       "104.533167132498"
      ],
      "text/latex": [
       "104.533167132498"
      ],
      "text/markdown": [
       "104.533167132498"
      ],
      "text/plain": [
       "[1] 104.5332"
      ]
     },
     "execution_count": 92,
     "metadata": {},
     "output_type": "execute_result"
    }
   ],
   "source": [
    "model.glm.seleted <- glm(cbind(Yes,all)~class+sex+age , data=d.train, family = \"binomial\")\n",
    "AIC(model.glm.seleted)\n",
    "\n",
    "# model.glm.seleted <- glm(cbind(Yes,all)~class:sex+age , data=d.train, family = \"binomial\")\n",
    "# AIC(model.glm.seleted) # --> 101.08"
   ]
  },
  {
   "cell_type": "code",
   "execution_count": 124,
   "metadata": {
    "collapsed": false,
    "scrolled": false
   },
   "outputs": [
    {
     "data": {
      "text/html": [
       "<table>\n",
       "<thead><tr><th></th><th scope=col>class</th><th scope=col>sex</th><th scope=col>age</th><th scope=col>Yes</th><th scope=col>all</th><th scope=col>res</th></tr></thead>\n",
       "<tbody>\n",
       "\t<tr><th scope=row>1</th><td>2nd</td><td>Female</td><td>Child</td><td>13</td><td>13</td><td>0.6034481</td></tr>\n",
       "\t<tr><th scope=row>2</th><td>1st</td><td>Male</td><td>Child</td><td>5</td><td>5</td><td>0.5027565</td></tr>\n",
       "\t<tr><th scope=row>3</th><td>1st</td><td>Female</td><td>Adult</td><td>140</td><td>144</td><td>0.4930548</td></tr>\n",
       "\t<tr><th scope=row>4</th><td>1st</td><td>Female</td><td>Child</td><td>1</td><td>1</td><td>0.4862177</td></tr>\n",
       "\t<tr><th scope=row>5</th><td>Crew</td><td>Female</td><td>Adult</td><td>20</td><td>23</td><td>0.4651163</td></tr>\n",
       "\t<tr><th scope=row>6</th><td>Crew</td><td>Female</td><td>Child</td><td>0</td><td>0</td><td>0.4583164</td></tr>\n",
       "\t<tr><th scope=row>7</th><td>2nd</td><td>Female</td><td>Adult</td><td>80</td><td>93</td><td>0.4468806</td></tr>\n",
       "\t<tr><th scope=row>8</th><td>Crew</td><td>Male</td><td>Child</td><td>0</td><td>0</td><td>0.4089378</td></tr>\n",
       "\t<tr><th scope=row>9</th><td>2nd</td><td>Male</td><td>Child</td><td>11</td><td>11</td><td>0.3777432</td></tr>\n",
       "\t<tr><th scope=row>10</th><td>3rd</td><td>Female</td><td>Adult</td><td>76</td><td>165</td><td>0.3263987</td></tr>\n",
       "\t<tr><th scope=row>11</th><td>3rd</td><td>Male</td><td>Child</td><td>13</td><td>48</td><td>0.2567555</td></tr>\n",
       "\t<tr><th scope=row>12</th><td>3rd</td><td>Female</td><td>Child</td><td>14</td><td>31</td><td>0.2519537</td></tr>\n",
       "\t<tr><th scope=row>13</th><td>1st</td><td>Male</td><td>Adult</td><td>57</td><td>175</td><td>0.2455708</td></tr>\n",
       "\t<tr><th scope=row>14</th><td>Crew</td><td>Male</td><td>Adult</td><td>192</td><td>862</td><td>0.1821632</td></tr>\n",
       "\t<tr><th scope=row>15</th><td>3rd</td><td>Male</td><td>Adult</td><td>75</td><td>462</td><td>0.1347075</td></tr>\n",
       "\t<tr><th scope=row>16</th><td>2nd</td><td>Male</td><td>Adult</td><td>14</td><td>168</td><td>0.09170137</td></tr>\n",
       "</tbody>\n",
       "</table>\n"
      ],
      "text/latex": [
       "\\begin{tabular}{r|llllll}\n",
       "  & class & sex & age & Yes & all & res\\\\\n",
       "\\hline\n",
       "\t1 & 2nd & Female & Child & 13 & 13 & 0.6034481\\\\\n",
       "\t2 & 1st & Male & Child & 5 & 5 & 0.5027565\\\\\n",
       "\t3 & 1st & Female & Adult & 140 & 144 & 0.4930548\\\\\n",
       "\t4 & 1st & Female & Child & 1 & 1 & 0.4862177\\\\\n",
       "\t5 & Crew & Female & Adult & 20 & 23 & 0.4651163\\\\\n",
       "\t6 & Crew & Female & Child & 0 & 0 & 0.4583164\\\\\n",
       "\t7 & 2nd & Female & Adult & 80 & 93 & 0.4468806\\\\\n",
       "\t8 & Crew & Male & Child & 0 & 0 & 0.4089378\\\\\n",
       "\t9 & 2nd & Male & Child & 11 & 11 & 0.3777432\\\\\n",
       "\t10 & 3rd & Female & Adult & 76 & 165 & 0.3263987\\\\\n",
       "\t11 & 3rd & Male & Child & 13 & 48 & 0.2567555\\\\\n",
       "\t12 & 3rd & Female & Child & 14 & 31 & 0.2519537\\\\\n",
       "\t13 & 1st & Male & Adult & 57 & 175 & 0.2455708\\\\\n",
       "\t14 & Crew & Male & Adult & 192 & 862 & 0.1821632\\\\\n",
       "\t15 & 3rd & Male & Adult & 75 & 462 & 0.1347075\\\\\n",
       "\t16 & 2nd & Male & Adult & 14 & 168 & 0.09170137\\\\\n",
       "\\end{tabular}\n"
      ],
      "text/plain": [
       "   class    sex   age Yes all        res\n",
       "1    2nd Female Child  13  13 0.60344807\n",
       "2    1st   Male Child   5   5 0.50275645\n",
       "3    1st Female Adult 140 144 0.49305480\n",
       "4    1st Female Child   1   1 0.48621775\n",
       "5   Crew Female Adult  20  23 0.46511628\n",
       "6   Crew Female Child   0   0 0.45831639\n",
       "7    2nd Female Adult  80  93 0.44688064\n",
       "8   Crew   Male Child   0   0 0.40893783\n",
       "9    2nd   Male Child  11  11 0.37774319\n",
       "10   3rd Female Adult  76 165 0.32639869\n",
       "11   3rd   Male Child  13  48 0.25675550\n",
       "12   3rd Female Child  14  31 0.25195366\n",
       "13   1st   Male Adult  57 175 0.24557084\n",
       "14  Crew   Male Adult 192 862 0.18216319\n",
       "15   3rd   Male Adult  75 462 0.13470748\n",
       "16   2nd   Male Adult  14 168 0.09170137"
      ]
     },
     "execution_count": 124,
     "metadata": {},
     "output_type": "execute_result"
    }
   ],
   "source": [
    "cbind(d.train,res) %>% arrange(desc(res))"
   ]
  },
  {
   "cell_type": "markdown",
   "metadata": {},
   "source": [
    "## 変数選択(stepAIC)"
   ]
  },
  {
   "cell_type": "code",
   "execution_count": 125,
   "metadata": {
    "collapsed": false,
    "scrolled": true
   },
   "outputs": [
    {
     "name": "stderr",
     "output_type": "stream",
     "text": [
      "\n",
      "Attaching package: ‘MASS’\n",
      "\n",
      "The following object is masked from ‘package:dplyr’:\n",
      "\n",
      "    select\n",
      "\n"
     ]
    }
   ],
   "source": [
    "library(\"MASS\")"
   ]
  },
  {
   "cell_type": "code",
   "execution_count": 158,
   "metadata": {
    "collapsed": false
   },
   "outputs": [
    {
     "name": "stdout",
     "output_type": "stream",
     "text": [
      "Start:  AIC=104.53\n",
      "cbind(Yes, all) ~ class + sex + age\n",
      "\n",
      "            Df Deviance    AIC\n",
      "+ sex:age    1   20.792  99.20\n",
      "+ class:sex  3   18.679 101.09\n",
      "+ class:age  2   23.510 103.92\n",
      "<none>           28.124 104.53\n",
      "- age        1   36.951 111.36\n",
      "- class      3   64.149 134.56\n",
      "- sex        1  158.979 233.39\n",
      "\n",
      "Step:  AIC=99.2\n",
      "cbind(Yes, all) ~ class + sex + age + sex:age\n",
      "\n",
      "            Df Deviance     AIC\n",
      "+ class:sex  3   10.766  95.174\n",
      "+ class:age  2   16.002  98.411\n",
      "<none>           20.792  99.200\n",
      "- sex:age    1   28.124 104.533\n",
      "- class      3   56.023 128.432\n",
      "\n",
      "Step:  AIC=95.17\n",
      "cbind(Yes, all) ~ class + sex + age + sex:age + class:sex\n",
      "\n",
      "            Df Deviance     AIC\n",
      "+ class:age  2   4.8447  93.253\n",
      "<none>          10.7657  95.174\n",
      "- class:sex  3  20.7916  99.200\n",
      "- sex:age    1  18.6788 101.087\n",
      "\n",
      "Step:  AIC=93.25\n",
      "cbind(Yes, all) ~ class + sex + age + sex:age + class:sex + class:age\n",
      "\n",
      "                Df Deviance     AIC\n",
      "+ class:sex:age  2   0.0000  92.409\n",
      "<none>               4.8447  93.253\n",
      "- class:age      2  10.7657  95.174\n",
      "- class:sex      3  16.0024  98.411\n",
      "- sex:age        1  14.0229 100.432\n",
      "\n",
      "Step:  AIC=92.41\n",
      "cbind(Yes, all) ~ class + sex + age + sex:age + class:sex + class:age + \n",
      "    class:sex:age\n",
      "\n",
      "                Df Deviance    AIC\n",
      "<none>               0.0000 92.409\n",
      "- class:sex:age  2   4.8447 93.253\n"
     ]
    },
    {
     "data": {
      "text/plain": [
       "\n",
       "Call:  glm(formula = cbind(Yes, all) ~ class + sex + age + sex:age + \n",
       "    class:sex + class:age + class:sex:age, family = \"binomial\", \n",
       "    data = d.train)\n",
       "\n",
       "Coefficients:\n",
       "                 (Intercept)                      class2nd  \n",
       "                   9.397e-16                     1.742e-16  \n",
       "                    class3rd                     classCrew  \n",
       "                  -1.306e+00                    -3.800e-01  \n",
       "                   sexFemale                      ageAdult  \n",
       "                   1.782e-15                    -1.122e+00  \n",
       "          sexFemale:ageAdult            class2nd:sexFemale  \n",
       "                   1.094e+00                    -3.360e-15  \n",
       "          class3rd:sexFemale           classCrew:sexFemale  \n",
       "                   5.113e-01                     2.684e-01  \n",
       "           class2nd:ageAdult             class3rd:ageAdult  \n",
       "                  -1.363e+00                     6.099e-01  \n",
       "          classCrew:ageAdult   class2nd:sexFemale:ageAdult  \n",
       "                          NA                     1.241e+00  \n",
       " class3rd:sexFemale:ageAdult  classCrew:sexFemale:ageAdult  \n",
       "                  -5.620e-01                            NA  \n",
       "\n",
       "Degrees of Freedom: 13 Total (i.e. Null);  0 Residual\n",
       "Null Deviance:\t    250.4 \n",
       "Residual Deviance: 1.954e-13 \tAIC: 92.41"
      ]
     },
     "execution_count": 158,
     "metadata": {},
     "output_type": "execute_result"
    }
   ],
   "source": [
    "model.glm.pow <- glm(cbind(Yes,all)~. , data=d.train, family = \"binomial\")\n",
    "stepAIC(model.glm.pow, scope=list(upper=~.^3))\n"
   ]
  },
  {
   "cell_type": "code",
   "execution_count": 161,
   "metadata": {
    "collapsed": false
   },
   "outputs": [
    {
     "name": "stdout",
     "output_type": "stream",
     "text": [
      "Start:  AIC=162.65\n",
      "Yes ~ class + sex + age + all\n",
      "\n",
      "            Df Deviance    AIC\n",
      "+ class:age  3    33.17 123.86\n",
      "+ class:all  3    37.67 128.37\n",
      "+ age:all    1    45.35 132.05\n",
      "+ sex:age    1    56.93 143.63\n",
      "+ sex:all    1    70.79 157.48\n",
      "+ class:sex  3    68.20 158.89\n",
      "<none>            77.96 162.65\n",
      "- class      3   161.15 239.85\n",
      "- sex        1   180.67 263.36\n",
      "- age        1   193.92 276.62\n",
      "- all        1   323.26 405.96\n",
      "\n",
      "Step:  AIC=123.86\n",
      "Yes ~ class + sex + age + all + class:age\n",
      "\n",
      "            Df Deviance    AIC\n",
      "+ class:all  3    3.701 100.39\n",
      "+ sex:age    1   14.185 106.88\n",
      "+ class:sex  3   16.675 113.37\n",
      "+ age:all    1   26.818 119.51\n",
      "+ sex:all    1   27.789 120.48\n",
      "<none>           33.166 123.86\n",
      "- class:age  3   77.960 162.65\n",
      "- sex        1  127.106 215.80\n",
      "- all        1  251.062 339.76\n",
      "\n",
      "Step:  AIC=100.39\n",
      "Yes ~ class + sex + age + all + class:age + class:all\n",
      "\n",
      "            Df Deviance     AIC\n",
      "- sex        1    3.702  98.396\n",
      "+ sex:all    1    0.792  99.485\n",
      "<none>            3.701 100.395\n",
      "+ sex:age    1    1.747 100.440\n",
      "+ age:all    1    3.698 102.391\n",
      "+ class:sex  3    0.000 102.694\n",
      "- class:all  3   33.166 123.859\n",
      "- class:age  3   37.673 128.367\n",
      "\n",
      "Step:  AIC=98.4\n",
      "Yes ~ class + age + all + class:age + class:all\n",
      "\n",
      "            Df Deviance     AIC\n",
      "<none>            3.702  98.396\n",
      "+ age:all    1    3.698 100.392\n",
      "+ sex        1    3.701 100.395\n",
      "- class:age  3   67.622 156.316\n",
      "- class:all  3  127.106 215.799\n"
     ]
    },
    {
     "data": {
      "text/plain": [
       "\n",
       "Call:  glm(formula = Yes ~ class + age + all + class:age + class:all, \n",
       "    family = \"poisson\", data = d.train)\n",
       "\n",
       "Coefficients:\n",
       "       (Intercept)            class2nd            class3rd           classCrew  \n",
       "          1.183250            1.579805            1.421301          -20.485835  \n",
       "          ageAdult                 all   class2nd:ageAdult   class3rd:ageAdult  \n",
       "          7.898391           -0.028764           -4.122109           -6.164061  \n",
       "classCrew:ageAdult        class2nd:all        class3rd:all       classCrew:all  \n",
       "         14.337923            0.005562            0.028717            0.031460  \n",
       "\n",
       "Degrees of Freedom: 15 Total (i.e. Null);  4 Residual\n",
       "Null Deviance:\t    945.1 \n",
       "Residual Deviance: 3.702 \tAIC: 98.4"
      ]
     },
     "execution_count": 161,
     "metadata": {},
     "output_type": "execute_result"
    }
   ],
   "source": [
    "model.glm.pow <- glm(Yes~. , data=d.train, family = \"poisson\")\n",
    "stepAIC(model.glm.pow, scope=list(upper=~.^3))\n"
   ]
  },
  {
   "cell_type": "code",
   "execution_count": null,
   "metadata": {
    "collapsed": true
   },
   "outputs": [],
   "source": []
  },
  {
   "cell_type": "code",
   "execution_count": null,
   "metadata": {
    "collapsed": true
   },
   "outputs": [],
   "source": []
  },
  {
   "cell_type": "code",
   "execution_count": 162,
   "metadata": {
    "collapsed": false
   },
   "outputs": [],
   "source": [
    "# ?glm"
   ]
  }
 ],
 "metadata": {
  "kernelspec": {
   "display_name": "R",
   "language": "R",
   "name": "ir"
  },
  "language_info": {
   "codemirror_mode": "r",
   "file_extension": ".r",
   "mimetype": "text/x-r-source",
   "name": "R",
   "pygments_lexer": "r",
   "version": "3.2.0"
  }
 },
 "nbformat": 4,
 "nbformat_minor": 0
}

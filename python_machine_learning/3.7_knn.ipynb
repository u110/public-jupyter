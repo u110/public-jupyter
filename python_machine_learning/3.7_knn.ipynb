{
 "cells": [
  {
   "cell_type": "code",
   "execution_count": 2,
   "metadata": {},
   "outputs": [],
   "source": [
    "import numpy as np\n",
    "import pandas as pd\n",
    "import matplotlib.pyplot as plt\n",
    "import seaborn as sns\n",
    "\n",
    "%matplotlib inline"
   ]
  },
  {
   "cell_type": "markdown",
   "metadata": {},
   "source": [
    "# 3.7 k近傍法\n",
    "\n",
    "- ノンパラメトリックモデル\n",
    "    - 決定木、ランダムフォレスト、カーネルSVM\n",
    "    - パラメタの数：トレーニングセットの増大に伴う\n",
    "- パラメトリックモデル\n",
    "    - パーセプトロン、ロジスティック回帰、線形SVM\n",
    "        - パラメタの数：固定\n",
    "    - KNNはさらにサブカテゴリの「インスタンスに基づく学習」をベースとするモデル\n",
    "        - トレーニングセットを記憶する  <-- データが増えるとつらい。逆にいうと特徴量が少ないと扱いやすい。\n",
    "        - 学習過程のコストはゼロ <-- 分類処理と学習がセットというイメージかな？\n",
    "        \n",
    "- 次元の呪い\n",
    "    - 高次元空間では近傍であっても距離が離れすぎてしまうため、推定がうまくできない。\n",
    "    - 詳しい内容は次章でとのこと\n",
    "    \n",
    "    \n",
    "# 3章まとめ\n",
    "\n",
    "- 意味解釈 --> 決定木\n",
    "- オンライン学習、分類だけでなく事象の生起確率の予測 --> ロジスティック回帰\n",
    "- 線形、非線形の解 --> SVM\n",
    "    - 過学習しやすい。パラメタ調整\n",
    "- ランダムフォレストは調整すべきパラメタすくなく、過学習もしにくい。実務でも強力。\n",
    "- KNNはシンプル、トレーニングが不要だが、予測の計算コストはかかる"
   ]
  },
  {
   "cell_type": "code",
   "execution_count": 8,
   "metadata": {},
   "outputs": [],
   "source": [
    "\"\"\" iris dataset の用意 \"\"\"\n",
    "from sklearn.datasets import load_iris\n",
    "from sklearn.model_selection import train_test_split\n",
    "from sklearn.preprocessing import StandardScaler\n",
    "\n",
    "iris = load_iris()\n",
    "X = iris.data[:, [2, 3]]\n",
    "y = iris.target\n",
    "\n",
    "X_train, X_test, y_train, y_test = train_test_split(\n",
    "    X,\n",
    "    y,\n",
    "    test_size=0.3,\n",
    "    random_state=0\n",
    ")\n",
    "\n",
    "sc = StandardScaler()\n",
    "\n",
    "#　トレーニングデータの平均と標準偏差を計算\n",
    "\n",
    "sc.fit(X_train)\n",
    "\n",
    "# 平均、標準偏差を用いて標準化\n",
    "\n",
    "X_train_std = sc.transform(X_train)\n",
    "X_test_std = sc.transform(X_test)\n",
    "\n",
    "\"\"\" トレーニングデータとテストデータの特徴量を行方向に結合\n",
    "\"\"\"\n",
    "X_combined_std = np.vstack((X_train_std, X_test_std))\n",
    "\n",
    "\"\"\" トレーニングデータとテストデータのクラスラベルの結合\n",
    "\"\"\"\n",
    "y_combined = np.hstack((y_train, y_test))\n",
    "\n",
    "\n",
    "\n",
    "from matplotlib.colors import ListedColormap\n",
    "\n",
    "def plot_decision_reqions(X, y, classifier, test_idx=None, resolusion=0.02):\n",
    "    \n",
    "    # マーカーとカラーマップの準備\n",
    "    markers = ('s', 'x', 'o', '^', 'v')\n",
    "    colors = ('red', 'blue', 'lightgreen', 'gray', 'cyan')\n",
    "    cmap = ListedColormap(colors[:len(np.unique(y))])\n",
    "    \n",
    "    # 決定領域のプロット\n",
    "    x1_min, x1_max = X[:, 0].min() - 1, X[:, 0].max() + 1\n",
    "    x2_min, x2_max = X[:, 1].min() -1 , X[:, 1].max() + 1\n",
    "    \n",
    "    # グリッドポイントの生成\n",
    "    xx1, xx2 = np.meshgrid(\n",
    "        np.arange(x1_min, x1_max, resolusion),\n",
    "        np.arange(x2_min, x2_max, resolusion)\n",
    "    )\n",
    "    \n",
    "    # 各特徴量を1次元配列に変換して予測を実行\n",
    "    Z = classifier.predict(np.array([xx1.ravel(), xx2.ravel()]).T)\n",
    "    \n",
    "    # 予測結果を元のグリッドポイントのデータサイズに変換\n",
    "    z = Z.reshape(xx1.shape)\n",
    "    \n",
    "    # グリッドポイントの等高線のプロット\n",
    "    plt.contour(xx1, xx2, z, alpha=0.4, cmap=cmap)\n",
    "    # 軸の範囲の設定\n",
    "    plt.xlim(xx1.min(), xx1.max())\n",
    "    \n",
    "    # クラス毎にサンプルをプロット\n",
    "    for idx, cl in enumerate(np.unique(y)):\n",
    "        plt.scatter(x=X[y == cl, 0], y=X[y == cl, 1],\n",
    "                    alpha=0.8, c=cmap(idx), marker=markers[idx], label=cl\n",
    "        )\n",
    "    # テストサンプルを目立たせる\n",
    "    if test_idx:\n",
    "        X_test, y_test = X[test_idx, :], y[test_idx]\n",
    "        plt.scatter(\n",
    "            x=X_test[:, 0], \n",
    "            y=X_test[:, 1], \n",
    "            c=\"gray\", alpha=1.0, \n",
    "            linewidths=.1, marker='.', s=55, label='test set'\n",
    "        )"
   ]
  },
  {
   "cell_type": "code",
   "execution_count": 9,
   "metadata": {},
   "outputs": [
    {
     "data": {
      "image/png": "[encoded data removed]",
      "text/plain": [
       "<Figure size 432x288 with 1 Axes>"
      ]
     },
     "metadata": {},
     "output_type": "display_data"
    }
   ],
   "source": [
    "from sklearn.neighbors import KNeighborsClassifier\n",
    "\n",
    "\n",
    "# k近傍法のインスタンスを生成\n",
    "knn = KNeighborsClassifier(n_neighbors=5, p=2, metric='minkowski')\n",
    "knn.fit(X_train_std, y_train)\n",
    "\n",
    "plot_decision_reqions(X_combined_std, y_combined, classifier=knn, test_idx=range(105, 150))\n",
    "plt.xlabel(\"petal length [standardized]\")\n",
    "plt.ylabel(\"petal width [standardized]\")\n",
    "plt.legend(loc=\"best\")\n",
    "plt.show()"
   ]
  },
  {
   "cell_type": "code",
   "execution_count": null,
   "metadata": {},
   "outputs": [],
   "source": []
  },
  {
   "cell_type": "code",
   "execution_count": null,
   "metadata": {},
   "outputs": [],
   "source": []
  },
  {
   "cell_type": "code",
   "execution_count": null,
   "metadata": {},
   "outputs": [],
   "source": []
  },
  {
   "cell_type": "code",
   "execution_count": null,
   "metadata": {},
   "outputs": [],
   "source": []
  },
  {
   "cell_type": "code",
   "execution_count": null,
   "metadata": {},
   "outputs": [],
   "source": []
  }
 ],
 "metadata": {
  "kernelspec": {
   "display_name": "Python 3",
   "language": "python",
   "name": "python3"
  },
  "language_info": {
   "codemirror_mode": {
    "name": "ipython",
    "version": 3
   },
   "file_extension": ".py",
   "mimetype": "text/x-python",
   "name": "python",
   "nbconvert_exporter": "python",
   "pygments_lexer": "ipython3",
   "version": "3.6.0b3"
  },
  "toc": {
   "base_numbering": 1,
   "nav_menu": {},
   "number_sections": true,
   "sideBar": true,
   "skip_h1_title": false,
   "title_cell": "Table of Contents",
   "title_sidebar": "Contents",
   "toc_cell": false,
   "toc_position": {},
   "toc_section_display": true,
   "toc_window_display": true
  }
 },
 "nbformat": 4,
 "nbformat_minor": 2
}

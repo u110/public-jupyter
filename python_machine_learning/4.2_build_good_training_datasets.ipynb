{
 "cells": [
  {
   "cell_type": "markdown",
   "metadata": {},
   "source": [
    "# 4章 データ前処理 -よりよいデータセットの構築-\n",
    "\n",
    "2018/05/18\n",
    "\n",
    "- データセットにおける欠測値の削除と補完\n",
    "- 機械学習アルゴリズムに合わせたカテゴリデータの整形\n",
    "- モデルの構築に適した特徴量の選択\n",
    "\n",
    "## 4.1 欠測データへの対処\n",
    "\n",
    "\n",
    "### 4.1.1 欠測値を含む要素を取り除く\n",
    "\n",
    "- 一般的な計算ツールは欠測値へのできない\n",
    "- 無視すると予期せぬ結果を生み出す\n",
    "- 分析者が適切に対応することが重要\n",
    "\n",
    "- pandas.DataFrame.dropna が便利。\n",
    "    - デメリット: 削除しすぎると解析の信頼性が失われる可能性もある。\n",
    "        - --> 補完（次項）の方法\n",
    "        \n",
    "### 4.1.2 補完\n",
    "\n",
    "- 平均補完\n",
    "    - サンプルの平均値で補完\n",
    "    - sklearnのImputerにはstrategyにmedian, やmost_frequentなどもある\n",
    "\n",
    "\n",
    "## 4.2 カテゴリデータの対処\n",
    "\n",
    "- 順序尺度のデータを自動的に整数値に置き換えることは困難\n",
    "    - 自前でマッピングを定義して生成する必要がある。\n",
    "\n",
    "- 順序の性質を持たないクラスラベルには0から値を設定するなど\n",
    "- ↑と同様もしくは、sklean LabelEncoder\n",
    "\n",
    "- one-hot エンコーディング\n",
    "    - 整数値にしてしまうと、順序の意味を持ってしまう。\n",
    "        - 学習アルゴリズムによっては順序の意味を解釈してしまうかもしれない。\n",
    "        - 問題を回避する方法としてone-hotエンコーディングという手法がある\n",
    "\n",
    "## 4.3 データセットをトレーニングデータとテストデータと分割する\n",
    "\n",
    "- テストデータの割合が多い --> アルゴリズムへの価値を間引いている\n",
    "- テストデータの割合が少ない --> 汎化誤差の推定の精度が失われる\n",
    "\n",
    "- 1) トレーニングデータのみでハイパーパラメタのチューニング\n",
    "- 2) テストデータで予測精度を検証\n",
    "- 3) 予測精度に満足がいけたらなら、テストとトレーニングをあわせた全体のデータでモデルを推定する。\n",
    "\n",
    "## 4.4 特徴量の尺度を揃える\n",
    "\n",
    "- 正規化、標準化は分野によっては意味があいまいに用いられる場合があるので、推測する必要がある。\n",
    "\n",
    "ここでは\n",
    "\n",
    "- 正規化(normalization)\n",
    "    - [0, 1]の範囲内でスケーリングしなおすこと\n",
    "\n",
    "$$\n",
    "x^{(i)}_{norm} = \\frac{x^{(i)} - x_{min}}{x_{max} - x_{min}}\n",
    "$$\n",
    "\n",
    "- 標準化(standardization)\n",
    "    - 平均0、標準偏差1となるように変換する\n",
    "    - 一般的な線形モデルの重みを0、もしくは0に近い乱数で初期化するため、正規化よりも標準化のほうが機械学習では実用的らしい。\n",
    "    - $\\mu_x$ は特徴量列の平均値、 $ \\sigma_x $ は対応する標準偏差\n",
    "    \n",
    "$$\n",
    "x^{(i)}_{std} = \\frac{x^{(i)} - \\mu_x}{\\sigma_x}\n",
    "$$\n"
   ]
  },
  {
   "cell_type": "code",
   "execution_count": null,
   "metadata": {
    "collapsed": true
   },
   "outputs": [],
   "source": [
    "import numpy as np\n",
    "import pandas as pd\n",
    "import matplotlib.pyplot as plt\n",
    "import seaborn as sns\n",
    "\n",
    "%matplotlib inline"
   ]
  },
  {
   "cell_type": "code",
   "execution_count": null,
   "metadata": {},
   "outputs": [],
   "source": [
    "import pandas as pd\n",
    "\n",
    "df = pd.DataFrame([\n",
    "    ['green', 'M', 10.1, 'class1'], \n",
    "    ['red', 'L', 13.5, 'class2'],\n",
    "    ['blue', 'XL', 15.3, 'class1']\n",
    "])\n",
    "\n",
    "# 列名を設定\n",
    "df.columns = ['color', 'size', 'price' , 'classlabel']\n",
    "df"
   ]
  },
  {
   "cell_type": "code",
   "execution_count": null,
   "metadata": {},
   "outputs": [],
   "source": [
    "# 順序尺度のデータを整数値に自動的に置き換えることはできないので、自分で定義する必要がある\n",
    "\n",
    "# Tシャツのサイズと整数値をマッピング\n",
    "\n",
    "size_mapping = {\n",
    "    'XL': 3,\n",
    "    'L': 2,\n",
    "    'M': 1\n",
    "}\n",
    "\n",
    "_df = df.copy()\n",
    "_df['size'] = _df['size'].map(size_mapping)\n",
    "_df"
   ]
  },
  {
   "cell_type": "code",
   "execution_count": null,
   "metadata": {},
   "outputs": [],
   "source": [
    "# マッピングを元に\n",
    "\n",
    "inv_size_mapping = { v:k for k,v in size_mapping.items()}\n",
    "__df = _df.copy()\n",
    "__df.size = __df['size'].map(inv_size_mapping)\n",
    "__df"
   ]
  },
  {
   "cell_type": "code",
   "execution_count": null,
   "metadata": {},
   "outputs": [],
   "source": [
    "import numpy as np\n",
    "\n",
    "\n",
    "# クラスラベルを整数値に対応させるディクショナリを生成\n",
    "\n",
    "class_mapping = { val:idx for idx, val in enumerate(np.unique(df.classlabel))}\n",
    "class_mapping\n",
    "\n",
    "# マッピング\n",
    "\n",
    "_df = df.copy()\n",
    "_df[\"classlabel\"] = _df[\"classlabel\"].map(class_mapping)\n",
    "_df"
   ]
  },
  {
   "cell_type": "code",
   "execution_count": null,
   "metadata": {},
   "outputs": [],
   "source": [
    "#　マッピングを元に戻すには 反転した ディクショナリを使えば良い\n",
    "\n",
    "inv_class_mapping = {v:k for k,v in class_mapping.items()}\n",
    "inv_class_mapping\n",
    "\n",
    "__df = _df.copy()\n",
    "__df[\"classlabel\"]  = __df[\"classlabel\"].map(inv_class_mapping)\n",
    "__df"
   ]
  },
  {
   "cell_type": "code",
   "execution_count": null,
   "metadata": {
    "collapsed": true
   },
   "outputs": [],
   "source": [
    "# sklean LabelEncoder"
   ]
  },
  {
   "cell_type": "code",
   "execution_count": null,
   "metadata": {},
   "outputs": [],
   "source": [
    "from sklearn.preprocessing import LabelEncoder\n",
    "\n",
    "\n",
    "# ラベルエンコーダーのインスタンス生成\n",
    "class_le = LabelEncoder()\n",
    "\n",
    "# 整数に変換\n",
    "y = class_le.fit_transform(df.classlabel)\n",
    "y"
   ]
  },
  {
   "cell_type": "code",
   "execution_count": null,
   "metadata": {},
   "outputs": [],
   "source": [
    "# 文字列に戻す\n",
    "\n",
    "class_le.inverse_transform(y)"
   ]
  },
  {
   "cell_type": "code",
   "execution_count": null,
   "metadata": {},
   "outputs": [],
   "source": [
    "_df = df.copy()\n",
    "_df[\"size\"] = _df[\"size\"].map(size_mapping)\n",
    "_df"
   ]
  },
  {
   "cell_type": "code",
   "execution_count": null,
   "metadata": {},
   "outputs": [],
   "source": [
    "X = _df[[\"color\", \"size\", \"price\"]].values\n",
    "print(X)\n",
    "\n",
    "print(\"====\")\n",
    "color_le = LabelEncoder()\n",
    "X[:, 0] = color_le.fit_transform(X[:, 0])\n",
    "\n",
    "print(X)"
   ]
  },
  {
   "cell_type": "code",
   "execution_count": null,
   "metadata": {},
   "outputs": [],
   "source": [
    "# one-hot エンコーディング\n",
    "from sklearn.preprocessing import OneHotEncoder\n",
    "\n",
    "# インスタンス生成\n",
    "ohe = OneHotEncoder(categorical_features=[0])\n",
    "\n",
    "ohe.fit_transform(X).toarray()"
   ]
  },
  {
   "cell_type": "code",
   "execution_count": null,
   "metadata": {},
   "outputs": [],
   "source": [
    "# インスタンス生成\n",
    "ohe = OneHotEncoder(categorical_features=[0], sparse=False)  # toarrayを省略\n",
    "ohe.fit_transform(X)"
   ]
  },
  {
   "cell_type": "code",
   "execution_count": null,
   "metadata": {},
   "outputs": [],
   "source": [
    "#pandas の場合はget_dummiesで\n",
    "\n",
    "pd.get_dummies(\n",
    "    df[[\"color\", \"size\", \"price\"]]\n",
    ")"
   ]
  },
  {
   "cell_type": "code",
   "execution_count": null,
   "metadata": {
    "collapsed": true
   },
   "outputs": [],
   "source": [
    "\"\"\"\n",
    "===============================================\n",
    "4．3　データセットをトレーニングデータセットとテストデータセットに分割する\n",
    "===============================================\n",
    "\"\"\";"
   ]
  },
  {
   "cell_type": "code",
   "execution_count": null,
   "metadata": {},
   "outputs": [],
   "source": [
    "# wineデータセットを読み込む\n",
    "df_wine = pd.read_csv(\"https://archive.ics.uci.edu/ml/machine-learning-databases/wine/wine.data\", header=None)"
   ]
  },
  {
   "cell_type": "code",
   "execution_count": null,
   "metadata": {},
   "outputs": [],
   "source": [
    "df_wine.columns = [\n",
    "    \"Class label\",\n",
    "    \"Alcohol\",\n",
    "    \"Malic acid\",\n",
    "    \"Ash\",\n",
    "    \"Alcalinity of ash\",\n",
    "    \"Magnesium\",\n",
    "    \"Total phenols\",\n",
    "    \"Flavanoids\",\n",
    "    \"Nonflavanoid phenols\",\n",
    "    \"Proanthocyanins\",\n",
    "    \"Color intensity\",\n",
    "    \"Hue\",\n",
    "    \"OD280/OD315 of diluted wines\",\n",
    "    \"Proline\"\n",
    "]\n",
    "print(\"Class labels\", np.unique(df_wine[\"Class label\"]))"
   ]
  },
  {
   "cell_type": "code",
   "execution_count": null,
   "metadata": {},
   "outputs": [],
   "source": [
    "# wineデータセットの先頭5行を表示\n",
    "df_wine.head()"
   ]
  },
  {
   "cell_type": "code",
   "execution_count": null,
   "metadata": {
    "collapsed": true
   },
   "outputs": [],
   "source": [
    "from sklearn.cross_validation import train_test_split\n",
    "\n",
    "\n",
    "# 特徴量とクラスラベルを別々に抽出\n",
    "X, y = df_wine.iloc[:, 1:].values, df_wine.iloc[:, 0].values\n",
    "\n",
    "# トレーニングデータとテストデータに分割\n",
    "X_train, X_test, y_train, y_test = train_test_split(X, y, test_size=0.3, random_state=0)"
   ]
  },
  {
   "cell_type": "code",
   "execution_count": null,
   "metadata": {},
   "outputs": [],
   "source": [
    "X.shape"
   ]
  },
  {
   "cell_type": "code",
   "execution_count": null,
   "metadata": {},
   "outputs": [],
   "source": [
    "X_train.shape"
   ]
  },
  {
   "cell_type": "code",
   "execution_count": null,
   "metadata": {},
   "outputs": [],
   "source": [
    "X_test.shape"
   ]
  },
  {
   "cell_type": "code",
   "execution_count": null,
   "metadata": {
    "collapsed": true
   },
   "outputs": [],
   "source": [
    "\"\"\"\n",
    "=================\n",
    "4.4 特徴量の尺度を揃える\n",
    "=================\n",
    "\"\"\";"
   ]
  },
  {
   "cell_type": "code",
   "execution_count": null,
   "metadata": {
    "collapsed": true
   },
   "outputs": [],
   "source": [
    "from sklearn.preprocessing import MinMaxScaler\n",
    "\n",
    "\n",
    "# min-maxスケーリングのインスタンスを生成\n",
    "mms = MinMaxScaler()\n",
    "\n",
    "# スケーリング\n",
    "X_train_norm = mms.fit_transform(X_train)\n",
    "X_test_norm = mms.transform(X_test)"
   ]
  },
  {
   "cell_type": "code",
   "execution_count": null,
   "metadata": {
    "collapsed": true
   },
   "outputs": [],
   "source": [
    "from sklearn.preprocessing import StandardScaler\n",
    "\n",
    "\n",
    "# 標準化のインスタンスを生成\n",
    "stdsc = StandardScaler()\n",
    "X_train_std = stdsc.fit_transform(X_train)\n",
    "X_test_std = stdsc.transform(X_test)"
   ]
  },
  {
   "cell_type": "code",
   "execution_count": null,
   "metadata": {},
   "outputs": [],
   "source": [
    "sns.pairplot(pd.DataFrame(X_train).iloc[:, :5])"
   ]
  },
  {
   "cell_type": "code",
   "execution_count": null,
   "metadata": {},
   "outputs": [],
   "source": [
    "sns.pairplot(pd.DataFrame(X_train_std).iloc[:, :5])"
   ]
  },
  {
   "cell_type": "code",
   "execution_count": null,
   "metadata": {
    "collapsed": true
   },
   "outputs": [],
   "source": []
  },
  {
   "cell_type": "code",
   "execution_count": null,
   "metadata": {
    "collapsed": true
   },
   "outputs": [],
   "source": []
  },
  {
   "cell_type": "code",
   "execution_count": null,
   "metadata": {
    "collapsed": true
   },
   "outputs": [],
   "source": []
  },
  {
   "cell_type": "code",
   "execution_count": null,
   "metadata": {
    "collapsed": true
   },
   "outputs": [],
   "source": []
  },
  {
   "cell_type": "code",
   "execution_count": null,
   "metadata": {
    "collapsed": true
   },
   "outputs": [],
   "source": []
  },
  {
   "cell_type": "code",
   "execution_count": null,
   "metadata": {
    "collapsed": true
   },
   "outputs": [],
   "source": []
  },
  {
   "cell_type": "code",
   "execution_count": null,
   "metadata": {
    "collapsed": true
   },
   "outputs": [],
   "source": []
  },
  {
   "cell_type": "code",
   "execution_count": null,
   "metadata": {
    "collapsed": true
   },
   "outputs": [],
   "source": []
  },
  {
   "cell_type": "code",
   "execution_count": null,
   "metadata": {
    "collapsed": true
   },
   "outputs": [],
   "source": []
  }
 ],
 "metadata": {
  "kernelspec": {
   "display_name": "Python 3",
   "language": "python",
   "name": "python3"
  },
  "language_info": {
   "codemirror_mode": {
    "name": "ipython",
    "version": 3
   },
   "file_extension": ".py",
   "mimetype": "text/x-python",
   "name": "python",
   "nbconvert_exporter": "python",
   "pygments_lexer": "ipython3",
   "version": "3.6.0b3"
  },
  "toc": {
   "base_numbering": 1,
   "nav_menu": {},
   "number_sections": true,
   "sideBar": true,
   "skip_h1_title": false,
   "title_cell": "Table of Contents",
   "title_sidebar": "Contents",
   "toc_cell": false,
   "toc_position": {},
   "toc_section_display": true,
   "toc_window_display": true
  }
 },
 "nbformat": 4,
 "nbformat_minor": 2
}

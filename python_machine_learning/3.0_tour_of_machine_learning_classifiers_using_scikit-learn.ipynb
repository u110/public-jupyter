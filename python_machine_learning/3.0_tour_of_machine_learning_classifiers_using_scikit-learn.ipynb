{
 "cells": [
  {
   "cell_type": "markdown",
   "metadata": {},
   "source": [
    "# 3章 分類問題 - 機械学習アルゴリズムscikit-learnの活用\n",
    "\n",
    "2018/05/02\n",
    "\n"
   ]
  },
  {
   "cell_type": "code",
   "execution_count": 3,
   "metadata": {},
   "outputs": [],
   "source": [
    "from sklearn import datasets\n",
    "\n",
    "import numpy as np\n",
    "import pandas as pd\n",
    "import seaborn as sns\n",
    "\n",
    "%matplotlib inline"
   ]
  },
  {
   "cell_type": "code",
   "execution_count": null,
   "metadata": {},
   "outputs": [],
   "source": []
  },
  {
   "cell_type": "code",
   "execution_count": null,
   "metadata": {},
   "outputs": [],
   "source": []
  },
  {
   "cell_type": "markdown",
   "metadata": {},
   "source": [
    "## 3.2.1 scikit-learn を使ったパーセプトロンのトレーニング"
   ]
  },
  {
   "cell_type": "code",
   "execution_count": 4,
   "metadata": {},
   "outputs": [],
   "source": [
    "iris = datasets.load_iris()"
   ]
  },
  {
   "cell_type": "code",
   "execution_count": 5,
   "metadata": {},
   "outputs": [],
   "source": [
    "X = iris.data[:, [2, 3]]"
   ]
  },
  {
   "cell_type": "code",
   "execution_count": 6,
   "metadata": {},
   "outputs": [],
   "source": [
    "y = iris.target"
   ]
  },
  {
   "cell_type": "code",
   "execution_count": 7,
   "metadata": {},
   "outputs": [
    {
     "name": "stdout",
     "output_type": "stream",
     "text": [
      "Class labels: [0 1 2]\n"
     ]
    }
   ],
   "source": [
    "print(\"Class labels: {}\".format(np.unique(y)))"
   ]
  },
  {
   "cell_type": "code",
   "execution_count": 46,
   "metadata": {},
   "outputs": [],
   "source": [
    "from sklearn.cross_validation import train_test_split\n",
    "\n",
    "# トレーニングデータとテストデータに分割\n",
    "# 全体の30%をテストデータとする\n",
    "\n",
    "X_train, X_test, y_train, y_test = train_test_split(\n",
    "    X,\n",
    "    y,\n",
    "    test_size=0.3,\n",
    "    random_state=0\n",
    ")"
   ]
  },
  {
   "cell_type": "code",
   "execution_count": 47,
   "metadata": {},
   "outputs": [],
   "source": [
    "from sklearn.model_selection import train_test_split\n",
    "\n",
    "\n",
    "X_train, X_test, y_train, y_test = train_test_split(\n",
    "    X,\n",
    "    y,\n",
    "    test_size=0.3,\n",
    "    random_state=0\n",
    ")"
   ]
  },
  {
   "cell_type": "code",
   "execution_count": 48,
   "metadata": {},
   "outputs": [
    {
     "data": {
      "text/plain": [
       "(105, 45, 0.3)"
      ]
     },
     "execution_count": 48,
     "metadata": {},
     "output_type": "execute_result"
    }
   ],
   "source": [
    "len(X_train), len(X_test), len(X_test) / len(X)"
   ]
  },
  {
   "cell_type": "code",
   "execution_count": 49,
   "metadata": {},
   "outputs": [],
   "source": [
    "from sklearn.preprocessing import StandardScaler\n",
    "\n",
    "sc = StandardScaler()\n",
    "\n",
    "#　トレーニングデータの平均と標準偏差を計算\n",
    "\n",
    "sc.fit(X_train)\n",
    "\n",
    "# 平均、標準偏差を用いて標準化\n",
    "\n",
    "X_train_std = sc.transform(X_train)\n",
    "X_test_std = sc.transform(X_test)"
   ]
  },
  {
   "cell_type": "code",
   "execution_count": 50,
   "metadata": {},
   "outputs": [],
   "source": [
    "# X_train_std, X_test_std"
   ]
  },
  {
   "cell_type": "code",
   "execution_count": 51,
   "metadata": {},
   "outputs": [
    {
     "data": {
      "text/plain": [
       "105"
      ]
     },
     "execution_count": 51,
     "metadata": {},
     "output_type": "execute_result"
    }
   ],
   "source": [
    "len(X_train_std)"
   ]
  },
  {
   "cell_type": "code",
   "execution_count": 52,
   "metadata": {},
   "outputs": [
    {
     "data": {
      "text/plain": [
       "Perceptron(alpha=0.0001, class_weight=None, eta0=0.1, fit_intercept=True,\n",
       "      max_iter=105, n_iter=None, n_jobs=1, penalty=None, random_state=0,\n",
       "      shuffle=True, tol=None, verbose=0, warm_start=False)"
      ]
     },
     "execution_count": 52,
     "metadata": {},
     "output_type": "execute_result"
    }
   ],
   "source": [
    "from sklearn.linear_model import Perceptron\n",
    "\n",
    "\"\"\"\n",
    "エポック数40、学習率0．1でパーセプトロンのインスタンスを生成\n",
    "\"\"\"\n",
    "ppn = Perceptron(max_iter=105, eta0=0.1, random_state=0, shuffle=True)\n",
    "\n",
    "\n",
    "\"\"\"\n",
    "トレーニングデータに適合させる\n",
    "\"\"\"\n",
    "ppn.fit(X_train_std, y_train)"
   ]
  },
  {
   "cell_type": "markdown",
   "metadata": {},
   "source": [
    "### memo: そのままの写経だと DeprecationWarning でるのでドキュメントを確認する\n",
    "\n",
    "- http://scikit-learn.org/stable/modules/generated/sklearn.linear_model.Perceptron.html"
   ]
  },
  {
   "cell_type": "code",
   "execution_count": 53,
   "metadata": {},
   "outputs": [
    {
     "name": "stdout",
     "output_type": "stream",
     "text": [
      "length: 45\n",
      "Misclassified samples: 1\n"
     ]
    }
   ],
   "source": [
    "\"\"\"\n",
    "テストデータで予測を実施\n",
    "\"\"\"\n",
    "y_pred = ppn.predict(X_test_std)\n",
    "\n",
    "\"\"\"\n",
    "誤分類のサンプルの個数を表示\n",
    "\"\"\"\n",
    "print(\"length: {}\\nMisclassified samples: {}\".format(len(y_test), (y_test != y_pred).sum()))\n"
   ]
  },
  {
   "cell_type": "markdown",
   "metadata": {},
   "source": [
    "### 決定領域のプロット"
   ]
  },
  {
   "cell_type": "code",
   "execution_count": 54,
   "metadata": {},
   "outputs": [],
   "source": [
    "from matplotlib.colors import ListedColormap\n",
    "import matplotlib.pyplot as plt\n",
    "\n",
    "\n",
    "def plot_decision_reqions(X, y, classifier, test_idx=None, resolusion=0.02):\n",
    "    \n",
    "    # マーカーとカラーマップの準備\n",
    "    markers = ('s', 'x', 'o', '^', 'v')\n",
    "    colors = ('red', 'blue', 'lightgreen', 'gray', 'cyan')\n",
    "    cmap = ListedColormap(colors[:len(np.unique(y))])\n",
    "    \n",
    "    # 決定領域のプロット\n",
    "    x1_min, x1_max = X[:, 0].min() - 1, X[:, 0].max() + 1\n",
    "    x2_min, x2_max = X[:, 1].min() -1 , X[:, 1].max() + 1\n",
    "    \n",
    "    # グリッドポイントの生成\n",
    "    xx1, xx2 = np.meshgrid(\n",
    "        np.arange(x1_min, x1_max, resolusion),\n",
    "        np.arange(x2_min, x2_max, resolusion)\n",
    "    )\n",
    "    \n",
    "    # 各特徴量を1次元配列に変換して予測を実行\n",
    "    Z = classifier.predict(np.array([xx1.ravel(), xx2.ravel()]).T)\n",
    "    \n",
    "    # 予測結果を元のグリッドポイントのデータサイズに変換\n",
    "    z = Z.reshape(xx1.shape)\n",
    "    \n",
    "    # グリッドポイントの等高線のプロット\n",
    "    plt.contour(xx1, xx2, z, alpha=0.4, cmap=cmap)\n",
    "    # 軸の範囲の設定\n",
    "    plt.xlim(xx1.min(), xx1.max())\n",
    "    \n",
    "    # クラス毎にサンプルをプロット\n",
    "    for idx, cl in enumerate(np.unique(y)):\n",
    "        plt.scatter(x=X[y == cl, 0], y=X[y == cl, 1],\n",
    "                    alpha=0.8, c=cmap(idx), marker=markers[idx], label=cl\n",
    "        )\n",
    "    # テストサンプルを目立たせる\n",
    "    if test_idx:\n",
    "        X_test, y_test = X[test_idx, :], y[test_idx]\n",
    "        plt.scatter(\n",
    "            x=X_test[:, 0], \n",
    "            y=X_test[:, 1], \n",
    "            c=\"gray\", alpha=1.0, \n",
    "            linewidths=.1, marker='.', s=55, label='test set'\n",
    "        )"
   ]
  },
  {
   "cell_type": "code",
   "execution_count": 55,
   "metadata": {},
   "outputs": [],
   "source": [
    "import matplotlib\n",
    "# help(matplotlib.markers)"
   ]
  },
  {
   "cell_type": "code",
   "execution_count": 56,
   "metadata": {},
   "outputs": [
    {
     "data": {
      "image/png": "[encoded data removed]",
      "text/plain": [
       "<Figure size 432x288 with 1 Axes>"
      ]
     },
     "metadata": {},
     "output_type": "display_data"
    }
   ],
   "source": [
    "\"\"\" トレーニングデータとテストデータの特徴量を行方向に結合\n",
    "\"\"\"\n",
    "X_combined_std = np.vstack((X_train_std, X_test_std))\n",
    "\n",
    "\"\"\" トレーニングデータとテストデータのクラスラベルの結合\n",
    "\"\"\"\n",
    "y_combined = np.hstack((y_train, y_test))\n",
    "\n",
    "\"\"\" 決定領域のプロット\n",
    "\"\"\"\n",
    "plot_decision_reqions(X=X_combined_std, y=y_combined, classifier=ppn, test_idx=range(105, 150))\n",
    "\n",
    "\"\"\" 軸ラベルのプロット\n",
    "\"\"\"\n",
    "plt.xlabel(\"petal length [standerdized]\")\n",
    "plt.ylabel(\"petal width [standerdized]\")\n",
    "\n",
    "\"\"\" 凡例の設定\n",
    "\"\"\"\n",
    "plt.legend(loc='upper left')\n",
    "\n",
    "\"\"\" グラフの表示\n",
    "\"\"\"\n",
    "\n",
    "plt.show()"
   ]
  },
  {
   "cell_type": "code",
   "execution_count": 57,
   "metadata": {},
   "outputs": [
    {
     "data": {
      "text/plain": [
       "'\\nhelp関数を使ってdocumentを確認すると良い\\n'"
      ]
     },
     "execution_count": 57,
     "metadata": {},
     "output_type": "execute_result"
    }
   ],
   "source": [
    "\"\"\"\n",
    "help関数を使ってdocumentを確認すると良い\n",
    "\"\"\"\n",
    "# help(Perceptron)"
   ]
  },
  {
   "cell_type": "code",
   "execution_count": null,
   "metadata": {},
   "outputs": [],
   "source": []
  },
  {
   "cell_type": "code",
   "execution_count": null,
   "metadata": {},
   "outputs": [],
   "source": []
  },
  {
   "cell_type": "markdown",
   "metadata": {},
   "source": [
    "## 3.3 ロジスティック回帰を使ったクラスの確率モデリング"
   ]
  },
  {
   "cell_type": "code",
   "execution_count": 58,
   "metadata": {},
   "outputs": [],
   "source": [
    "import matplotlib.pyplot as plt\n",
    "import numpy as np\n",
    "\n",
    "\n",
    "\"\"\" シグモイド関数を定義　\"\"\"\n",
    "def sigmoid(z):\n",
    "    return 1.0 / (1.0 + np.exp(-z))"
   ]
  },
  {
   "cell_type": "code",
   "execution_count": 59,
   "metadata": {},
   "outputs": [
    {
     "data": {
      "image/png": "[encoded data removed]",
      "text/plain": [
       "<Figure size 432x288 with 1 Axes>"
      ]
     },
     "metadata": {},
     "output_type": "display_data"
    }
   ],
   "source": [
    "\"\"\" 0．1間隔で-7 +7 のデータを生成　\"\"\"\n",
    "z = np.arange(-7, 7, 0.1)\n",
    "\n",
    "\"\"\" 生成したデータでシグモイド関数を実行　\"\"\"\n",
    "phi_z = sigmoid(z)\n",
    "\n",
    "\"\"\" 元のデータとシグモイド関数の出力をプロット　\"\"\"\n",
    "plt.plot(z, phi_z)\n",
    "\n",
    "\"\"\" 垂直線を追加（ｚ=0）　\"\"\"\n",
    "plt.axvline(0.0, color='gray')\n",
    "\n",
    "\"\"\" y軸の上限、下限を設定　\"\"\"\n",
    "plt.ylim(-0.1, 1.1)\n",
    "\n",
    "\"\"\" 軸のラベルを設定　\"\"\"\n",
    "plt.xlabel('z')\n",
    "\n",
    "\"\"\" y軸の目盛りを追加\"\"\"\n",
    "plt.yticks([0.0, 0.5, 1.0])\n",
    "\n",
    "\"\"\" Axesクラスのオブジェクトの取得　\"\"\"\n",
    "ax = plt.gca()\n",
    "\n",
    "\"\"\" y軸の目盛りに合わせて水平グリッド線を追加\"\"\"\n",
    "ax.yaxis.grid(True)\n",
    "\n",
    "\"\"\" グラフの表示 \"\"\"\n",
    "plt.show()"
   ]
  },
  {
   "cell_type": "markdown",
   "metadata": {},
   "source": [
    "ここではロジスティック回帰モデルの実装は行わず、sklearnのライブラリを使う。\n",
    "\n",
    "著者が実装したものは以下。\n",
    "\n",
    "https://github.com/rasbt/python-machine-learning-book/blob/master/code/bonus/logistic_regression.ipynb"
   ]
  },
  {
   "cell_type": "markdown",
   "metadata": {},
   "source": [
    "### 3.3.3  scikit-learn によるロジスティック回帰モデルのトレーニング"
   ]
  },
  {
   "cell_type": "code",
   "execution_count": 60,
   "metadata": {},
   "outputs": [
    {
     "data": {
      "image/png": "[encoded data removed]",
      "text/plain": [
       "<Figure size 432x288 with 1 Axes>"
      ]
     },
     "metadata": {},
     "output_type": "display_data"
    }
   ],
   "source": [
    "from sklearn.linear_model import LogisticRegression\n",
    "\n",
    "\"\"\" ロジスティック回帰のインスタンスを生成 \"\"\"\n",
    "\n",
    "lr = LogisticRegression(C=1000, random_state=0)\n",
    "\n",
    "\"\"\" トレーニングデータをモデルに適合させる \"\"\"\n",
    "lr.fit(X_train_std, y_train)\n",
    "\n",
    "\"\"\" 決定境界をプロット \"\"\"\n",
    "plot_decision_reqions(X_combined_std, y_combined, classifier=lr, test_idx=range(105, 150))\n",
    "\n",
    "\"\"\" 軸ラベルのプロット \"\"\"\n",
    "plt.xlabel(\"petal length [standardized]\")\n",
    "plt.ylabel(\"petal width [standardized]\")\n",
    "\n",
    "\n",
    "\"\"\" 凡例 \"\"\"\n",
    "plt.legend(loc=\"upper left\")\n",
    "\n",
    "\"\"\" show \"\"\"\n",
    "plt.show()"
   ]
  },
  {
   "cell_type": "code",
   "execution_count": 61,
   "metadata": {},
   "outputs": [],
   "source": [
    "# help(LogisticRegression)"
   ]
  },
  {
   "cell_type": "code",
   "execution_count": 66,
   "metadata": {},
   "outputs": [
    {
     "data": {
      "text/plain": [
       "array([[ 0.70793846,  1.50872803],\n",
       "       [ 0.09545238, -0.29145882]])"
      ]
     },
     "execution_count": 66,
     "metadata": {},
     "output_type": "execute_result"
    }
   ],
   "source": [
    "X_test_std[0:2, :]"
   ]
  },
  {
   "cell_type": "code",
   "execution_count": 74,
   "metadata": {},
   "outputs": [],
   "source": [
    "# help(lr.predict_proba)"
   ]
  },
  {
   "cell_type": "code",
   "execution_count": 73,
   "metadata": {},
   "outputs": [
    {
     "data": {
      "text/plain": [
       "array([[2.05743774e-11, 6.31620264e-02, 9.36837974e-01]])"
      ]
     },
     "execution_count": 73,
     "metadata": {},
     "output_type": "execute_result"
    }
   ],
   "source": [
    "lr.predict_proba(X_test_std[0:1, :])"
   ]
  },
  {
   "cell_type": "markdown",
   "metadata": {},
   "source": [
    "### バリアンス、バイアス\n",
    "\n",
    "- バリアンス\n",
    "    - モデルのトレーニングを繰り返した場合に、モデルの予測の一貫性を測定するものである。\n",
    "    - バリアンスが大きい場合は、モデルがトレーニングデータのランダム性に対して敏感であると表現できる。\n",
    "    - トレーニングセットの選び方によって予測結果がばらついてしまう状況\n",
    "   \n",
    "- バイアス\n",
    "    - モデルを異なるトレーニングデータ・セットで何度か構築した場合に、予測が正しい値からどの程度外れているかを測定するもの。\n",
    "        - 真の値からどの程度離れているのかを定量化する指標\n",
    "    - ランダム性によるものではなく、系統誤差（systematic error)の測定値\n",
    "        - 系統誤差、偶然誤差\n",
    "            - 同じ方法を用いて測定すると「真の値」に対して系統的にずれて測定される誤差\n",
    "            - 測定のたびにばらつく誤差\n",
    "            \n",
    "### Cパラメータについて\n",
    "\n",
    "- 正則化パラメタ λの逆数\n",
    "\n",
    "- 小さい値にすると正則化項の影響が大きくなる。 --> 過学習を抑えることができる"
   ]
  },
  {
   "cell_type": "code",
   "execution_count": 96,
   "metadata": {},
   "outputs": [
    {
     "data": {
      "image/png": "[encoded data removed]",
      "text/plain": [
       "<Figure size 432x288 with 1 Axes>"
      ]
     },
     "metadata": {},
     "output_type": "display_data"
    }
   ],
   "source": [
    "\"\"\" 空のリストを生成(重み係数、逆正則化パラメータ) \"\"\"\n",
    "weights, params = [], []\n",
    "\n",
    "\"\"\" 10個の逆正則化パラメータに対応するロジスティック回帰モデルをそれぞれ処理 \"\"\"\n",
    "for c in np.arange(-5, 5):\n",
    "    lr = LogisticRegression(C=10.0**c, random_state=0)\n",
    "    lr.fit(X_train_std, y_train)\n",
    "    \n",
    "    \"\"\" 重み係数を格納 \"\"\"\n",
    "    weights.append(lr.coef_[1])\n",
    "    \"\"\" 逆正則化パラメタを格納 \"\"\"\n",
    "    params.append(10.0**c)\n",
    "\n",
    "\"\"\" 重み係数をnumpy配列に変換 \"\"\"\n",
    "weights = np.array(weights)\n",
    "\n",
    "\"\"\" 横軸に逆正則化パラメタ、縦軸に重み係数をプロット \"\"\"\n",
    "plt.plot(params, weights[:, 0], label='petal length')\n",
    "plt.plot(params, weights[:, 1], linestyle='--', label='petal width')\n",
    "plt.ylabel('weight coefficient')\n",
    "plt.xlabel('C')\n",
    "plt.legend(loc='upper left')\n",
    "\"\"\" 横軸を対数スケールに設定 \"\"\"\n",
    "plt.xscale(\"log\")\n",
    "plt.show()"
   ]
  },
  {
   "cell_type": "markdown",
   "metadata": {},
   "source": [
    "- Cパラメタが減少（正則化の強さが増す）すると重み係数が0に近づく"
   ]
  },
  {
   "cell_type": "markdown",
   "metadata": {},
   "source": [
    "## 3.4 サポートベクターマシンによる最大マージン分類"
   ]
  },
  {
   "cell_type": "code",
   "execution_count": null,
   "metadata": {},
   "outputs": [],
   "source": []
  },
  {
   "cell_type": "code",
   "execution_count": null,
   "metadata": {},
   "outputs": [],
   "source": []
  },
  {
   "cell_type": "code",
   "execution_count": null,
   "metadata": {},
   "outputs": [],
   "source": []
  }
 ],
 "metadata": {
  "kernelspec": {
   "display_name": "Python 3",
   "language": "python",
   "name": "python3"
  },
  "language_info": {
   "codemirror_mode": {
    "name": "ipython",
    "version": 3
   },
   "file_extension": ".py",
   "mimetype": "text/x-python",
   "name": "python",
   "nbconvert_exporter": "python",
   "pygments_lexer": "ipython3",
   "version": "3.6.0b3"
  },
  "toc": {
   "base_numbering": 1,
   "nav_menu": {},
   "number_sections": true,
   "sideBar": true,
   "skip_h1_title": false,
   "title_cell": "Table of Contents",
   "title_sidebar": "Contents",
   "toc_cell": false,
   "toc_position": {},
   "toc_section_display": true,
   "toc_window_display": true
  }
 },
 "nbformat": 4,
 "nbformat_minor": 2
}

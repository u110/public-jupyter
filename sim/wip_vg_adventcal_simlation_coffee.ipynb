{
 "cells": [
  {
   "cell_type": "markdown",
   "metadata": {},
   "source": [
    "# WIP コーヒースタンドのシミュレーションをしてみた\n",
    "\n",
    "これは [VOYAGE GROUP Advent Canlendar 2016](http://techlog.voyagegroup.com/entry/advent2016) の3日目のエントリです。\n",
    "\n",
    "こんにちは、最近RよりもPythonを書いてお仕事している yuu_ito です。\n",
    "\n",
    "弊社ではバリスタさんが美味しいコーヒーを淹れてくれるサービスがあるのですが、\n",
    "\n",
    "オススメです。もし弊社に商談などで寄る際はぜひ注文してみてください。\n",
    "\n",
    "https://www.instagram.com/officecafe_garden/\n",
    "\n",
    "\n",
    "#### ところで「一体何人バリスタさんが居ればイイカンジに運営できるのでしょう？」\n",
    "\n",
    "今回は最近業務で使い始めたPythonでシミュレーションしてみます。\n",
    "\n",
    "Python シミュレーションフレームワークである[SimPy](http://simpy.readthedocs.io/en/latest/)を使って実装します。\n",
    "\n",
    "コードはこの記事を読んでわかる通り[Jupyter](http://jupyter.org/)で以下に書いていきます。\n",
    "\n",
    "(Jupyter notebookって本当に便利ですよね！)"
   ]
  },
  {
   "cell_type": "code",
   "execution_count": 15,
   "metadata": {
    "collapsed": true
   },
   "outputs": [],
   "source": [
    "import matplotlib.pyplot as plt\n",
    "import seaborn as sns\n",
    "import pandas as pd\n",
    "import numpy as np\n",
    "import simpy\n",
    "\n",
    "%matplotlib inline"
   ]
  },
  {
   "cell_type": "code",
   "execution_count": 73,
   "metadata": {
    "collapsed": false
   },
   "outputs": [],
   "source": [
    "STATE_FILE = \"./state.csv\"\n",
    "def log_state(m):\n",
    "    # 実行結果をファイルに追記\n",
    "    with open(STATE_FILE,\"a\") as f:\n",
    "        f.write(m+\"\\n\")\n",
    "\n",
    "def get_state_results():\n",
    "    return pd.read_csv(STATE_FILE)\n",
    "\n",
    "def reset_state():\n",
    "    # ファイルのクリア\n",
    "    with open(STATE_FILE,\"w\") as f:\n",
    "        f.write(\"name,time,state\\n\")\n",
    "\n",
    "class Person(object):\n",
    "    def __init__(self, env, name, freq, coffee_garden):\n",
    "        self.env = env\n",
    "        self.name = name\n",
    "        self.freq = freq\n",
    "        self.coffee_garden = coffee_garden\n",
    "\n",
    "    def needs_coffee(self):\n",
    "        # 一定の確率でコーヒーが飲みたくなる\n",
    "        if np.random.randint(SIM_SIZE)  <= self.freq:\n",
    "                log_state(\"%s,%d,コーヒー飲みたい！\" % (self.name, self.env.now))\n",
    "                return True\n",
    "        else:\n",
    "                log_state(\"%s,%d,仕事しよ...\" % (self.name, self.env.now))\n",
    "                return False\n",
    "\n",
    "    def run(self):\n",
    "        # シミュレータが実行するメソッド。毎ループごとにコーヒーを飲みにいくか判断する\n",
    "        while True:\n",
    "            if self.needs_coffee():\n",
    "                with self.coffee_garden.request() as req:\n",
    "                    yield req\n",
    "                    yield self.env.timeout(1) # コーヒーを淹れる時間\n",
    "                    log_state(\"%s,%d,おいしかった！！\" % (self.name, self.env.now))\n",
    "            yield self.env.timeout(1)"
   ]
  },
  {
   "cell_type": "markdown",
   "metadata": {},
   "source": [
    "ざっとコード貼ってしまいましたが、\n",
    "\n",
    "\n",
    "大事なとこは **Personクラス** でもつ **env** 変数と **run()** メソッドです。\n",
    "\n",
    "このあとメインとなるシミュレーションの実行処理を書くのですが、その処理が\n",
    "\n",
    "上の **Personクラス** のオブジェクトから **run()** メソッドを実行するように設定します。\n",
    "\n",
    "以下がシミュレータの準備のコードになります。"
   ]
  },
  {
   "cell_type": "code",
   "execution_count": 75,
   "metadata": {
    "collapsed": false
   },
   "outputs": [],
   "source": [
    "SIM_SIZE = 10  # ループを回す回数\n",
    "FREQ = 1  # Personがコーヒーを飲みに行きたくなる頻度\n",
    "NUM_OF_PEOPLE = 5 # Personの人数\n",
    "\n",
    "# simpy のEnvironmentオブジェクトを生成\n",
    "env = simpy.Environment()\n",
    "\n",
    "# コーヒースタンドオブジェクトの生成\n",
    "coffee_garden = simpy.Resource(env, 2)\n",
    "\n",
    "# Personオブジェクトを生成。runメソッドをプロセスとして設定\n",
    "for name in [\"person_%03d\" % i for i in np.arange(0,NUM_OF_PEOPLE,1)]:\n",
    "    env.process(Person(env, name, FREQ, coffee_garden).run())"
   ]
  },
  {
   "cell_type": "markdown",
   "metadata": {},
   "source": [
    "SimPy 特有の処理の書き方ですが、\n",
    "\n",
    "複数のプロセス（今回だと**Personオブジェクト**）が共有するモノに対して処理を行う場合、\n",
    "\n",
    "またそのモノに容量の制限があるオブジェクトを用意したいときは[simpy.Resource](http://simpy.readthedocs.io/en/latest/simpy_intro/shared_resources.html)オブジェクトを利用します。\n",
    "\n",
    "今回だとバリスタさんとコーヒースタンドの場所がそれにあたります。"
   ]
  },
  {
   "cell_type": "code",
   "execution_count": null,
   "metadata": {
    "collapsed": true
   },
   "outputs": [],
   "source": []
  },
  {
   "cell_type": "markdown",
   "metadata": {},
   "source": [
    "それでは実際に実行してみましょう。"
   ]
  },
  {
   "cell_type": "code",
   "execution_count": 76,
   "metadata": {
    "collapsed": false
   },
   "outputs": [],
   "source": [
    "reset_state()\n",
    "env.run(until=SIM_SIZE)"
   ]
  },
  {
   "cell_type": "markdown",
   "metadata": {},
   "source": [
    "csvファイルが吐かれているはずです。読み込んでデータを可視化してみましょう。"
   ]
  },
  {
   "cell_type": "code",
   "execution_count": 77,
   "metadata": {
    "collapsed": false
   },
   "outputs": [
    {
     "data": {
      "text/html": [
       "<div>\n",
       "<table border=\"1\" class=\"dataframe\">\n",
       "  <thead>\n",
       "    <tr style=\"text-align: right;\">\n",
       "      <th></th>\n",
       "      <th>name</th>\n",
       "      <th>time</th>\n",
       "      <th>state</th>\n",
       "    </tr>\n",
       "  </thead>\n",
       "  <tbody>\n",
       "    <tr>\n",
       "      <th>0</th>\n",
       "      <td>person_000</td>\n",
       "      <td>0</td>\n",
       "      <td>仕事しよ...</td>\n",
       "    </tr>\n",
       "    <tr>\n",
       "      <th>1</th>\n",
       "      <td>person_001</td>\n",
       "      <td>0</td>\n",
       "      <td>仕事しよ...</td>\n",
       "    </tr>\n",
       "    <tr>\n",
       "      <th>2</th>\n",
       "      <td>person_002</td>\n",
       "      <td>0</td>\n",
       "      <td>仕事しよ...</td>\n",
       "    </tr>\n",
       "    <tr>\n",
       "      <th>3</th>\n",
       "      <td>person_003</td>\n",
       "      <td>0</td>\n",
       "      <td>仕事しよ...</td>\n",
       "    </tr>\n",
       "    <tr>\n",
       "      <th>4</th>\n",
       "      <td>person_004</td>\n",
       "      <td>0</td>\n",
       "      <td>仕事しよ...</td>\n",
       "    </tr>\n",
       "  </tbody>\n",
       "</table>\n",
       "</div>"
      ],
      "text/plain": [
       "         name  time    state\n",
       "0  person_000     0  仕事しよ...\n",
       "1  person_001     0  仕事しよ...\n",
       "2  person_002     0  仕事しよ...\n",
       "3  person_003     0  仕事しよ...\n",
       "4  person_004     0  仕事しよ..."
      ]
     },
     "execution_count": 77,
     "metadata": {},
     "output_type": "execute_result"
    }
   ],
   "source": [
    "dat = get_state_results()\n",
    "dat.head()"
   ]
  },
  {
   "cell_type": "code",
   "execution_count": 78,
   "metadata": {
    "collapsed": false,
    "scrolled": true
   },
   "outputs": [
    {
     "data": {
      "text/html": [
       "<div>\n",
       "<table border=\"1\" class=\"dataframe\">\n",
       "  <thead>\n",
       "    <tr style=\"text-align: right;\">\n",
       "      <th>name</th>\n",
       "      <th>person_000</th>\n",
       "      <th>person_001</th>\n",
       "      <th>person_002</th>\n",
       "      <th>person_003</th>\n",
       "      <th>person_004</th>\n",
       "    </tr>\n",
       "    <tr>\n",
       "      <th>time</th>\n",
       "      <th></th>\n",
       "      <th></th>\n",
       "      <th></th>\n",
       "      <th></th>\n",
       "      <th></th>\n",
       "    </tr>\n",
       "  </thead>\n",
       "  <tbody>\n",
       "    <tr>\n",
       "      <th>0</th>\n",
       "      <td>仕事しよ...</td>\n",
       "      <td>仕事しよ...</td>\n",
       "      <td>仕事しよ...</td>\n",
       "      <td>仕事しよ...</td>\n",
       "      <td>仕事しよ...</td>\n",
       "    </tr>\n",
       "    <tr>\n",
       "      <th>1</th>\n",
       "      <td>コーヒー飲みたい！</td>\n",
       "      <td>コーヒー飲みたい！</td>\n",
       "      <td>仕事しよ...</td>\n",
       "      <td>仕事しよ...</td>\n",
       "      <td>仕事しよ...</td>\n",
       "    </tr>\n",
       "    <tr>\n",
       "      <th>2</th>\n",
       "      <td>おいしかった！！</td>\n",
       "      <td>おいしかった！！</td>\n",
       "      <td>仕事しよ...</td>\n",
       "      <td>仕事しよ...</td>\n",
       "      <td>仕事しよ...</td>\n",
       "    </tr>\n",
       "    <tr>\n",
       "      <th>3</th>\n",
       "      <td>仕事しよ...</td>\n",
       "      <td>仕事しよ...</td>\n",
       "      <td>コーヒー飲みたい！</td>\n",
       "      <td>仕事しよ...</td>\n",
       "      <td>仕事しよ...</td>\n",
       "    </tr>\n",
       "    <tr>\n",
       "      <th>4</th>\n",
       "      <td>仕事しよ...</td>\n",
       "      <td>仕事しよ...</td>\n",
       "      <td>おいしかった！！</td>\n",
       "      <td>コーヒー飲みたい！</td>\n",
       "      <td>仕事しよ...</td>\n",
       "    </tr>\n",
       "    <tr>\n",
       "      <th>5</th>\n",
       "      <td>仕事しよ...</td>\n",
       "      <td>仕事しよ...</td>\n",
       "      <td>仕事しよ...</td>\n",
       "      <td>おいしかった！！</td>\n",
       "      <td>仕事しよ...</td>\n",
       "    </tr>\n",
       "    <tr>\n",
       "      <th>6</th>\n",
       "      <td>仕事しよ...</td>\n",
       "      <td>仕事しよ...</td>\n",
       "      <td>仕事しよ...</td>\n",
       "      <td>コーヒー飲みたい！</td>\n",
       "      <td>仕事しよ...</td>\n",
       "    </tr>\n",
       "    <tr>\n",
       "      <th>7</th>\n",
       "      <td>コーヒー飲みたい！</td>\n",
       "      <td>コーヒー飲みたい！</td>\n",
       "      <td>仕事しよ...</td>\n",
       "      <td>おいしかった！！</td>\n",
       "      <td>仕事しよ...</td>\n",
       "    </tr>\n",
       "    <tr>\n",
       "      <th>8</th>\n",
       "      <td>おいしかった！！</td>\n",
       "      <td>おいしかった！！</td>\n",
       "      <td>仕事しよ...</td>\n",
       "      <td>仕事しよ...</td>\n",
       "      <td>仕事しよ...</td>\n",
       "    </tr>\n",
       "    <tr>\n",
       "      <th>9</th>\n",
       "      <td>仕事しよ...</td>\n",
       "      <td>仕事しよ...</td>\n",
       "      <td>仕事しよ...</td>\n",
       "      <td>仕事しよ...</td>\n",
       "      <td>仕事しよ...</td>\n",
       "    </tr>\n",
       "  </tbody>\n",
       "</table>\n",
       "</div>"
      ],
      "text/plain": [
       "name person_000 person_001 person_002 person_003 person_004\n",
       "time                                                       \n",
       "0       仕事しよ...    仕事しよ...    仕事しよ...    仕事しよ...    仕事しよ...\n",
       "1     コーヒー飲みたい！  コーヒー飲みたい！    仕事しよ...    仕事しよ...    仕事しよ...\n",
       "2      おいしかった！！   おいしかった！！    仕事しよ...    仕事しよ...    仕事しよ...\n",
       "3       仕事しよ...    仕事しよ...  コーヒー飲みたい！    仕事しよ...    仕事しよ...\n",
       "4       仕事しよ...    仕事しよ...   おいしかった！！  コーヒー飲みたい！    仕事しよ...\n",
       "5       仕事しよ...    仕事しよ...    仕事しよ...   おいしかった！！    仕事しよ...\n",
       "6       仕事しよ...    仕事しよ...    仕事しよ...  コーヒー飲みたい！    仕事しよ...\n",
       "7     コーヒー飲みたい！  コーヒー飲みたい！    仕事しよ...   おいしかった！！    仕事しよ...\n",
       "8      おいしかった！！   おいしかった！！    仕事しよ...    仕事しよ...    仕事しよ...\n",
       "9       仕事しよ...    仕事しよ...    仕事しよ...    仕事しよ...    仕事しよ..."
      ]
     },
     "execution_count": 78,
     "metadata": {},
     "output_type": "execute_result"
    }
   ],
   "source": [
    "# データフレームを整形して見やすく。\n",
    "dat.pivot(\"time\",\"name\",\"state\")"
   ]
  },
  {
   "cell_type": "markdown",
   "metadata": {},
   "source": [
    "意図通りに動いているぽいので、シミュレーションのシナリオを整理して設定してみます。"
   ]
  },
  {
   "cell_type": "markdown",
   "metadata": {},
   "source": [
    "## シミュレーション・シナリオ\n",
    "\n",
    "- 社内の就業時間（８時間）中に注文できる。\n",
    "- 毎日行く人もいると思うけど社員全員ではないはず。１日 0〜2回のランダムで\n",
    "- 社員数は３００人。だいたい弊社こんなものだったはず。\n",
    "- バリスタさんは3人常駐してくれている。\n",
    "- 注文から淹れるのに３分ほど時間がかかるとする。\n",
    "\n",
    "1ループを1分としてシミュレーションを行うとすると、8時間＝60分 x 8 = 480ループになります。\n",
    "\n",
    "バリスタさんも休憩したりで、全員がいない場合もあると思いますがとりあえず３人固定で。\n",
    "\n",
    "待ち人数については毎単位時間ごとに並んでる人をモニタリングする処理を追加します。"
   ]
  },
  {
   "cell_type": "code",
   "execution_count": 79,
   "metadata": {
    "collapsed": false
   },
   "outputs": [],
   "source": [
    "# スタンドの前で待つ人のモニタリング\n",
    "def monitor(resource, env):\n",
    "    while True:\n",
    "        # バリスタさんにコーヒーを淹れてもらっている人数\n",
    "        log_state(\"Brewing,%d,%d\" % (resource._env.now, resource.count))\n",
    "        # キャパ越えで待ってる人\n",
    "        log_state(\"Waiting,%d,%d\" % (resource._env.now, len(resource.queue)))\n",
    "        yield env.timeout(1)"
   ]
  },
  {
   "cell_type": "markdown",
   "metadata": {},
   "source": [
    "それぞれのPersonの動きには興味はなくなったので、結果を返す処理を除いておきます。"
   ]
  },
  {
   "cell_type": "code",
   "execution_count": 83,
   "metadata": {
    "collapsed": false
   },
   "outputs": [],
   "source": [
    "class Person(object):\n",
    "    def __init__(self, env, name, freq, coffee_garden):\n",
    "        self.env = env\n",
    "        self.name = name\n",
    "        self.freq = freq\n",
    "        self.coffee_garden = coffee_garden\n",
    "\n",
    "    def needs_coffee(self):\n",
    "        return np.random.randint(SIM_SIZE) < self.freq\n",
    "\n",
    "    def run(self):\n",
    "        while True:\n",
    "            if self.needs_coffee():\n",
    "                with self.coffee_garden.request() as req:\n",
    "                    yield req\n",
    "                    yield self.env.timeout(COFFEE_TIME) # コーヒーを淹れる時間\n",
    "            yield self.env.timeout(1)"
   ]
  },
  {
   "cell_type": "markdown",
   "metadata": {},
   "source": [
    "パラメタを再設定して改めてシミュレータを実行してみます。"
   ]
  },
  {
   "cell_type": "code",
   "execution_count": 87,
   "metadata": {
    "collapsed": false
   },
   "outputs": [],
   "source": [
    "SIM_SIZE = 60*8  # ループを回す回数\n",
    "MAX_FREQ = 2  # Personがコーヒーを飲みに行きたくなる最大頻度\n",
    "NUM_OF_PEOPLE = 300  # 人数\n",
    "NUM_OF_BRISTA = 3  # バリスタさんの人数\n",
    "COFFEE_TIME = 3  # コーヒーの淹れてくれる時間\n",
    "\n",
    "# 人ごとにコーヒーの飲みたくなる頻度を設定\n",
    "def get_random_freq():\n",
    "    return np.random.randint(MAX_FREQ)\n",
    "\n",
    "# simpy のEnvironmentオブジェクトを生成\n",
    "env = simpy.Environment()\n",
    "\n",
    "coffee_garden = simpy.Resource(env, NUM_OF_BRISTA)\n",
    "\n",
    "# Personオブジェクトを生成しrunメソッドをプロセスとして設定\n",
    "for name in [\"person_%03d\" % i for i in np.arange(0,NUM_OF_PEOPLE,1)]:\n",
    "    env.process(Person(env, name, get_random_freq(), coffee_garden).run())\n",
    "\n",
    "# コーヒースタンドのモニタリング処理\n",
    "env.process(monitor(coffee_garden, env))\n",
    "    \n",
    "reset_state()    \n",
    "env.run(until=SIM_SIZE)"
   ]
  },
  {
   "cell_type": "markdown",
   "metadata": {},
   "source": [
    "やっとここからが本題です。(コードばかりで全く文章書いていないですが...!?\n",
    "\n",
    "１日のうちに待っている人数がどのくらいの頻度で起きていたのでしょう。\n",
    "\n",
    "ヒストグラムを見てみます。"
   ]
  },
  {
   "cell_type": "code",
   "execution_count": 88,
   "metadata": {
    "collapsed": false
   },
   "outputs": [
    {
     "data": {
      "text/plain": [
       "<matplotlib.axes._subplots.AxesSubplot at 0x11cf60588>"
      ]
     },
     "execution_count": 88,
     "metadata": {},
     "output_type": "execute_result"
    },
    {
     "data": {
      "image/png": "[encoded data removed]",
      "text/plain": [
       "<matplotlib.figure.Figure at 0x11cf83898>"
      ]
     },
     "metadata": {},
     "output_type": "display_data"
    }
   ],
   "source": [
    "res = dat.pivot(\"time\",\"name\",\"state\")\n",
    "res.Brewing.hist()"
   ]
  },
  {
   "cell_type": "markdown",
   "metadata": {},
   "source": [
    "Brewing(コーヒーを淹れてもらっている状態)の人数が左から 0,1,2,3 となり\n",
    "\n",
    "一番右が、バリスタの方３人が同時にコーヒーを淹れている状態です。\n",
    "\n",
    "50に達していないので、1日(60x8=480)のうちの1割程度です。"
   ]
  },
  {
   "cell_type": "code",
   "execution_count": 89,
   "metadata": {
    "collapsed": false
   },
   "outputs": [
    {
     "data": {
      "text/plain": [
       "<matplotlib.axes._subplots.AxesSubplot at 0x11d407780>"
      ]
     },
     "execution_count": 89,
     "metadata": {},
     "output_type": "execute_result"
    },
    {
     "data": {
      "image/png": "[encoded data removed]",
      "text/plain": [
       "<matplotlib.figure.Figure at 0x11cf83780>"
      ]
     },
     "metadata": {},
     "output_type": "display_data"
    }
   ],
   "source": [
    "res.Waiting.hist()"
   ]
  },
  {
   "cell_type": "markdown",
   "metadata": {},
   "source": [
    "次はWaiting(前に先約がいて待ちの状態)のヒストグラムです。\n",
    "\n",
    "待ち人数が1ごくわずかですね。基本的に待たずに注文ができているようです。\n",
    "\n",
    "**バリスタさん３人がいれば、弊社の社員数であればほぼ待たずにコーヒーを注文できるようです。良かったです。**"
   ]
  },
  {
   "cell_type": "code",
   "execution_count": 97,
   "metadata": {
    "collapsed": false
   },
   "outputs": [],
   "source": [
    "def get_hist_data(simulate_data):\n",
    "    d = simulate_data.pivot(\"time\",\"name\",\"state\")\n",
    "    return dict(Counter(d.Brewing)), dict(Counter(d.Waiting))\n",
    "\n",
    "def simulate():\n",
    "    i = 0\n",
    "    # 人ごとにコーヒーの飲みたくなる頻度を設定\n",
    "    def get_random_freq():\n",
    "        return np.random.randint(MAX_FREQ)\n",
    "\n",
    "    SIM_SIZE = 60*8  # ループを回す回数\n",
    "    MAX_FREQ = 2  # Personがコーヒーを飲みに行きたくなる最大頻度\n",
    "    NUM_OF_PEOPLE = 300  # 人数\n",
    "    NUM_OF_BRISTA = 3  # バリスタさんの人数\n",
    "    COFFEE_TIME = 3  # コーヒーの淹れてくれる時間\n",
    "\n",
    "    # simpy のEnvironmentオブジェクトを生成\n",
    "    env = simpy.Environment()\n",
    "    \n",
    "    coffee_garden = simpy.Resource(env, NUM_OF_BRISTA)\n",
    "    \n",
    "    # Personオブジェクトを生成しrunメソッドをプロセスとして設定\n",
    "    for name in [\"person_%03d\" % i for i in np.arange(0,NUM_OF_PEOPLE,1)]:\n",
    "        env.process(Person(env, name, get_random_freq(), coffee_garden).run())\n",
    "    \n",
    "    # コーヒースタンドのモニタリング処理\n",
    "    env.process(monitor(coffee_garden, env))\n",
    "    \n",
    "    reset_state()    \n",
    "    env.run(until=SIM_SIZE)\n",
    "    return get_hist_data(get_state_results())"
   ]
  },
  {
   "cell_type": "code",
   "execution_count": 125,
   "metadata": {
    "collapsed": false
   },
   "outputs": [],
   "source": [
    "# brew_stats = []\n",
    "# wait_stats = []\n",
    "for i in np.arange(0,10,1):\n",
    "    b, w = simulate()\n",
    "    brew_stats.append(b)\n",
    "    wait_stats.append(w)\n",
    "    "
   ]
  },
  {
   "cell_type": "code",
   "execution_count": 126,
   "metadata": {
    "collapsed": false
   },
   "outputs": [
    {
     "data": {
      "text/plain": [
       "<matplotlib.axes._subplots.AxesSubplot at 0x11e35db00>"
      ]
     },
     "execution_count": 126,
     "metadata": {},
     "output_type": "execute_result"
    },
    {
     "data": {
      "image/png": "[encoded data removed]",
      "text/plain": [
       "<matplotlib.figure.Figure at 0x11e6bf6d8>"
      ]
     },
     "metadata": {},
     "output_type": "display_data"
    }
   ],
   "source": [
    "pd.DataFrame(brew_stats).boxplot()"
   ]
  },
  {
   "cell_type": "code",
   "execution_count": 127,
   "metadata": {
    "collapsed": false
   },
   "outputs": [
    {
     "data": {
      "text/plain": [
       "<matplotlib.axes._subplots.AxesSubplot at 0x11e38cd68>"
      ]
     },
     "execution_count": 127,
     "metadata": {},
     "output_type": "execute_result"
    },
    {
     "data": {
      "image/png": "[encoded data removed]",
      "text/plain": [
       "<matplotlib.figure.Figure at 0x11ce72e10>"
      ]
     },
     "metadata": {},
     "output_type": "display_data"
    }
   ],
   "source": [
    "pd.DataFrame(wait_stats).boxplot()"
   ]
  },
  {
   "cell_type": "code",
   "execution_count": null,
   "metadata": {
    "collapsed": true
   },
   "outputs": [],
   "source": []
  },
  {
   "cell_type": "code",
   "execution_count": 48,
   "metadata": {
    "collapsed": false
   },
   "outputs": [
    {
     "data": {
      "text/html": [
       "<div>\n",
       "<table border=\"1\" class=\"dataframe\">\n",
       "  <thead>\n",
       "    <tr style=\"text-align: right;\">\n",
       "      <th></th>\n",
       "      <th>name</th>\n",
       "      <th>time</th>\n",
       "      <th>state</th>\n",
       "    </tr>\n",
       "  </thead>\n",
       "  <tbody>\n",
       "    <tr>\n",
       "      <th>0</th>\n",
       "      <td>Brewing</td>\n",
       "      <td>0</td>\n",
       "      <td>0</td>\n",
       "    </tr>\n",
       "    <tr>\n",
       "      <th>1</th>\n",
       "      <td>Waiting</td>\n",
       "      <td>0</td>\n",
       "      <td>0</td>\n",
       "    </tr>\n",
       "    <tr>\n",
       "      <th>2</th>\n",
       "      <td>Brewing</td>\n",
       "      <td>1</td>\n",
       "      <td>0</td>\n",
       "    </tr>\n",
       "    <tr>\n",
       "      <th>3</th>\n",
       "      <td>Waiting</td>\n",
       "      <td>1</td>\n",
       "      <td>0</td>\n",
       "    </tr>\n",
       "    <tr>\n",
       "      <th>4</th>\n",
       "      <td>Brewing</td>\n",
       "      <td>2</td>\n",
       "      <td>0</td>\n",
       "    </tr>\n",
       "    <tr>\n",
       "      <th>5</th>\n",
       "      <td>Waiting</td>\n",
       "      <td>2</td>\n",
       "      <td>0</td>\n",
       "    </tr>\n",
       "    <tr>\n",
       "      <th>6</th>\n",
       "      <td>Brewing</td>\n",
       "      <td>3</td>\n",
       "      <td>0</td>\n",
       "    </tr>\n",
       "    <tr>\n",
       "      <th>7</th>\n",
       "      <td>Waiting</td>\n",
       "      <td>3</td>\n",
       "      <td>0</td>\n",
       "    </tr>\n",
       "    <tr>\n",
       "      <th>8</th>\n",
       "      <td>Brewing</td>\n",
       "      <td>4</td>\n",
       "      <td>0</td>\n",
       "    </tr>\n",
       "    <tr>\n",
       "      <th>9</th>\n",
       "      <td>Waiting</td>\n",
       "      <td>4</td>\n",
       "      <td>0</td>\n",
       "    </tr>\n",
       "    <tr>\n",
       "      <th>10</th>\n",
       "      <td>Brewing</td>\n",
       "      <td>5</td>\n",
       "      <td>0</td>\n",
       "    </tr>\n",
       "    <tr>\n",
       "      <th>11</th>\n",
       "      <td>Waiting</td>\n",
       "      <td>5</td>\n",
       "      <td>0</td>\n",
       "    </tr>\n",
       "    <tr>\n",
       "      <th>12</th>\n",
       "      <td>Brewing</td>\n",
       "      <td>6</td>\n",
       "      <td>0</td>\n",
       "    </tr>\n",
       "    <tr>\n",
       "      <th>13</th>\n",
       "      <td>Waiting</td>\n",
       "      <td>6</td>\n",
       "      <td>0</td>\n",
       "    </tr>\n",
       "    <tr>\n",
       "      <th>14</th>\n",
       "      <td>Brewing</td>\n",
       "      <td>7</td>\n",
       "      <td>0</td>\n",
       "    </tr>\n",
       "    <tr>\n",
       "      <th>15</th>\n",
       "      <td>Waiting</td>\n",
       "      <td>7</td>\n",
       "      <td>0</td>\n",
       "    </tr>\n",
       "    <tr>\n",
       "      <th>16</th>\n",
       "      <td>Brewing</td>\n",
       "      <td>8</td>\n",
       "      <td>0</td>\n",
       "    </tr>\n",
       "    <tr>\n",
       "      <th>17</th>\n",
       "      <td>Waiting</td>\n",
       "      <td>8</td>\n",
       "      <td>0</td>\n",
       "    </tr>\n",
       "    <tr>\n",
       "      <th>18</th>\n",
       "      <td>Brewing</td>\n",
       "      <td>9</td>\n",
       "      <td>0</td>\n",
       "    </tr>\n",
       "    <tr>\n",
       "      <th>19</th>\n",
       "      <td>Waiting</td>\n",
       "      <td>9</td>\n",
       "      <td>0</td>\n",
       "    </tr>\n",
       "    <tr>\n",
       "      <th>20</th>\n",
       "      <td>Brewing</td>\n",
       "      <td>10</td>\n",
       "      <td>0</td>\n",
       "    </tr>\n",
       "    <tr>\n",
       "      <th>21</th>\n",
       "      <td>Waiting</td>\n",
       "      <td>10</td>\n",
       "      <td>0</td>\n",
       "    </tr>\n",
       "    <tr>\n",
       "      <th>22</th>\n",
       "      <td>Brewing</td>\n",
       "      <td>11</td>\n",
       "      <td>0</td>\n",
       "    </tr>\n",
       "    <tr>\n",
       "      <th>23</th>\n",
       "      <td>Waiting</td>\n",
       "      <td>11</td>\n",
       "      <td>0</td>\n",
       "    </tr>\n",
       "    <tr>\n",
       "      <th>24</th>\n",
       "      <td>Brewing</td>\n",
       "      <td>12</td>\n",
       "      <td>0</td>\n",
       "    </tr>\n",
       "    <tr>\n",
       "      <th>25</th>\n",
       "      <td>Waiting</td>\n",
       "      <td>12</td>\n",
       "      <td>0</td>\n",
       "    </tr>\n",
       "    <tr>\n",
       "      <th>26</th>\n",
       "      <td>Brewing</td>\n",
       "      <td>13</td>\n",
       "      <td>0</td>\n",
       "    </tr>\n",
       "    <tr>\n",
       "      <th>27</th>\n",
       "      <td>Waiting</td>\n",
       "      <td>13</td>\n",
       "      <td>0</td>\n",
       "    </tr>\n",
       "    <tr>\n",
       "      <th>28</th>\n",
       "      <td>Brewing</td>\n",
       "      <td>14</td>\n",
       "      <td>0</td>\n",
       "    </tr>\n",
       "    <tr>\n",
       "      <th>29</th>\n",
       "      <td>Waiting</td>\n",
       "      <td>14</td>\n",
       "      <td>0</td>\n",
       "    </tr>\n",
       "    <tr>\n",
       "      <th>...</th>\n",
       "      <td>...</td>\n",
       "      <td>...</td>\n",
       "      <td>...</td>\n",
       "    </tr>\n",
       "    <tr>\n",
       "      <th>930</th>\n",
       "      <td>Brewing</td>\n",
       "      <td>465</td>\n",
       "      <td>0</td>\n",
       "    </tr>\n",
       "    <tr>\n",
       "      <th>931</th>\n",
       "      <td>Waiting</td>\n",
       "      <td>465</td>\n",
       "      <td>0</td>\n",
       "    </tr>\n",
       "    <tr>\n",
       "      <th>932</th>\n",
       "      <td>Brewing</td>\n",
       "      <td>466</td>\n",
       "      <td>0</td>\n",
       "    </tr>\n",
       "    <tr>\n",
       "      <th>933</th>\n",
       "      <td>Waiting</td>\n",
       "      <td>466</td>\n",
       "      <td>0</td>\n",
       "    </tr>\n",
       "    <tr>\n",
       "      <th>934</th>\n",
       "      <td>Brewing</td>\n",
       "      <td>467</td>\n",
       "      <td>0</td>\n",
       "    </tr>\n",
       "    <tr>\n",
       "      <th>935</th>\n",
       "      <td>Waiting</td>\n",
       "      <td>467</td>\n",
       "      <td>0</td>\n",
       "    </tr>\n",
       "    <tr>\n",
       "      <th>936</th>\n",
       "      <td>Brewing</td>\n",
       "      <td>468</td>\n",
       "      <td>0</td>\n",
       "    </tr>\n",
       "    <tr>\n",
       "      <th>937</th>\n",
       "      <td>Waiting</td>\n",
       "      <td>468</td>\n",
       "      <td>0</td>\n",
       "    </tr>\n",
       "    <tr>\n",
       "      <th>938</th>\n",
       "      <td>Brewing</td>\n",
       "      <td>469</td>\n",
       "      <td>0</td>\n",
       "    </tr>\n",
       "    <tr>\n",
       "      <th>939</th>\n",
       "      <td>Waiting</td>\n",
       "      <td>469</td>\n",
       "      <td>0</td>\n",
       "    </tr>\n",
       "    <tr>\n",
       "      <th>940</th>\n",
       "      <td>Brewing</td>\n",
       "      <td>470</td>\n",
       "      <td>0</td>\n",
       "    </tr>\n",
       "    <tr>\n",
       "      <th>941</th>\n",
       "      <td>Waiting</td>\n",
       "      <td>470</td>\n",
       "      <td>0</td>\n",
       "    </tr>\n",
       "    <tr>\n",
       "      <th>942</th>\n",
       "      <td>Brewing</td>\n",
       "      <td>471</td>\n",
       "      <td>0</td>\n",
       "    </tr>\n",
       "    <tr>\n",
       "      <th>943</th>\n",
       "      <td>Waiting</td>\n",
       "      <td>471</td>\n",
       "      <td>0</td>\n",
       "    </tr>\n",
       "    <tr>\n",
       "      <th>944</th>\n",
       "      <td>Brewing</td>\n",
       "      <td>472</td>\n",
       "      <td>0</td>\n",
       "    </tr>\n",
       "    <tr>\n",
       "      <th>945</th>\n",
       "      <td>Waiting</td>\n",
       "      <td>472</td>\n",
       "      <td>0</td>\n",
       "    </tr>\n",
       "    <tr>\n",
       "      <th>946</th>\n",
       "      <td>Brewing</td>\n",
       "      <td>473</td>\n",
       "      <td>0</td>\n",
       "    </tr>\n",
       "    <tr>\n",
       "      <th>947</th>\n",
       "      <td>Waiting</td>\n",
       "      <td>473</td>\n",
       "      <td>0</td>\n",
       "    </tr>\n",
       "    <tr>\n",
       "      <th>948</th>\n",
       "      <td>Brewing</td>\n",
       "      <td>474</td>\n",
       "      <td>0</td>\n",
       "    </tr>\n",
       "    <tr>\n",
       "      <th>949</th>\n",
       "      <td>Waiting</td>\n",
       "      <td>474</td>\n",
       "      <td>0</td>\n",
       "    </tr>\n",
       "    <tr>\n",
       "      <th>950</th>\n",
       "      <td>Brewing</td>\n",
       "      <td>475</td>\n",
       "      <td>0</td>\n",
       "    </tr>\n",
       "    <tr>\n",
       "      <th>951</th>\n",
       "      <td>Waiting</td>\n",
       "      <td>475</td>\n",
       "      <td>0</td>\n",
       "    </tr>\n",
       "    <tr>\n",
       "      <th>952</th>\n",
       "      <td>Brewing</td>\n",
       "      <td>476</td>\n",
       "      <td>0</td>\n",
       "    </tr>\n",
       "    <tr>\n",
       "      <th>953</th>\n",
       "      <td>Waiting</td>\n",
       "      <td>476</td>\n",
       "      <td>0</td>\n",
       "    </tr>\n",
       "    <tr>\n",
       "      <th>954</th>\n",
       "      <td>Brewing</td>\n",
       "      <td>477</td>\n",
       "      <td>0</td>\n",
       "    </tr>\n",
       "    <tr>\n",
       "      <th>955</th>\n",
       "      <td>Waiting</td>\n",
       "      <td>477</td>\n",
       "      <td>0</td>\n",
       "    </tr>\n",
       "    <tr>\n",
       "      <th>956</th>\n",
       "      <td>Brewing</td>\n",
       "      <td>478</td>\n",
       "      <td>0</td>\n",
       "    </tr>\n",
       "    <tr>\n",
       "      <th>957</th>\n",
       "      <td>Waiting</td>\n",
       "      <td>478</td>\n",
       "      <td>0</td>\n",
       "    </tr>\n",
       "    <tr>\n",
       "      <th>958</th>\n",
       "      <td>Brewing</td>\n",
       "      <td>479</td>\n",
       "      <td>0</td>\n",
       "    </tr>\n",
       "    <tr>\n",
       "      <th>959</th>\n",
       "      <td>Waiting</td>\n",
       "      <td>479</td>\n",
       "      <td>0</td>\n",
       "    </tr>\n",
       "  </tbody>\n",
       "</table>\n",
       "<p>960 rows × 3 columns</p>\n",
       "</div>"
      ],
      "text/plain": [
       "        name  time  state\n",
       "0    Brewing     0      0\n",
       "1    Waiting     0      0\n",
       "2    Brewing     1      0\n",
       "3    Waiting     1      0\n",
       "4    Brewing     2      0\n",
       "5    Waiting     2      0\n",
       "6    Brewing     3      0\n",
       "7    Waiting     3      0\n",
       "8    Brewing     4      0\n",
       "9    Waiting     4      0\n",
       "10   Brewing     5      0\n",
       "11   Waiting     5      0\n",
       "12   Brewing     6      0\n",
       "13   Waiting     6      0\n",
       "14   Brewing     7      0\n",
       "15   Waiting     7      0\n",
       "16   Brewing     8      0\n",
       "17   Waiting     8      0\n",
       "18   Brewing     9      0\n",
       "19   Waiting     9      0\n",
       "20   Brewing    10      0\n",
       "21   Waiting    10      0\n",
       "22   Brewing    11      0\n",
       "23   Waiting    11      0\n",
       "24   Brewing    12      0\n",
       "25   Waiting    12      0\n",
       "26   Brewing    13      0\n",
       "27   Waiting    13      0\n",
       "28   Brewing    14      0\n",
       "29   Waiting    14      0\n",
       "..       ...   ...    ...\n",
       "930  Brewing   465      0\n",
       "931  Waiting   465      0\n",
       "932  Brewing   466      0\n",
       "933  Waiting   466      0\n",
       "934  Brewing   467      0\n",
       "935  Waiting   467      0\n",
       "936  Brewing   468      0\n",
       "937  Waiting   468      0\n",
       "938  Brewing   469      0\n",
       "939  Waiting   469      0\n",
       "940  Brewing   470      0\n",
       "941  Waiting   470      0\n",
       "942  Brewing   471      0\n",
       "943  Waiting   471      0\n",
       "944  Brewing   472      0\n",
       "945  Waiting   472      0\n",
       "946  Brewing   473      0\n",
       "947  Waiting   473      0\n",
       "948  Brewing   474      0\n",
       "949  Waiting   474      0\n",
       "950  Brewing   475      0\n",
       "951  Waiting   475      0\n",
       "952  Brewing   476      0\n",
       "953  Waiting   476      0\n",
       "954  Brewing   477      0\n",
       "955  Waiting   477      0\n",
       "956  Brewing   478      0\n",
       "957  Waiting   478      0\n",
       "958  Brewing   479      0\n",
       "959  Waiting   479      0\n",
       "\n",
       "[960 rows x 3 columns]"
      ]
     },
     "execution_count": 48,
     "metadata": {},
     "output_type": "execute_result"
    }
   ],
   "source": [
    "dat = get_state_results()\n",
    "dat"
   ]
  },
  {
   "cell_type": "markdown",
   "metadata": {},
   "source": [
    "## "
   ]
  },
  {
   "cell_type": "markdown",
   "metadata": {},
   "source": [
    "## 結果\n",
    "\n",
    "あまり現実的でないので、もう少しシナリオを追加してみます。\n",
    "\n",
    "## シナリオの追加\n",
    "\n",
    "- 注文から淹れるのに３〜５分\n",
    "- 就業時間中に０〜２回注文する\n",
    "- 注文するときに他に仲間を0~3人つれていく\n",
    "\n",
    "\n",
    "## 結果\n",
    "\n",
    "- 現実には程遠いが、それなりに良い判断材料になりそう。\n",
    "\n",
    "## まとめ"
   ]
  },
  {
   "cell_type": "code",
   "execution_count": null,
   "metadata": {
    "collapsed": false
   },
   "outputs": [],
   "source": [
    "# スタンドの前で待つ人のモニタリング\n",
    "def monitor(resource, env):\n",
    "    while True:\n",
    "        log_state(\"Brewing,%d,%d\" % (resource._env.now, resource.count))\n",
    "        log_state(\"Waiting,%d,%d\" % (resource._env.now, len(resource.queue)))\n",
    "        yield env.timeout(1)"
   ]
  },
  {
   "cell_type": "code",
   "execution_count": null,
   "metadata": {
    "collapsed": true
   },
   "outputs": [],
   "source": [
    "STATE_FILE = \"./state.csv\"\n",
    "def log_state(m):\n",
    "    with open(STATE_FILE,\"a\") as f:\n",
    "        f.write(m+\"\\n\")\n",
    "\n",
    "def reset_state():\n",
    "    with open(STATE_FILE,\"w\") as f:\n",
    "        f.write(\"\")\n",
    "\n",
    "class Person(object):\n",
    "    def __init__(self, env, name, freq):\n",
    "        self.env = env\n",
    "        self.name = name\n",
    "        self.freq = freq\n",
    "\n",
    "    def needs_coffee(self):\n",
    "        return np.random.randint(SIM_SIZE) < self.freq\n",
    "\n",
    "    def run(self):\n",
    "        while True:\n",
    "            if self.needs_coffee():\n",
    "                with coffee_garden.request() as req:\n",
    "                    yield req\n",
    "                    yield self.env.timeout(2) # コーヒーを淹れる時間\n",
    "                    #log_state(\"%s,%d,おいしかった！！\" % (self.name, self.env.now))\n",
    "            yield self.env.timeout(1)\n"
   ]
  },
  {
   "cell_type": "code",
   "execution_count": null,
   "metadata": {
    "collapsed": false
   },
   "outputs": [],
   "source": [
    "SIM_SIZE = 60*8\n",
    "NUM_OF_PEOPLE = 300\n",
    "NUM_OF_BRISTA = 3\n",
    "COFFEE_TIME = 3\n",
    "MAX_FREQ = 2\n",
    "\n",
    "def get_random_freq():\n",
    "    return np.random.randint(MAX_FREQ)\n",
    "\n",
    "env = simpy.Environment()\n",
    "\n",
    "coffee_garden = simpy.Resource(env, NUM_OF_BRISTA)\n",
    "\n",
    "for name in [\"person_%03d\" % i for i in np.arange(0,NUM_OF_PEOPLE,1)]:\n",
    "    env.process(Person(env, name, get_random_freq()).run())\n",
    "\n",
    "env.process(monitor(coffee_garden, env))\n",
    "    \n",
    "reset_state()    \n",
    "env.run(until=SIM_SIZE)"
   ]
  },
  {
   "cell_type": "code",
   "execution_count": null,
   "metadata": {
    "collapsed": false
   },
   "outputs": [],
   "source": [
    "dat = pd.read_csv(\"./state.csv\", header=None)\n",
    "dat.columns=[\"name\",\"time\",\"state\"]\n",
    "res = dat.pivot(\"time\",\"name\",\"state\")\n",
    "res.hist()"
   ]
  },
  {
   "cell_type": "markdown",
   "metadata": {},
   "source": [
    "# グラフを見て分析してみる\n",
    "\n",
    "- Brewing(コーヒーを淹れてもらっている状態) の最大は２なので、バリスタさんが２人を相手にコーヒーを淹れてるタイミングがある。１００前後なので１日の2割弱。\n",
    "- Waiting(先客がいて注文できていない状態)の最大は１、かつ１日のうちのごくわずか。\n",
    "\n",
    "３人もいてくれればほとんど待たずにコーヒーが飲める！！"
   ]
  },
  {
   "cell_type": "markdown",
   "metadata": {},
   "source": [
    "# さらに現実ぽくシナリオを組んでみる\n",
    "\n",
    "- 1単位時間を１分として営業時間の８時間＝60min x 8\n",
    "- 毎日行く人もいると思うけど全員ではない。FREQも１日０回〜2回のランダムで\n",
    "    - [NEW！！] 朝の１時間、昼休みの１時間はよりコーヒーを飲みたくなる\n",
    "- 社員数は３００人\n",
    "- バリスタさんは3人常駐してくれている。\n",
    "- [NEW!!] たまに仲間を１〜２人連れてコーヒーを買いに行く。\n"
   ]
  },
  {
   "cell_type": "code",
   "execution_count": null,
   "metadata": {
    "collapsed": true
   },
   "outputs": [],
   "source": [
    "STATE_FILE = \"./state.csv\"\n",
    "\n",
    "# スタンドの前で\b待つ人のモニタリング\n",
    "def monitor(resource, env):\n",
    "    while True:\n",
    "        #log_state(\"Brewing,%d,%d\" % (resource._env.now, resource.count))\n",
    "        #log_state(\"Waiting,%d,%d\" % (resource._env.now, len(resource.queue)))\n",
    "        yield env.timeout(1)\n",
    "\n",
    "def log_state(m):\n",
    "    with open(STATE_FILE,\"a\") as f:\n",
    "        f.write(m+\"\\n\")\n",
    "\n",
    "def reset_state():\n",
    "    with open(STATE_FILE,\"w\") as f:\n",
    "        f.write(\"\")\n",
    "\n",
    "def is_morning(current_time):\n",
    "    return current_time > 0 and current_time < 24\n",
    "\n",
    "def is_after_lanch(current_time):\n",
    "    return current_time > 24*12 and current_time < 24*13\n",
    "\n",
    "class Person(object):\n",
    "    people = []\n",
    "    def __init__(self, env, name, freq):\n",
    "        self.env = env\n",
    "        self.name = name\n",
    "        self.freq = freq\n",
    "        self.accompanied = False\n",
    "\n",
    "    def needs_coffee(self):\n",
    "        freq = self.freq\n",
    "        if is_morning(self.env.now):\n",
    "            freq = self.freq + 1\n",
    "\n",
    "        if is_after_lanch(self.env.now):\n",
    "            freq = self.freq + 1\n",
    "        \n",
    "        return np.random.randint(SIM_SIZE) < freq\n",
    "\n",
    "    def accompany_someone(self):\n",
    "        if self.accompanied:\n",
    "            return None  # すでに誘ったメンバー\n",
    "        for i in range(0, np.random.randint(2),1):\n",
    "            pid = np.random.randint(NUM_OF_PEOPLE)\n",
    "            self.people[pid].accompanied=True\n",
    "    \n",
    "    def run(self):\n",
    "        while True:\n",
    "            if self.needs_coffee() or self.accompanied:\n",
    "                self.accompany_someone()\n",
    "                with coffee_garden.request() as req:\n",
    "                    yield req\n",
    "                    if self.accompanied:\n",
    "                        log_state(\"%s,%d,さそわれて。\" % (self.name, self.env.now))\n",
    "                    else:\n",
    "                        log_state(\"%s,%d,飲みに来た。\" % (self.name, self.env.now))\n",
    "                    yield self.env.timeout(2) # コーヒーを淹れる時間\n",
    "                    #log_state(\"%s,%d,おいしかった！！\" % (self.name, self.env.now))\n",
    "            self.accompanied = False\n",
    "            yield self.env.timeout(1)\n"
   ]
  },
  {
   "cell_type": "code",
   "execution_count": null,
   "metadata": {
    "collapsed": false
   },
   "outputs": [],
   "source": [
    "SIM_SIZE = 60*8\n",
    "NUM_OF_PEOPLE = 300\n",
    "NUM_OF_BRISTA = 2\n",
    "FREQ_FOR_ACCOMPANY = 1\n",
    "\n",
    "def get_random_freq():\n",
    "    return np.random.randint(2)\n",
    "\n",
    "env = simpy.Environment()\n",
    "\n",
    "coffee_garden = simpy.Resource(env, NUM_OF_BRISTA)\n",
    "\n",
    "for name in [\"person_%03d\" % i for i in np.arange(0,NUM_OF_PEOPLE,1)]:\n",
    "    p = Person(env, name, get_random_freq())\n",
    "    Person.people.append(p)\n",
    "    env.process(p.run())\n",
    "\n",
    "env.process(monitor(coffee_garden, env))\n",
    "    \n",
    "reset_state()    \n",
    "env.run(until=SIM_SIZE)"
   ]
  },
  {
   "cell_type": "code",
   "execution_count": null,
   "metadata": {
    "collapsed": true
   },
   "outputs": [],
   "source": [
    "from collections import Counter"
   ]
  },
  {
   "cell_type": "code",
   "execution_count": 69,
   "metadata": {
    "collapsed": false
   },
   "outputs": [
    {
     "data": {
      "text/plain": [
       "Counter({'0': 664, '1': 177, '2': 89, '3': 30, 'state': 1})"
      ]
     },
     "execution_count": 69,
     "metadata": {},
     "output_type": "execute_result"
    }
   ],
   "source": [
    "dat = pd.read_csv(\"./state.csv\", header=None)\n",
    "dat.columns=[\"name\",\"time\",\"state\"]\n",
    "Counter(dat.state.values)\n",
    "#res = dat.pivot(\"time\",\"name\",\"state\")\n",
    "#res"
   ]
  },
  {
   "cell_type": "code",
   "execution_count": 71,
   "metadata": {
    "collapsed": false
   },
   "outputs": [
    {
     "data": {
      "text/plain": [
       "{'0': 664, '1': 177, '2': 89, '3': 30, 'state': 1}"
      ]
     },
     "execution_count": 71,
     "metadata": {},
     "output_type": "execute_result"
    }
   ],
   "source": [
    "dict(Counter(dat.state.values))"
   ]
  },
  {
   "cell_type": "code",
   "execution_count": null,
   "metadata": {
    "collapsed": true
   },
   "outputs": [],
   "source": []
  },
  {
   "cell_type": "code",
   "execution_count": null,
   "metadata": {
    "collapsed": false
   },
   "outputs": [],
   "source": []
  },
  {
   "cell_type": "code",
   "execution_count": null,
   "metadata": {
    "collapsed": true
   },
   "outputs": [],
   "source": []
  },
  {
   "cell_type": "code",
   "execution_count": null,
   "metadata": {
    "collapsed": true
   },
   "outputs": [],
   "source": []
  },
  {
   "cell_type": "code",
   "execution_count": null,
   "metadata": {
    "collapsed": true
   },
   "outputs": [],
   "source": []
  },
  {
   "cell_type": "code",
   "execution_count": null,
   "metadata": {
    "collapsed": true
   },
   "outputs": [],
   "source": []
  },
  {
   "cell_type": "code",
   "execution_count": null,
   "metadata": {
    "collapsed": true
   },
   "outputs": [],
   "source": []
  },
  {
   "cell_type": "code",
   "execution_count": null,
   "metadata": {
    "collapsed": true
   },
   "outputs": [],
   "source": []
  }
 ],
 "metadata": {
  "anaconda-cloud": {},
  "kernelspec": {
   "display_name": "Python [Root]",
   "language": "python",
   "name": "Python [Root]"
  },
  "language_info": {
   "codemirror_mode": {
    "name": "ipython",
    "version": 3
   },
   "file_extension": ".py",
   "mimetype": "text/x-python",
   "name": "python",
   "nbconvert_exporter": "python",
   "pygments_lexer": "ipython3",
   "version": "3.5.2"
  }
 },
 "nbformat": 4,
 "nbformat_minor": 0
}

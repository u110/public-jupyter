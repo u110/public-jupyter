{
 "cells": [
  {
   "cell_type": "code",
   "execution_count": 6,
   "metadata": {
    "collapsed": true
   },
   "outputs": [],
   "source": [
    "import matplotlib.pyplot as plt\n",
    "import seaborn as sns\n",
    "import pandas as pd\n",
    "import numpy as np\n",
    "\n",
    "%matplotlib inline"
   ]
  },
  {
   "cell_type": "code",
   "execution_count": 7,
   "metadata": {
    "collapsed": true
   },
   "outputs": [],
   "source": [
    "import simpy"
   ]
  },
  {
   "cell_type": "markdown",
   "metadata": {},
   "source": [
    "# シンプルなシナリオ\n",
    "\n",
    "- 1日に１回コーヒーをのみたくなる。\n",
    "- "
   ]
  },
  {
   "cell_type": "code",
   "execution_count": 459,
   "metadata": {
    "collapsed": false
   },
   "outputs": [],
   "source": [
    "DATA_FILE = \"./data.csv\"\n",
    "def log_simulation(m):\n",
    "    with open(DATA_FILE,\"a\") as f:\n",
    "        f.write(m+\"\\n\")\n",
    "\n",
    "def clear_datafile():\n",
    "    with open(DATA_FILE,\"w\") as f:\n",
    "        f.write(\"\")\n",
    "\n",
    "class Person(object):\n",
    "    def __init__(self, env, name, freq):\n",
    "        self.env = env\n",
    "        self.name = name\n",
    "        self.freq = freq\n",
    "\n",
    "    def is_need_to_go(self):\n",
    "        if np.random.randint(SIM_SIZE)  <= self.freq:\n",
    "                log_simulation(\"%s,%d,コーヒー飲みたい！\" % (self.name, self.env.now))\n",
    "                return True\n",
    "        else:\n",
    "                log_simulation(\"%s,%d,仕事しよ...\" % (self.name, self.env.now))\n",
    "                return False\n",
    "\n",
    "    def run(self):\n",
    "        while True:\n",
    "            if self.is_need_to_go():\n",
    "                with coffee_garden.request() as req:\n",
    "                    yield req\n",
    "                    yield self.env.timeout(2) # コーヒーを淹れる時間\n",
    "                    log_simulation(\"%s,%d,おいしかった！！\" % (self.name, self.env.now))\n",
    "            yield self.env.timeout(1)\n"
   ]
  },
  {
   "cell_type": "code",
   "execution_count": 460,
   "metadata": {
    "collapsed": false
   },
   "outputs": [],
   "source": [
    "SIM_SIZE = 10\n",
    "FREQ = 1\n",
    "POPULATION = 3\n",
    "env = simpy.Environment()\n",
    "\n",
    "coffee_garden = simpy.Resource(env, 2)\n",
    "\n",
    "for name in [\"person_%03d\" % i for i in np.arange(0,POPULATION,1)]:\n",
    "    env.process(Person(env, name, FREQ).run())\n",
    "\n",
    "clear_datafile()\n",
    "        \n",
    "env.run(until=SIM_SIZE)"
   ]
  },
  {
   "cell_type": "code",
   "execution_count": 461,
   "metadata": {
    "collapsed": false
   },
   "outputs": [],
   "source": [
    "dat = pd.read_csv(\"./data.csv\", header=None)"
   ]
  },
  {
   "cell_type": "code",
   "execution_count": 462,
   "metadata": {
    "collapsed": false,
    "scrolled": true
   },
   "outputs": [
    {
     "data": {
      "text/html": [
       "<div>\n",
       "<table border=\"1\" class=\"dataframe\">\n",
       "  <thead>\n",
       "    <tr style=\"text-align: right;\">\n",
       "      <th>name</th>\n",
       "      <th>person_000</th>\n",
       "      <th>person_001</th>\n",
       "      <th>person_002</th>\n",
       "    </tr>\n",
       "    <tr>\n",
       "      <th>time</th>\n",
       "      <th></th>\n",
       "      <th></th>\n",
       "      <th></th>\n",
       "    </tr>\n",
       "  </thead>\n",
       "  <tbody>\n",
       "    <tr>\n",
       "      <th>0</th>\n",
       "      <td>仕事しよ...</td>\n",
       "      <td>仕事しよ...</td>\n",
       "      <td>コーヒー飲みたい！</td>\n",
       "    </tr>\n",
       "    <tr>\n",
       "      <th>1</th>\n",
       "      <td>仕事しよ...</td>\n",
       "      <td>コーヒー飲みたい！</td>\n",
       "      <td>None</td>\n",
       "    </tr>\n",
       "    <tr>\n",
       "      <th>2</th>\n",
       "      <td>仕事しよ...</td>\n",
       "      <td>None</td>\n",
       "      <td>おいしかった！！</td>\n",
       "    </tr>\n",
       "    <tr>\n",
       "      <th>3</th>\n",
       "      <td>コーヒー飲みたい！</td>\n",
       "      <td>おいしかった！！</td>\n",
       "      <td>仕事しよ...</td>\n",
       "    </tr>\n",
       "    <tr>\n",
       "      <th>4</th>\n",
       "      <td>None</td>\n",
       "      <td>仕事しよ...</td>\n",
       "      <td>仕事しよ...</td>\n",
       "    </tr>\n",
       "    <tr>\n",
       "      <th>5</th>\n",
       "      <td>おいしかった！！</td>\n",
       "      <td>仕事しよ...</td>\n",
       "      <td>仕事しよ...</td>\n",
       "    </tr>\n",
       "    <tr>\n",
       "      <th>6</th>\n",
       "      <td>コーヒー飲みたい！</td>\n",
       "      <td>コーヒー飲みたい！</td>\n",
       "      <td>コーヒー飲みたい！</td>\n",
       "    </tr>\n",
       "    <tr>\n",
       "      <th>8</th>\n",
       "      <td>おいしかった！！</td>\n",
       "      <td>おいしかった！！</td>\n",
       "      <td>None</td>\n",
       "    </tr>\n",
       "    <tr>\n",
       "      <th>9</th>\n",
       "      <td>コーヒー飲みたい！</td>\n",
       "      <td>コーヒー飲みたい！</td>\n",
       "      <td>None</td>\n",
       "    </tr>\n",
       "  </tbody>\n",
       "</table>\n",
       "</div>"
      ],
      "text/plain": [
       "name person_000 person_001 person_002\n",
       "time                                 \n",
       "0       仕事しよ...    仕事しよ...  コーヒー飲みたい！\n",
       "1       仕事しよ...  コーヒー飲みたい！       None\n",
       "2       仕事しよ...       None   おいしかった！！\n",
       "3     コーヒー飲みたい！   おいしかった！！    仕事しよ...\n",
       "4          None    仕事しよ...    仕事しよ...\n",
       "5      おいしかった！！    仕事しよ...    仕事しよ...\n",
       "6     コーヒー飲みたい！  コーヒー飲みたい！  コーヒー飲みたい！\n",
       "8      おいしかった！！   おいしかった！！       None\n",
       "9     コーヒー飲みたい！  コーヒー飲みたい！       None"
      ]
     },
     "execution_count": 462,
     "metadata": {},
     "output_type": "execute_result"
    }
   ],
   "source": [
    "dat.columns=[\"name\",\"time\",\"state\"]\n",
    "dat.pivot(\"time\",\"name\",\"state\")"
   ]
  },
  {
   "cell_type": "markdown",
   "metadata": {},
   "source": [
    "# 少し現実ぽくシナリオを組んでみる\n",
    "\n",
    "- 1単位時間を１分として営業時間の８時間＝60min x 8\n",
    "- 毎日行く人もいると思うけど全員ではない。FREQも１日０回〜2回のランダムで\n",
    "- 社員数は３００人\n",
    "- バリスタさんは3人常駐してくれている。\n",
    "\n",
    "- 課題を再設定：１日の待ち人数の最大はどのくらいだろうか"
   ]
  },
  {
   "cell_type": "code",
   "execution_count": 463,
   "metadata": {
    "collapsed": false
   },
   "outputs": [],
   "source": [
    "# スタンドの前で\b待つ人のモニタリング\n",
    "def monitor(resource, env):\n",
    "    while True:\n",
    "        log_simulation(\"Brewing,%d,%d\" % (resource._env.now, resource.count))\n",
    "        log_simulation(\"Waiting,%d,%d\" % (resource._env.now, len(resource.queue)))\n",
    "        yield env.timeout(1)"
   ]
  },
  {
   "cell_type": "code",
   "execution_count": 471,
   "metadata": {
    "collapsed": true
   },
   "outputs": [],
   "source": [
    "DATA_FILE = \"./data.csv\"\n",
    "def log_simulation(m):\n",
    "    with open(DATA_FILE,\"a\") as f:\n",
    "        f.write(m+\"\\n\")\n",
    "\n",
    "def clear_datafile():\n",
    "    with open(DATA_FILE,\"w\") as f:\n",
    "        f.write(\"\")\n",
    "\n",
    "class Person(object):\n",
    "    def __init__(self, env, name, freq):\n",
    "        self.env = env\n",
    "        self.name = name\n",
    "        self.freq = freq\n",
    "\n",
    "    def is_need_to_go(self):\n",
    "        return np.random.randint(SIM_SIZE) < self.freq\n",
    "\n",
    "    def run(self):\n",
    "        while True:\n",
    "            if self.is_need_to_go():\n",
    "                with coffee_garden.request() as req:\n",
    "                    yield req\n",
    "                    yield self.env.timeout(2) # コーヒーを淹れる時間\n",
    "                    #log_simulation(\"%s,%d,おいしかった！！\" % (self.name, self.env.now))\n",
    "            yield self.env.timeout(1)\n"
   ]
  },
  {
   "cell_type": "code",
   "execution_count": 492,
   "metadata": {
    "collapsed": false
   },
   "outputs": [],
   "source": [
    "SIM_SIZE = 60*8\n",
    "NUM_OF_PEOPLE = 300\n",
    "NUM_OF_BRISTA = 3\n",
    "\n",
    "\n",
    "def get_random_freq():\n",
    "    return np.random.randint(2)\n",
    "\n",
    "env = simpy.Environment()\n",
    "\n",
    "coffee_garden = simpy.Resource(env, NUM_OF_BRISTA)\n",
    "\n",
    "for name in [\"person_%03d\" % i for i in np.arange(0,NUM_OF_PEOPLE,1)]:\n",
    "    env.process(Person(env, name, get_random_freq()).run())\n",
    "\n",
    "env.process(monitor(coffee_garden, env))\n",
    "    \n",
    "clear_datafile()    \n",
    "env.run(until=SIM_SIZE)"
   ]
  },
  {
   "cell_type": "code",
   "execution_count": 493,
   "metadata": {
    "collapsed": false
   },
   "outputs": [
    {
     "data": {
      "text/plain": [
       "array([[<matplotlib.axes._subplots.AxesSubplot object at 0x1242fdd30>,\n",
       "        <matplotlib.axes._subplots.AxesSubplot object at 0x123df2048>]], dtype=object)"
      ]
     },
     "execution_count": 493,
     "metadata": {},
     "output_type": "execute_result"
    },
    {
     "data": {
      "image/png": "[encoded data removed]",
      "text/plain": [
       "<matplotlib.figure.Figure at 0x1247db860>"
      ]
     },
     "metadata": {},
     "output_type": "display_data"
    }
   ],
   "source": [
    "dat = pd.read_csv(\"./data.csv\", header=None)\n",
    "dat.columns=[\"name\",\"time\",\"state\"]\n",
    "res = dat.pivot(\"time\",\"name\",\"state\")\n",
    "res.hist()"
   ]
  },
  {
   "cell_type": "markdown",
   "metadata": {},
   "source": [
    "# グラフを見て分析してみる\n",
    "\n",
    "- Brewing(コーヒーを淹れてもらっている状態) の最大は２なので、バリスタさんが２人を相手にコーヒーを淹れてるタイミングがある。１００前後なので１日の2割弱。\n",
    "- Waiting(先客がいて注文できていない状態)の最大は１、かつ１日のうちのごくわずか。\n",
    "\n",
    "３人もいてくれればほとんど待たずにコーヒーが飲める！！"
   ]
  },
  {
   "cell_type": "markdown",
   "metadata": {},
   "source": [
    "# さらに現実ぽくシナリオを組んでみる\n",
    "\n",
    "- 1単位時間を１分として営業時間の８時間＝60min x 8\n",
    "- 毎日行く人もいると思うけど全員ではない。FREQも１日０回〜2回のランダムで\n",
    "    - [NEW！！] 朝の１時間、昼休みの１時間はよりコーヒーを飲みたくなる\n",
    "- 社員数は３００人\n",
    "- バリスタさんは3人常駐してくれている。\n",
    "- [NEW!!] たまに仲間を１〜２人連れてコーヒーを買いに行く。\n"
   ]
  },
  {
   "cell_type": "code",
   "execution_count": 535,
   "metadata": {
    "collapsed": true
   },
   "outputs": [],
   "source": [
    "DATA_FILE = \"./data.csv\"\n",
    "\n",
    "# スタンドの前で\b待つ人のモニタリング\n",
    "def monitor(resource, env):\n",
    "    while True:\n",
    "        #log_simulation(\"Brewing,%d,%d\" % (resource._env.now, resource.count))\n",
    "        #log_simulation(\"Waiting,%d,%d\" % (resource._env.now, len(resource.queue)))\n",
    "        yield env.timeout(1)\n",
    "\n",
    "def log_simulation(m):\n",
    "    with open(DATA_FILE,\"a\") as f:\n",
    "        f.write(m+\"\\n\")\n",
    "\n",
    "def clear_datafile():\n",
    "    with open(DATA_FILE,\"w\") as f:\n",
    "        f.write(\"\")\n",
    "\n",
    "def is_morning(current_time):\n",
    "    return current_time > 0 and current_time < 24\n",
    "\n",
    "def is_after_lanch(current_time):\n",
    "    return current_time > 24*12 and current_time < 24*13\n",
    "\n",
    "class Person(object):\n",
    "    people = []\n",
    "    def __init__(self, env, name, freq):\n",
    "        self.env = env\n",
    "        self.name = name\n",
    "        self.freq = freq\n",
    "        self.accompanied = False\n",
    "\n",
    "    def is_need_to_go(self):\n",
    "        freq = self.freq\n",
    "        if is_morning(self.env.now):\n",
    "            freq = self.freq + 1\n",
    "\n",
    "        if is_after_lanch(self.env.now):\n",
    "            freq = self.freq + 1\n",
    "        \n",
    "        return np.random.randint(SIM_SIZE) < freq\n",
    "\n",
    "    def accompany_someone(self):\n",
    "        if self.accompanied:\n",
    "            return None  # すでに誘ったメンバー\n",
    "        for i in range(0, np.random.randint(2),1):\n",
    "            pid = np.random.randint(NUM_OF_PEOPLE)\n",
    "            self.people[pid].accompanied=True\n",
    "    \n",
    "    def run(self):\n",
    "        while True:\n",
    "            if self.is_need_to_go() or self.accompanied:\n",
    "                self.accompany_someone()\n",
    "                with coffee_garden.request() as req:\n",
    "                    yield req\n",
    "                    if self.accompanied:\n",
    "                        log_simulation(\"%s,%d,さそわれて。\" % (self.name, self.env.now))\n",
    "                    else:\n",
    "                        log_simulation(\"%s,%d,飲みに来た。\" % (self.name, self.env.now))\n",
    "                    yield self.env.timeout(2) # コーヒーを淹れる時間\n",
    "                    #log_simulation(\"%s,%d,おいしかった！！\" % (self.name, self.env.now))\n",
    "            self.accompanied = False\n",
    "            yield self.env.timeout(1)\n"
   ]
  },
  {
   "cell_type": "code",
   "execution_count": 551,
   "metadata": {
    "collapsed": false
   },
   "outputs": [],
   "source": [
    "SIM_SIZE = 60*8\n",
    "NUM_OF_PEOPLE = 300\n",
    "NUM_OF_BRISTA = 2\n",
    "FREQ_FOR_ACCOMPANY = 1\n",
    "\n",
    "def get_random_freq():\n",
    "    return np.random.randint(2)\n",
    "\n",
    "env = simpy.Environment()\n",
    "\n",
    "coffee_garden = simpy.Resource(env, NUM_OF_BRISTA)\n",
    "\n",
    "for name in [\"person_%03d\" % i for i in np.arange(0,NUM_OF_PEOPLE,1)]:\n",
    "    p = Person(env, name, get_random_freq())\n",
    "    Person.people.append(p)\n",
    "    env.process(p.run())\n",
    "\n",
    "env.process(monitor(coffee_garden, env))\n",
    "    \n",
    "clear_datafile()    \n",
    "env.run(until=SIM_SIZE)"
   ]
  },
  {
   "cell_type": "code",
   "execution_count": 552,
   "metadata": {
    "collapsed": true
   },
   "outputs": [],
   "source": [
    "from collections import Counter"
   ]
  },
  {
   "cell_type": "code",
   "execution_count": 553,
   "metadata": {
    "collapsed": false
   },
   "outputs": [
    {
     "data": {
      "text/plain": [
       "Counter({'飲みに来た。': 191})"
      ]
     },
     "execution_count": 553,
     "metadata": {},
     "output_type": "execute_result"
    }
   ],
   "source": [
    "dat = pd.read_csv(\"./data.csv\", header=None)\n",
    "dat.columns=[\"name\",\"time\",\"state\"]\n",
    "Counter(dat.state.values)\n",
    "#res = dat.pivot(\"time\",\"name\",\"state\")\n",
    "#res"
   ]
  },
  {
   "cell_type": "code",
   "execution_count": null,
   "metadata": {
    "collapsed": true
   },
   "outputs": [],
   "source": []
  }
 ],
 "metadata": {
  "kernelspec": {
   "display_name": "Python [Root]",
   "language": "python",
   "name": "Python [Root]"
  },
  "language_info": {
   "codemirror_mode": {
    "name": "ipython",
    "version": 3
   },
   "file_extension": ".py",
   "mimetype": "text/x-python",
   "name": "python",
   "nbconvert_exporter": "python",
   "pygments_lexer": "ipython3",
   "version": "3.5.2"
  }
 },
 "nbformat": 4,
 "nbformat_minor": 0
}

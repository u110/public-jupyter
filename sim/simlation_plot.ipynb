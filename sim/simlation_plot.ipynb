{
 "cells": [
  {
   "cell_type": "code",
   "execution_count": 45,
   "metadata": {
    "collapsed": true
   },
   "outputs": [],
   "source": [
    "import matplotlib.pyplot as plt\n",
    "import seaborn as sns\n",
    "import pandas as pd\n",
    "\n",
    "%matplotlib inline"
   ]
  },
  {
   "cell_type": "code",
   "execution_count": 46,
   "metadata": {
    "collapsed": false
   },
   "outputs": [],
   "source": [
    "dat = pd.read_csv(\"./out.tsv\",delimiter=\"\\t\", header=None)"
   ]
  },
  {
   "cell_type": "code",
   "execution_count": 47,
   "metadata": {
    "collapsed": false
   },
   "outputs": [
    {
     "data": {
      "text/html": [
       "<div>\n",
       "<table border=\"1\" class=\"dataframe\">\n",
       "  <thead>\n",
       "    <tr style=\"text-align: right;\">\n",
       "      <th></th>\n",
       "      <th>name</th>\n",
       "      <th>time</th>\n",
       "      <th>state</th>\n",
       "    </tr>\n",
       "  </thead>\n",
       "  <tbody>\n",
       "    <tr>\n",
       "      <th>0</th>\n",
       "      <td>Taro</td>\n",
       "      <td>0</td>\n",
       "      <td>コーヒー飲みたい！</td>\n",
       "    </tr>\n",
       "    <tr>\n",
       "      <th>1</th>\n",
       "      <td>Jiro</td>\n",
       "      <td>0</td>\n",
       "      <td>仕事しよ。。</td>\n",
       "    </tr>\n",
       "    <tr>\n",
       "      <th>2</th>\n",
       "      <td>Sabr</td>\n",
       "      <td>0</td>\n",
       "      <td>仕事しよ。。</td>\n",
       "    </tr>\n",
       "    <tr>\n",
       "      <th>3</th>\n",
       "      <td>Ciro</td>\n",
       "      <td>0</td>\n",
       "      <td>コーヒー飲みたい！</td>\n",
       "    </tr>\n",
       "    <tr>\n",
       "      <th>4</th>\n",
       "      <td>Dropping</td>\n",
       "      <td>0</td>\n",
       "      <td>2</td>\n",
       "    </tr>\n",
       "  </tbody>\n",
       "</table>\n",
       "</div>"
      ],
      "text/plain": [
       "       name  time      state\n",
       "0      Taro     0  コーヒー飲みたい！\n",
       "1      Jiro     0     仕事しよ。。\n",
       "2      Sabr     0     仕事しよ。。\n",
       "3      Ciro     0  コーヒー飲みたい！\n",
       "4  Dropping     0          2"
      ]
     },
     "execution_count": 47,
     "metadata": {},
     "output_type": "execute_result"
    }
   ],
   "source": [
    "dat.columns=[\"name\",\"time\",\"state\"]\n",
    "dat.head()"
   ]
  },
  {
   "cell_type": "code",
   "execution_count": 48,
   "metadata": {
    "collapsed": false
   },
   "outputs": [
    {
     "data": {
      "text/html": [
       "<div>\n",
       "<table border=\"1\" class=\"dataframe\">\n",
       "  <thead>\n",
       "    <tr>\n",
       "      <th></th>\n",
       "      <th colspan=\"6\" halign=\"left\">state</th>\n",
       "    </tr>\n",
       "    <tr>\n",
       "      <th>name</th>\n",
       "      <th>Ciro</th>\n",
       "      <th>Dropping</th>\n",
       "      <th>Jiro</th>\n",
       "      <th>Sabr</th>\n",
       "      <th>Taro</th>\n",
       "      <th>Waiting</th>\n",
       "    </tr>\n",
       "    <tr>\n",
       "      <th>time</th>\n",
       "      <th></th>\n",
       "      <th></th>\n",
       "      <th></th>\n",
       "      <th></th>\n",
       "      <th></th>\n",
       "      <th></th>\n",
       "    </tr>\n",
       "  </thead>\n",
       "  <tbody>\n",
       "    <tr>\n",
       "      <th>0</th>\n",
       "      <td>コーヒー飲みたい！</td>\n",
       "      <td>2</td>\n",
       "      <td>仕事しよ。。</td>\n",
       "      <td>仕事しよ。。</td>\n",
       "      <td>コーヒー飲みたい！</td>\n",
       "      <td>0</td>\n",
       "    </tr>\n",
       "    <tr>\n",
       "      <th>1</th>\n",
       "      <td>None</td>\n",
       "      <td>2</td>\n",
       "      <td>コーヒー飲みたい！</td>\n",
       "      <td>仕事しよ。。</td>\n",
       "      <td>None</td>\n",
       "      <td>1</td>\n",
       "    </tr>\n",
       "    <tr>\n",
       "      <th>2</th>\n",
       "      <td>None</td>\n",
       "      <td>2</td>\n",
       "      <td>None</td>\n",
       "      <td>コーヒー飲みたい！</td>\n",
       "      <td>None</td>\n",
       "      <td>2</td>\n",
       "    </tr>\n",
       "    <tr>\n",
       "      <th>3</th>\n",
       "      <td>コーヒー美味しい😊</td>\n",
       "      <td>0</td>\n",
       "      <td>None</td>\n",
       "      <td>None</td>\n",
       "      <td>コーヒー美味しい😊</td>\n",
       "      <td>2</td>\n",
       "    </tr>\n",
       "    <tr>\n",
       "      <th>4</th>\n",
       "      <td>仕事しよ。。</td>\n",
       "      <td>2</td>\n",
       "      <td>None</td>\n",
       "      <td>None</td>\n",
       "      <td>仕事しよ。。</td>\n",
       "      <td>0</td>\n",
       "    </tr>\n",
       "    <tr>\n",
       "      <th>5</th>\n",
       "      <td>仕事しよ。。</td>\n",
       "      <td>2</td>\n",
       "      <td>None</td>\n",
       "      <td>None</td>\n",
       "      <td>仕事しよ。。</td>\n",
       "      <td>0</td>\n",
       "    </tr>\n",
       "    <tr>\n",
       "      <th>6</th>\n",
       "      <td>仕事しよ。。</td>\n",
       "      <td>0</td>\n",
       "      <td>コーヒー美味しい😊</td>\n",
       "      <td>コーヒー美味しい😊</td>\n",
       "      <td>仕事しよ。。</td>\n",
       "      <td>0</td>\n",
       "    </tr>\n",
       "    <tr>\n",
       "      <th>7</th>\n",
       "      <td>仕事しよ。。</td>\n",
       "      <td>0</td>\n",
       "      <td>仕事しよ。。</td>\n",
       "      <td>仕事しよ。。</td>\n",
       "      <td>仕事しよ。。</td>\n",
       "      <td>0</td>\n",
       "    </tr>\n",
       "    <tr>\n",
       "      <th>8</th>\n",
       "      <td>仕事しよ。。</td>\n",
       "      <td>1</td>\n",
       "      <td>仕事しよ。。</td>\n",
       "      <td>仕事しよ。。</td>\n",
       "      <td>コーヒー飲みたい！</td>\n",
       "      <td>0</td>\n",
       "    </tr>\n",
       "    <tr>\n",
       "      <th>9</th>\n",
       "      <td>仕事しよ。。</td>\n",
       "      <td>1</td>\n",
       "      <td>仕事しよ。。</td>\n",
       "      <td>仕事しよ。。</td>\n",
       "      <td>None</td>\n",
       "      <td>0</td>\n",
       "    </tr>\n",
       "  </tbody>\n",
       "</table>\n",
       "</div>"
      ],
      "text/plain": [
       "          state                                                  \n",
       "name       Ciro Dropping       Jiro       Sabr       Taro Waiting\n",
       "time                                                             \n",
       "0     コーヒー飲みたい！        2     仕事しよ。。     仕事しよ。。  コーヒー飲みたい！       0\n",
       "1          None        2  コーヒー飲みたい！     仕事しよ。。       None       1\n",
       "2          None        2       None  コーヒー飲みたい！       None       2\n",
       "3     コーヒー美味しい😊        0       None       None  コーヒー美味しい😊       2\n",
       "4        仕事しよ。。        2       None       None     仕事しよ。。       0\n",
       "5        仕事しよ。。        2       None       None     仕事しよ。。       0\n",
       "6        仕事しよ。。        0  コーヒー美味しい😊  コーヒー美味しい😊     仕事しよ。。       0\n",
       "7        仕事しよ。。        0     仕事しよ。。     仕事しよ。。     仕事しよ。。       0\n",
       "8        仕事しよ。。        1     仕事しよ。。     仕事しよ。。  コーヒー飲みたい！       0\n",
       "9        仕事しよ。。        1     仕事しよ。。     仕事しよ。。       None       0"
      ]
     },
     "execution_count": 48,
     "metadata": {},
     "output_type": "execute_result"
    }
   ],
   "source": [
    "dat.pivot(\"time\", \"name\")"
   ]
  },
  {
   "cell_type": "code",
   "execution_count": null,
   "metadata": {
    "collapsed": false
   },
   "outputs": [],
   "source": []
  },
  {
   "cell_type": "code",
   "execution_count": null,
   "metadata": {
    "collapsed": true
   },
   "outputs": [],
   "source": []
  },
  {
   "cell_type": "code",
   "execution_count": null,
   "metadata": {
    "collapsed": true
   },
   "outputs": [],
   "source": []
  },
  {
   "cell_type": "code",
   "execution_count": null,
   "metadata": {
    "collapsed": true
   },
   "outputs": [],
   "source": []
  },
  {
   "cell_type": "code",
   "execution_count": null,
   "metadata": {
    "collapsed": true
   },
   "outputs": [],
   "source": []
  }
 ],
 "metadata": {
  "kernelspec": {
   "display_name": "Python [Root]",
   "language": "python",
   "name": "Python [Root]"
  },
  "language_info": {
   "codemirror_mode": {
    "name": "ipython",
    "version": 3
   },
   "file_extension": ".py",
   "mimetype": "text/x-python",
   "name": "python",
   "nbconvert_exporter": "python",
   "pygments_lexer": "ipython3",
   "version": "3.5.2"
  }
 },
 "nbformat": 4,
 "nbformat_minor": 0
}

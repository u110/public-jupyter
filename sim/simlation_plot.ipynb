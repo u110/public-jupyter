{
 "cells": [
  {
   "cell_type": "code",
   "execution_count": 6,
   "metadata": {
    "collapsed": true
   },
   "outputs": [],
   "source": [
    "import matplotlib.pyplot as plt\n",
    "import seaborn as sns\n",
    "import pandas as pd\n",
    "import numpy as np\n",
    "\n",
    "%matplotlib inline"
   ]
  },
  {
   "cell_type": "code",
   "execution_count": 7,
   "metadata": {
    "collapsed": true
   },
   "outputs": [],
   "source": [
    "import simpy"
   ]
  },
  {
   "cell_type": "code",
   "execution_count": 170,
   "metadata": {
    "collapsed": false
   },
   "outputs": [],
   "source": [
    "def log_simulation(m):\n",
    "    with open(\"./data.tsv\",\"a\") as f:\n",
    "        f.write(m+\"\\n\")\n",
    "\n",
    "\n",
    "class Person(object):\n",
    "    def __init__(self, name, env):\n",
    "        self.name = name\n",
    "        self.env = env\n",
    "\n",
    "    def is_need_to_go(self):\n",
    "        if np.random.rand() <= 1/(60*8*3) :\n",
    "                #log_simulation(\"%s\\t%2d\\tコーヒー飲みたい！\" % (self.name, self.env.now))\n",
    "                return True\n",
    "        else:\n",
    "                #log_simulation(\"%s\\t%2d\\t仕事しよ。。\" % (self.name, self.env.now))\n",
    "                return False\n",
    "\n",
    "    def run(self):\n",
    "        while True:\n",
    "            if self.is_need_to_go():\n",
    "                with coffee_garden.request() as req:\n",
    "                    yield req\n",
    "                    yield self.env.timeout(2)\n",
    "                    #log_simulation(\"%s\\t%2d\\tコーヒー美味しい😊\" % (self.name, self.env.now))\n",
    "            yield self.env.timeout(1)\n",
    "\n",
    "def monitor(resource, env):\n",
    "    while True:\n",
    "        log_simulation(\"淹れてもらってる\\t%2d\\t%2d\" % (resource._env.now, resource.count))\n",
    "        log_simulation(\"後ろに並んでる\\t%2d\\t%2d\" % (resource._env.now, len(resource.queue)))\n",
    "        yield env.timeout(1)"
   ]
  },
  {
   "cell_type": "code",
   "execution_count": 171,
   "metadata": {
    "collapsed": false
   },
   "outputs": [],
   "source": [
    "SIM_SIZE = 60*8 #8 * 60\n",
    "env = simpy.Environment()\n",
    "\n",
    "coffee_garden = simpy.Resource(env, 2)\n",
    "\n",
    "for name in [\"person_%03d\" % i for i in np.arange(0,300,1)]:\n",
    "    env.process(Person(name, env).run())\n",
    "\n",
    "env.process(monitor(coffee_garden, env))\n",
    "\n",
    "\n",
    "with open(\"./data.tsv\",\"w\") as f:\n",
    "    f.write(\"\\n\")\n",
    "        \n",
    "env.run(until=SIM_SIZE)"
   ]
  },
  {
   "cell_type": "code",
   "execution_count": 172,
   "metadata": {
    "collapsed": false
   },
   "outputs": [],
   "source": [
    "dat = pd.read_csv(\"./data.tsv\",delimiter=\"\\t\", header=None)"
   ]
  },
  {
   "cell_type": "code",
   "execution_count": 173,
   "metadata": {
    "collapsed": false
   },
   "outputs": [
    {
     "data": {
      "text/html": [
       "<div>\n",
       "<table border=\"1\" class=\"dataframe\">\n",
       "  <thead>\n",
       "    <tr style=\"text-align: right;\">\n",
       "      <th></th>\n",
       "      <th>name</th>\n",
       "      <th>time</th>\n",
       "      <th>state</th>\n",
       "    </tr>\n",
       "  </thead>\n",
       "  <tbody>\n",
       "    <tr>\n",
       "      <th>0</th>\n",
       "      <td>淹れてもらってる</td>\n",
       "      <td>0</td>\n",
       "      <td>0</td>\n",
       "    </tr>\n",
       "    <tr>\n",
       "      <th>1</th>\n",
       "      <td>後ろに並んでる</td>\n",
       "      <td>0</td>\n",
       "      <td>0</td>\n",
       "    </tr>\n",
       "    <tr>\n",
       "      <th>2</th>\n",
       "      <td>淹れてもらってる</td>\n",
       "      <td>1</td>\n",
       "      <td>0</td>\n",
       "    </tr>\n",
       "    <tr>\n",
       "      <th>3</th>\n",
       "      <td>後ろに並んでる</td>\n",
       "      <td>1</td>\n",
       "      <td>0</td>\n",
       "    </tr>\n",
       "    <tr>\n",
       "      <th>4</th>\n",
       "      <td>淹れてもらってる</td>\n",
       "      <td>2</td>\n",
       "      <td>0</td>\n",
       "    </tr>\n",
       "  </tbody>\n",
       "</table>\n",
       "</div>"
      ],
      "text/plain": [
       "       name  time  state\n",
       "0  淹れてもらってる     0      0\n",
       "1   後ろに並んでる     0      0\n",
       "2  淹れてもらってる     1      0\n",
       "3   後ろに並んでる     1      0\n",
       "4  淹れてもらってる     2      0"
      ]
     },
     "execution_count": 173,
     "metadata": {},
     "output_type": "execute_result"
    }
   ],
   "source": [
    "dat.columns=[\"name\",\"time\",\"state\"]\n",
    "dat.head()"
   ]
  },
  {
   "cell_type": "code",
   "execution_count": 174,
   "metadata": {
    "collapsed": false
   },
   "outputs": [
    {
     "data": {
      "text/plain": [
       "<matplotlib.axes._subplots.AxesSubplot at 0x120243400>"
      ]
     },
     "execution_count": 174,
     "metadata": {},
     "output_type": "execute_result"
    },
    {
     "data": {
      "image/png": "[encoded data removed]",
      "text/plain": [
       "<matplotlib.figure.Figure at 0x1202431d0>"
      ]
     },
     "metadata": {},
     "output_type": "display_data"
    }
   ],
   "source": [
    "dat.query(\"name=='淹れてもらってる' \").state.plot.hist(normed=True)"
   ]
  },
  {
   "cell_type": "code",
   "execution_count": 175,
   "metadata": {
    "collapsed": false
   },
   "outputs": [
    {
     "data": {
      "text/plain": [
       "<matplotlib.axes._subplots.AxesSubplot at 0x1200283c8>"
      ]
     },
     "execution_count": 175,
     "metadata": {},
     "output_type": "execute_result"
    },
    {
     "data": {
      "image/png": "[encoded data removed]",
      "text/plain": [
       "<matplotlib.figure.Figure at 0x11a2afb38>"
      ]
     },
     "metadata": {},
     "output_type": "display_data"
    }
   ],
   "source": [
    "dat.query(\"name=='後ろに並んでる' \").state.plot.hist(normed=True)"
   ]
  },
  {
   "cell_type": "code",
   "execution_count": null,
   "metadata": {
    "collapsed": true
   },
   "outputs": [],
   "source": []
  },
  {
   "cell_type": "code",
   "execution_count": null,
   "metadata": {
    "collapsed": true
   },
   "outputs": [],
   "source": []
  },
  {
   "cell_type": "code",
   "execution_count": null,
   "metadata": {
    "collapsed": true
   },
   "outputs": [],
   "source": []
  }
 ],
 "metadata": {
  "kernelspec": {
   "display_name": "Python [Root]",
   "language": "python",
   "name": "Python [Root]"
  },
  "language_info": {
   "codemirror_mode": {
    "name": "ipython",
    "version": 3
   },
   "file_extension": ".py",
   "mimetype": "text/x-python",
   "name": "python",
   "nbconvert_exporter": "python",
   "pygments_lexer": "ipython3",
   "version": "3.5.2"
  }
 },
 "nbformat": 4,
 "nbformat_minor": 0
}
